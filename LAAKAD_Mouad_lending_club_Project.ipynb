{
 "cells": [
  {
   "cell_type": "markdown",
   "id": "2eda424a",
   "metadata": {},
   "source": [
    "# I-Présentation de la problématique : Octroie de Crédit \n",
    "\n",
    "Lending Club est une société de prêt entre pairs basée aux États-Unis, dans laquelle les investisseurs fournissent des fonds aux emprunteurs potentiels et les investisseurs réalisent un profit en fonction du risque qu'ils prennent . Lending Club fournit le \"pont\" entre les investisseurs et les emprunteurs. Pour plus d'informations de base sur l'entreprise, veuillez consulter l'article de wikipedia sur l'entreprise : https://en.wikipedia.org/wiki/LendingClub\n",
    "\n",
    "L'objectif du projet est de construire une application qui permet de prédire Solvabilité des clients potentiels et ainsi décider Octroi des crédits et ceci en  suivant les étapes suivantes : \n",
    "- EDA : Analyse exploratoires des données d'anciens Clients\n",
    "- Data Preprocessing : Prétraitement des données pour préparation au modèle Machine Leanrning \n",
    "- Application de 10 Modèles de classification sur notre data \n",
    "- choix de 3 Modèles les plus Performants \n",
    "- Choix du Modèle Finale \n",
    "- Déploiement du Modèle via Streamlit en Local \n",
    "- Publication de l'application sur le Cloud (Heroku)"
   ]
  },
  {
   "cell_type": "code",
   "execution_count": 1,
   "id": "e47b178c",
   "metadata": {},
   "outputs": [],
   "source": [
    "import numpy as np\n",
    "import pandas as pd \n",
    "import matplotlib.pyplot as plt \n",
    "import seaborn as sns \n",
    "from datetime import datetime\n",
    "import time\n",
    "import pickle\n",
    "from sklearn.model_selection import train_test_split, StratifiedShuffleSplit\n",
    "# Classification models \n",
    "from sklearn.linear_model import LogisticRegression\n",
    "from sklearn.neighbors import KNeighborsClassifier\n",
    "from sklearn.tree import DecisionTreeClassifier\n",
    "from sklearn.svm import SVC\n",
    "from sklearn.naive_bayes import GaussianNB\n",
    "from sklearn.naive_bayes import MultinomialNB\n",
    "from sklearn.linear_model import SGDClassifier\n",
    "from sklearn.ensemble import RandomForestClassifier\n",
    "from sklearn.ensemble import GradientBoostingClassifier\n",
    "from sklearn.ensemble import AdaBoostClassifier\n",
    "\n",
    "from sklearn.metrics import classification_report, confusion_matrix,accuracy_score , f1_score ,roc_auc_score\n",
    "from sklearn.preprocessing import MinMaxScaler\n",
    "%matplotlib inline \n",
    "pd.set_option(\"display.max_columns\",None)\n",
    "from sklearn.model_selection import learning_curve\n",
    "\n",
    "import warnings\n",
    "warnings.filterwarnings('ignore')"
   ]
  },
  {
   "cell_type": "markdown",
   "id": "a0f17f53",
   "metadata": {},
   "source": [
    "# II-EDA :Exploratory Data Analysis"
   ]
  },
  {
   "cell_type": "code",
   "execution_count": 2,
   "id": "addfb526",
   "metadata": {},
   "outputs": [
    {
     "data": {
      "text/html": [
       "<div>\n",
       "<style scoped>\n",
       "    .dataframe tbody tr th:only-of-type {\n",
       "        vertical-align: middle;\n",
       "    }\n",
       "\n",
       "    .dataframe tbody tr th {\n",
       "        vertical-align: top;\n",
       "    }\n",
       "\n",
       "    .dataframe thead th {\n",
       "        text-align: right;\n",
       "    }\n",
       "</style>\n",
       "<table border=\"1\" class=\"dataframe\">\n",
       "  <thead>\n",
       "    <tr style=\"text-align: right;\">\n",
       "      <th></th>\n",
       "      <th>LoanStatNew</th>\n",
       "      <th>Description</th>\n",
       "    </tr>\n",
       "  </thead>\n",
       "  <tbody>\n",
       "    <tr>\n",
       "      <th>0</th>\n",
       "      <td>acc_now_delinq</td>\n",
       "      <td>The number of accounts on which the borrower i...</td>\n",
       "    </tr>\n",
       "    <tr>\n",
       "      <th>1</th>\n",
       "      <td>acc_open_past_24mths</td>\n",
       "      <td>Number of trades opened in past 24 months.</td>\n",
       "    </tr>\n",
       "    <tr>\n",
       "      <th>2</th>\n",
       "      <td>addr_state</td>\n",
       "      <td>The state provided by the borrower in the loan...</td>\n",
       "    </tr>\n",
       "    <tr>\n",
       "      <th>3</th>\n",
       "      <td>all_util</td>\n",
       "      <td>Balance to credit limit on all trades</td>\n",
       "    </tr>\n",
       "    <tr>\n",
       "      <th>4</th>\n",
       "      <td>annual_inc</td>\n",
       "      <td>The self-reported annual income provided by th...</td>\n",
       "    </tr>\n",
       "  </tbody>\n",
       "</table>\n",
       "</div>"
      ],
      "text/plain": [
       "            LoanStatNew                                        Description\n",
       "0        acc_now_delinq  The number of accounts on which the borrower i...\n",
       "1  acc_open_past_24mths         Number of trades opened in past 24 months.\n",
       "2            addr_state  The state provided by the borrower in the loan...\n",
       "3              all_util              Balance to credit limit on all trades\n",
       "4            annual_inc  The self-reported annual income provided by th..."
      ]
     },
     "execution_count": 2,
     "metadata": {},
     "output_type": "execute_result"
    }
   ],
   "source": [
    "desc=pd.read_csv(\"LCDataDictionary.csv\")\n",
    "desc.head()"
   ]
  },
  {
   "cell_type": "code",
   "execution_count": 3,
   "id": "2fd57031",
   "metadata": {},
   "outputs": [
    {
     "data": {
      "text/plain": [
       "(117, 2)"
      ]
     },
     "execution_count": 3,
     "metadata": {},
     "output_type": "execute_result"
    }
   ],
   "source": [
    "desc.shape"
   ]
  },
  {
   "cell_type": "code",
   "execution_count": 4,
   "id": "42b58347",
   "metadata": {},
   "outputs": [
    {
     "data": {
      "text/html": [
       "<div>\n",
       "<style scoped>\n",
       "    .dataframe tbody tr th:only-of-type {\n",
       "        vertical-align: middle;\n",
       "    }\n",
       "\n",
       "    .dataframe tbody tr th {\n",
       "        vertical-align: top;\n",
       "    }\n",
       "\n",
       "    .dataframe thead th {\n",
       "        text-align: right;\n",
       "    }\n",
       "</style>\n",
       "<table border=\"1\" class=\"dataframe\">\n",
       "  <thead>\n",
       "    <tr style=\"text-align: right;\">\n",
       "      <th></th>\n",
       "      <th>id</th>\n",
       "      <th>member_id</th>\n",
       "      <th>loan_amnt</th>\n",
       "      <th>funded_amnt</th>\n",
       "      <th>funded_amnt_inv</th>\n",
       "      <th>term</th>\n",
       "      <th>int_rate</th>\n",
       "      <th>installment</th>\n",
       "      <th>grade</th>\n",
       "      <th>sub_grade</th>\n",
       "      <th>emp_title</th>\n",
       "      <th>emp_length</th>\n",
       "      <th>home_ownership</th>\n",
       "      <th>annual_inc</th>\n",
       "      <th>verification_status</th>\n",
       "      <th>issue_d</th>\n",
       "      <th>loan_status</th>\n",
       "      <th>pymnt_plan</th>\n",
       "      <th>url</th>\n",
       "      <th>desc</th>\n",
       "      <th>purpose</th>\n",
       "      <th>title</th>\n",
       "      <th>zip_code</th>\n",
       "      <th>addr_state</th>\n",
       "      <th>dti</th>\n",
       "      <th>delinq_2yrs</th>\n",
       "      <th>earliest_cr_line</th>\n",
       "      <th>fico_range_low</th>\n",
       "      <th>fico_range_high</th>\n",
       "      <th>inq_last_6mths</th>\n",
       "      <th>mths_since_last_delinq</th>\n",
       "      <th>mths_since_last_record</th>\n",
       "      <th>open_acc</th>\n",
       "      <th>pub_rec</th>\n",
       "      <th>revol_bal</th>\n",
       "      <th>revol_util</th>\n",
       "      <th>total_acc</th>\n",
       "      <th>initial_list_status</th>\n",
       "      <th>out_prncp</th>\n",
       "      <th>out_prncp_inv</th>\n",
       "      <th>total_pymnt</th>\n",
       "      <th>total_pymnt_inv</th>\n",
       "      <th>total_rec_prncp</th>\n",
       "      <th>total_rec_int</th>\n",
       "      <th>total_rec_late_fee</th>\n",
       "      <th>recoveries</th>\n",
       "      <th>collection_recovery_fee</th>\n",
       "      <th>last_pymnt_d</th>\n",
       "      <th>last_pymnt_amnt</th>\n",
       "      <th>next_pymnt_d</th>\n",
       "      <th>last_credit_pull_d</th>\n",
       "      <th>last_fico_range_high</th>\n",
       "      <th>last_fico_range_low</th>\n",
       "      <th>collections_12_mths_ex_med</th>\n",
       "      <th>mths_since_last_major_derog</th>\n",
       "      <th>policy_code</th>\n",
       "      <th>application_type</th>\n",
       "      <th>annual_inc_joint</th>\n",
       "      <th>dti_joint</th>\n",
       "      <th>verification_status_joint</th>\n",
       "      <th>acc_now_delinq</th>\n",
       "      <th>tot_coll_amt</th>\n",
       "      <th>tot_cur_bal</th>\n",
       "      <th>open_acc_6m</th>\n",
       "      <th>open_il_6m</th>\n",
       "      <th>open_il_12m</th>\n",
       "      <th>open_il_24m</th>\n",
       "      <th>mths_since_rcnt_il</th>\n",
       "      <th>total_bal_il</th>\n",
       "      <th>il_util</th>\n",
       "      <th>open_rv_12m</th>\n",
       "      <th>open_rv_24m</th>\n",
       "      <th>max_bal_bc</th>\n",
       "      <th>all_util</th>\n",
       "      <th>total_rev_hi_lim</th>\n",
       "      <th>inq_fi</th>\n",
       "      <th>total_cu_tl</th>\n",
       "      <th>inq_last_12m</th>\n",
       "      <th>acc_open_past_24mths</th>\n",
       "      <th>avg_cur_bal</th>\n",
       "      <th>bc_open_to_buy</th>\n",
       "      <th>bc_util</th>\n",
       "      <th>chargeoff_within_12_mths</th>\n",
       "      <th>delinq_amnt</th>\n",
       "      <th>mo_sin_old_il_acct</th>\n",
       "      <th>mo_sin_old_rev_tl_op</th>\n",
       "      <th>mo_sin_rcnt_rev_tl_op</th>\n",
       "      <th>mo_sin_rcnt_tl</th>\n",
       "      <th>mort_acc</th>\n",
       "      <th>mths_since_recent_bc</th>\n",
       "      <th>mths_since_recent_bc_dlq</th>\n",
       "      <th>mths_since_recent_inq</th>\n",
       "      <th>mths_since_recent_revol_delinq</th>\n",
       "      <th>num_accts_ever_120_pd</th>\n",
       "      <th>num_actv_bc_tl</th>\n",
       "      <th>num_actv_rev_tl</th>\n",
       "      <th>num_bc_sats</th>\n",
       "      <th>num_bc_tl</th>\n",
       "      <th>num_il_tl</th>\n",
       "      <th>num_op_rev_tl</th>\n",
       "      <th>num_rev_accts</th>\n",
       "      <th>num_rev_tl_bal_gt_0</th>\n",
       "      <th>num_sats</th>\n",
       "      <th>num_tl_120dpd_2m</th>\n",
       "      <th>num_tl_30dpd</th>\n",
       "      <th>num_tl_90g_dpd_24m</th>\n",
       "      <th>num_tl_op_past_12m</th>\n",
       "      <th>pct_tl_nvr_dlq</th>\n",
       "      <th>percent_bc_gt_75</th>\n",
       "      <th>pub_rec_bankruptcies</th>\n",
       "      <th>tax_liens</th>\n",
       "      <th>tot_hi_cred_lim</th>\n",
       "      <th>total_bal_ex_mort</th>\n",
       "      <th>total_bc_limit</th>\n",
       "      <th>total_il_high_credit_limit</th>\n",
       "    </tr>\n",
       "  </thead>\n",
       "  <tbody>\n",
       "    <tr>\n",
       "      <th>0</th>\n",
       "      <td>1077501</td>\n",
       "      <td>1296599.0</td>\n",
       "      <td>5000.0</td>\n",
       "      <td>5000.0</td>\n",
       "      <td>4975.0</td>\n",
       "      <td>36 months</td>\n",
       "      <td>0.1065</td>\n",
       "      <td>162.87</td>\n",
       "      <td>B</td>\n",
       "      <td>B2</td>\n",
       "      <td>NaN</td>\n",
       "      <td>10+ years</td>\n",
       "      <td>RENT</td>\n",
       "      <td>24000.0</td>\n",
       "      <td>Verified</td>\n",
       "      <td>2011-12</td>\n",
       "      <td>Fully Paid</td>\n",
       "      <td>False</td>\n",
       "      <td>https://lendingclub.com/browse/loanDetail.acti...</td>\n",
       "      <td>Borrower added on 12/22/11 &gt; I need to upgra...</td>\n",
       "      <td>credit_card</td>\n",
       "      <td>Computer</td>\n",
       "      <td>860xx</td>\n",
       "      <td>AZ</td>\n",
       "      <td>27.65</td>\n",
       "      <td>0.0</td>\n",
       "      <td>1985-01</td>\n",
       "      <td>735.0</td>\n",
       "      <td>739.0</td>\n",
       "      <td>1.0</td>\n",
       "      <td>NaN</td>\n",
       "      <td>NaN</td>\n",
       "      <td>3.0</td>\n",
       "      <td>0.0</td>\n",
       "      <td>13648.0</td>\n",
       "      <td>0.837</td>\n",
       "      <td>9.0</td>\n",
       "      <td>False</td>\n",
       "      <td>0.0</td>\n",
       "      <td>0.0</td>\n",
       "      <td>5863.155187</td>\n",
       "      <td>5833.84</td>\n",
       "      <td>5000.00</td>\n",
       "      <td>863.16</td>\n",
       "      <td>0.0</td>\n",
       "      <td>0.00</td>\n",
       "      <td>0.00</td>\n",
       "      <td>2015-01</td>\n",
       "      <td>171.62</td>\n",
       "      <td>NaN</td>\n",
       "      <td>2016-09</td>\n",
       "      <td>744.0</td>\n",
       "      <td>740.0</td>\n",
       "      <td>False</td>\n",
       "      <td>NaN</td>\n",
       "      <td>True</td>\n",
       "      <td>INDIVIDUAL</td>\n",
       "      <td>NaN</td>\n",
       "      <td>NaN</td>\n",
       "      <td>NaN</td>\n",
       "      <td>False</td>\n",
       "      <td>NaN</td>\n",
       "      <td>NaN</td>\n",
       "      <td>NaN</td>\n",
       "      <td>NaN</td>\n",
       "      <td>NaN</td>\n",
       "      <td>NaN</td>\n",
       "      <td>NaN</td>\n",
       "      <td>NaN</td>\n",
       "      <td>NaN</td>\n",
       "      <td>NaN</td>\n",
       "      <td>NaN</td>\n",
       "      <td>NaN</td>\n",
       "      <td>NaN</td>\n",
       "      <td>NaN</td>\n",
       "      <td>NaN</td>\n",
       "      <td>NaN</td>\n",
       "      <td>NaN</td>\n",
       "      <td>NaN</td>\n",
       "      <td>NaN</td>\n",
       "      <td>NaN</td>\n",
       "      <td>NaN</td>\n",
       "      <td>False</td>\n",
       "      <td>0.0</td>\n",
       "      <td>NaN</td>\n",
       "      <td>NaN</td>\n",
       "      <td>NaN</td>\n",
       "      <td>NaN</td>\n",
       "      <td>NaN</td>\n",
       "      <td>NaN</td>\n",
       "      <td>NaN</td>\n",
       "      <td>NaN</td>\n",
       "      <td>NaN</td>\n",
       "      <td>NaN</td>\n",
       "      <td>NaN</td>\n",
       "      <td>NaN</td>\n",
       "      <td>NaN</td>\n",
       "      <td>NaN</td>\n",
       "      <td>NaN</td>\n",
       "      <td>NaN</td>\n",
       "      <td>NaN</td>\n",
       "      <td>NaN</td>\n",
       "      <td>NaN</td>\n",
       "      <td>NaN</td>\n",
       "      <td>NaN</td>\n",
       "      <td>NaN</td>\n",
       "      <td>NaN</td>\n",
       "      <td>NaN</td>\n",
       "      <td>NaN</td>\n",
       "      <td>0.0</td>\n",
       "      <td>False</td>\n",
       "      <td>NaN</td>\n",
       "      <td>NaN</td>\n",
       "      <td>NaN</td>\n",
       "      <td>NaN</td>\n",
       "    </tr>\n",
       "    <tr>\n",
       "      <th>1</th>\n",
       "      <td>1077430</td>\n",
       "      <td>1314167.0</td>\n",
       "      <td>2500.0</td>\n",
       "      <td>2500.0</td>\n",
       "      <td>2500.0</td>\n",
       "      <td>60 months</td>\n",
       "      <td>0.1527</td>\n",
       "      <td>59.83</td>\n",
       "      <td>C</td>\n",
       "      <td>C4</td>\n",
       "      <td>Ryder</td>\n",
       "      <td>&lt; 1 year</td>\n",
       "      <td>RENT</td>\n",
       "      <td>30000.0</td>\n",
       "      <td>Source Verified</td>\n",
       "      <td>2011-12</td>\n",
       "      <td>Charged Off</td>\n",
       "      <td>False</td>\n",
       "      <td>https://lendingclub.com/browse/loanDetail.acti...</td>\n",
       "      <td>Borrower added on 12/22/11 &gt; I plan to use t...</td>\n",
       "      <td>car</td>\n",
       "      <td>bike</td>\n",
       "      <td>309xx</td>\n",
       "      <td>GA</td>\n",
       "      <td>1.00</td>\n",
       "      <td>0.0</td>\n",
       "      <td>1999-04</td>\n",
       "      <td>740.0</td>\n",
       "      <td>744.0</td>\n",
       "      <td>5.0</td>\n",
       "      <td>NaN</td>\n",
       "      <td>NaN</td>\n",
       "      <td>3.0</td>\n",
       "      <td>0.0</td>\n",
       "      <td>1687.0</td>\n",
       "      <td>0.094</td>\n",
       "      <td>4.0</td>\n",
       "      <td>False</td>\n",
       "      <td>0.0</td>\n",
       "      <td>0.0</td>\n",
       "      <td>1008.710000</td>\n",
       "      <td>1008.71</td>\n",
       "      <td>456.46</td>\n",
       "      <td>435.17</td>\n",
       "      <td>0.0</td>\n",
       "      <td>117.08</td>\n",
       "      <td>1.11</td>\n",
       "      <td>2013-04</td>\n",
       "      <td>119.66</td>\n",
       "      <td>NaN</td>\n",
       "      <td>2016-09</td>\n",
       "      <td>499.0</td>\n",
       "      <td>0.0</td>\n",
       "      <td>False</td>\n",
       "      <td>NaN</td>\n",
       "      <td>True</td>\n",
       "      <td>INDIVIDUAL</td>\n",
       "      <td>NaN</td>\n",
       "      <td>NaN</td>\n",
       "      <td>NaN</td>\n",
       "      <td>False</td>\n",
       "      <td>NaN</td>\n",
       "      <td>NaN</td>\n",
       "      <td>NaN</td>\n",
       "      <td>NaN</td>\n",
       "      <td>NaN</td>\n",
       "      <td>NaN</td>\n",
       "      <td>NaN</td>\n",
       "      <td>NaN</td>\n",
       "      <td>NaN</td>\n",
       "      <td>NaN</td>\n",
       "      <td>NaN</td>\n",
       "      <td>NaN</td>\n",
       "      <td>NaN</td>\n",
       "      <td>NaN</td>\n",
       "      <td>NaN</td>\n",
       "      <td>NaN</td>\n",
       "      <td>NaN</td>\n",
       "      <td>NaN</td>\n",
       "      <td>NaN</td>\n",
       "      <td>NaN</td>\n",
       "      <td>NaN</td>\n",
       "      <td>False</td>\n",
       "      <td>0.0</td>\n",
       "      <td>NaN</td>\n",
       "      <td>NaN</td>\n",
       "      <td>NaN</td>\n",
       "      <td>NaN</td>\n",
       "      <td>NaN</td>\n",
       "      <td>NaN</td>\n",
       "      <td>NaN</td>\n",
       "      <td>NaN</td>\n",
       "      <td>NaN</td>\n",
       "      <td>NaN</td>\n",
       "      <td>NaN</td>\n",
       "      <td>NaN</td>\n",
       "      <td>NaN</td>\n",
       "      <td>NaN</td>\n",
       "      <td>NaN</td>\n",
       "      <td>NaN</td>\n",
       "      <td>NaN</td>\n",
       "      <td>NaN</td>\n",
       "      <td>NaN</td>\n",
       "      <td>NaN</td>\n",
       "      <td>NaN</td>\n",
       "      <td>NaN</td>\n",
       "      <td>NaN</td>\n",
       "      <td>NaN</td>\n",
       "      <td>NaN</td>\n",
       "      <td>0.0</td>\n",
       "      <td>False</td>\n",
       "      <td>NaN</td>\n",
       "      <td>NaN</td>\n",
       "      <td>NaN</td>\n",
       "      <td>NaN</td>\n",
       "    </tr>\n",
       "    <tr>\n",
       "      <th>2</th>\n",
       "      <td>1070078</td>\n",
       "      <td>1305201.0</td>\n",
       "      <td>6500.0</td>\n",
       "      <td>6500.0</td>\n",
       "      <td>6500.0</td>\n",
       "      <td>60 months</td>\n",
       "      <td>0.1465</td>\n",
       "      <td>153.45</td>\n",
       "      <td>C</td>\n",
       "      <td>C3</td>\n",
       "      <td>Southwest Rural metro</td>\n",
       "      <td>5 years</td>\n",
       "      <td>OWN</td>\n",
       "      <td>72000.0</td>\n",
       "      <td>Not Verified</td>\n",
       "      <td>2011-12</td>\n",
       "      <td>Fully Paid</td>\n",
       "      <td>False</td>\n",
       "      <td>https://lendingclub.com/browse/loanDetail.acti...</td>\n",
       "      <td>Borrower added on 12/15/11 &gt; I had recived a...</td>\n",
       "      <td>debt_consolidation</td>\n",
       "      <td>High intrest Consolidation</td>\n",
       "      <td>853xx</td>\n",
       "      <td>AZ</td>\n",
       "      <td>16.12</td>\n",
       "      <td>0.0</td>\n",
       "      <td>1998-01</td>\n",
       "      <td>695.0</td>\n",
       "      <td>699.0</td>\n",
       "      <td>2.0</td>\n",
       "      <td>NaN</td>\n",
       "      <td>NaN</td>\n",
       "      <td>14.0</td>\n",
       "      <td>0.0</td>\n",
       "      <td>4032.0</td>\n",
       "      <td>0.206</td>\n",
       "      <td>23.0</td>\n",
       "      <td>False</td>\n",
       "      <td>0.0</td>\n",
       "      <td>0.0</td>\n",
       "      <td>7678.017673</td>\n",
       "      <td>7678.02</td>\n",
       "      <td>6500.00</td>\n",
       "      <td>1178.02</td>\n",
       "      <td>0.0</td>\n",
       "      <td>0.00</td>\n",
       "      <td>0.00</td>\n",
       "      <td>2013-06</td>\n",
       "      <td>1655.54</td>\n",
       "      <td>NaN</td>\n",
       "      <td>2015-12</td>\n",
       "      <td>734.0</td>\n",
       "      <td>730.0</td>\n",
       "      <td>False</td>\n",
       "      <td>NaN</td>\n",
       "      <td>True</td>\n",
       "      <td>INDIVIDUAL</td>\n",
       "      <td>NaN</td>\n",
       "      <td>NaN</td>\n",
       "      <td>NaN</td>\n",
       "      <td>False</td>\n",
       "      <td>NaN</td>\n",
       "      <td>NaN</td>\n",
       "      <td>NaN</td>\n",
       "      <td>NaN</td>\n",
       "      <td>NaN</td>\n",
       "      <td>NaN</td>\n",
       "      <td>NaN</td>\n",
       "      <td>NaN</td>\n",
       "      <td>NaN</td>\n",
       "      <td>NaN</td>\n",
       "      <td>NaN</td>\n",
       "      <td>NaN</td>\n",
       "      <td>NaN</td>\n",
       "      <td>NaN</td>\n",
       "      <td>NaN</td>\n",
       "      <td>NaN</td>\n",
       "      <td>NaN</td>\n",
       "      <td>NaN</td>\n",
       "      <td>NaN</td>\n",
       "      <td>NaN</td>\n",
       "      <td>NaN</td>\n",
       "      <td>False</td>\n",
       "      <td>0.0</td>\n",
       "      <td>NaN</td>\n",
       "      <td>NaN</td>\n",
       "      <td>NaN</td>\n",
       "      <td>NaN</td>\n",
       "      <td>NaN</td>\n",
       "      <td>NaN</td>\n",
       "      <td>NaN</td>\n",
       "      <td>NaN</td>\n",
       "      <td>NaN</td>\n",
       "      <td>NaN</td>\n",
       "      <td>NaN</td>\n",
       "      <td>NaN</td>\n",
       "      <td>NaN</td>\n",
       "      <td>NaN</td>\n",
       "      <td>NaN</td>\n",
       "      <td>NaN</td>\n",
       "      <td>NaN</td>\n",
       "      <td>NaN</td>\n",
       "      <td>NaN</td>\n",
       "      <td>NaN</td>\n",
       "      <td>NaN</td>\n",
       "      <td>NaN</td>\n",
       "      <td>NaN</td>\n",
       "      <td>NaN</td>\n",
       "      <td>NaN</td>\n",
       "      <td>0.0</td>\n",
       "      <td>False</td>\n",
       "      <td>NaN</td>\n",
       "      <td>NaN</td>\n",
       "      <td>NaN</td>\n",
       "      <td>NaN</td>\n",
       "    </tr>\n",
       "  </tbody>\n",
       "</table>\n",
       "</div>"
      ],
      "text/plain": [
       "        id  member_id  loan_amnt  funded_amnt  funded_amnt_inv        term  \\\n",
       "0  1077501  1296599.0     5000.0       5000.0           4975.0   36 months   \n",
       "1  1077430  1314167.0     2500.0       2500.0           2500.0   60 months   \n",
       "2  1070078  1305201.0     6500.0       6500.0           6500.0   60 months   \n",
       "\n",
       "   int_rate  installment grade sub_grade              emp_title emp_length  \\\n",
       "0    0.1065       162.87     B        B2                    NaN  10+ years   \n",
       "1    0.1527        59.83     C        C4                  Ryder   < 1 year   \n",
       "2    0.1465       153.45     C        C3  Southwest Rural metro    5 years   \n",
       "\n",
       "  home_ownership  annual_inc verification_status  issue_d  loan_status  \\\n",
       "0           RENT     24000.0            Verified  2011-12   Fully Paid   \n",
       "1           RENT     30000.0     Source Verified  2011-12  Charged Off   \n",
       "2            OWN     72000.0        Not Verified  2011-12   Fully Paid   \n",
       "\n",
       "  pymnt_plan                                                url  \\\n",
       "0      False  https://lendingclub.com/browse/loanDetail.acti...   \n",
       "1      False  https://lendingclub.com/browse/loanDetail.acti...   \n",
       "2      False  https://lendingclub.com/browse/loanDetail.acti...   \n",
       "\n",
       "                                                desc             purpose  \\\n",
       "0    Borrower added on 12/22/11 > I need to upgra...         credit_card   \n",
       "1    Borrower added on 12/22/11 > I plan to use t...                 car   \n",
       "2    Borrower added on 12/15/11 > I had recived a...  debt_consolidation   \n",
       "\n",
       "                        title zip_code addr_state    dti  delinq_2yrs  \\\n",
       "0                    Computer    860xx         AZ  27.65          0.0   \n",
       "1                        bike    309xx         GA   1.00          0.0   \n",
       "2  High intrest Consolidation    853xx         AZ  16.12          0.0   \n",
       "\n",
       "  earliest_cr_line  fico_range_low  fico_range_high  inq_last_6mths  \\\n",
       "0          1985-01           735.0            739.0             1.0   \n",
       "1          1999-04           740.0            744.0             5.0   \n",
       "2          1998-01           695.0            699.0             2.0   \n",
       "\n",
       "   mths_since_last_delinq  mths_since_last_record  open_acc  pub_rec  \\\n",
       "0                     NaN                     NaN       3.0      0.0   \n",
       "1                     NaN                     NaN       3.0      0.0   \n",
       "2                     NaN                     NaN      14.0      0.0   \n",
       "\n",
       "   revol_bal  revol_util  total_acc initial_list_status  out_prncp  \\\n",
       "0    13648.0       0.837        9.0               False        0.0   \n",
       "1     1687.0       0.094        4.0               False        0.0   \n",
       "2     4032.0       0.206       23.0               False        0.0   \n",
       "\n",
       "   out_prncp_inv  total_pymnt  total_pymnt_inv  total_rec_prncp  \\\n",
       "0            0.0  5863.155187          5833.84          5000.00   \n",
       "1            0.0  1008.710000          1008.71           456.46   \n",
       "2            0.0  7678.017673          7678.02          6500.00   \n",
       "\n",
       "   total_rec_int  total_rec_late_fee  recoveries  collection_recovery_fee  \\\n",
       "0         863.16                 0.0        0.00                     0.00   \n",
       "1         435.17                 0.0      117.08                     1.11   \n",
       "2        1178.02                 0.0        0.00                     0.00   \n",
       "\n",
       "  last_pymnt_d  last_pymnt_amnt next_pymnt_d last_credit_pull_d  \\\n",
       "0      2015-01           171.62          NaN            2016-09   \n",
       "1      2013-04           119.66          NaN            2016-09   \n",
       "2      2013-06          1655.54          NaN            2015-12   \n",
       "\n",
       "   last_fico_range_high  last_fico_range_low collections_12_mths_ex_med  \\\n",
       "0                 744.0                740.0                      False   \n",
       "1                 499.0                  0.0                      False   \n",
       "2                 734.0                730.0                      False   \n",
       "\n",
       "   mths_since_last_major_derog policy_code application_type  annual_inc_joint  \\\n",
       "0                          NaN        True       INDIVIDUAL               NaN   \n",
       "1                          NaN        True       INDIVIDUAL               NaN   \n",
       "2                          NaN        True       INDIVIDUAL               NaN   \n",
       "\n",
       "   dti_joint  verification_status_joint acc_now_delinq  tot_coll_amt  \\\n",
       "0        NaN                        NaN          False           NaN   \n",
       "1        NaN                        NaN          False           NaN   \n",
       "2        NaN                        NaN          False           NaN   \n",
       "\n",
       "   tot_cur_bal  open_acc_6m  open_il_6m  open_il_12m  open_il_24m  \\\n",
       "0          NaN          NaN         NaN          NaN          NaN   \n",
       "1          NaN          NaN         NaN          NaN          NaN   \n",
       "2          NaN          NaN         NaN          NaN          NaN   \n",
       "\n",
       "   mths_since_rcnt_il  total_bal_il  il_util  open_rv_12m  open_rv_24m  \\\n",
       "0                 NaN           NaN      NaN          NaN          NaN   \n",
       "1                 NaN           NaN      NaN          NaN          NaN   \n",
       "2                 NaN           NaN      NaN          NaN          NaN   \n",
       "\n",
       "   max_bal_bc  all_util  total_rev_hi_lim  inq_fi  total_cu_tl  inq_last_12m  \\\n",
       "0         NaN       NaN               NaN     NaN          NaN           NaN   \n",
       "1         NaN       NaN               NaN     NaN          NaN           NaN   \n",
       "2         NaN       NaN               NaN     NaN          NaN           NaN   \n",
       "\n",
       "   acc_open_past_24mths  avg_cur_bal  bc_open_to_buy  bc_util  \\\n",
       "0                   NaN          NaN             NaN      NaN   \n",
       "1                   NaN          NaN             NaN      NaN   \n",
       "2                   NaN          NaN             NaN      NaN   \n",
       "\n",
       "  chargeoff_within_12_mths  delinq_amnt  mo_sin_old_il_acct  \\\n",
       "0                    False          0.0                 NaN   \n",
       "1                    False          0.0                 NaN   \n",
       "2                    False          0.0                 NaN   \n",
       "\n",
       "   mo_sin_old_rev_tl_op  mo_sin_rcnt_rev_tl_op  mo_sin_rcnt_tl  mort_acc  \\\n",
       "0                   NaN                    NaN             NaN       NaN   \n",
       "1                   NaN                    NaN             NaN       NaN   \n",
       "2                   NaN                    NaN             NaN       NaN   \n",
       "\n",
       "   mths_since_recent_bc  mths_since_recent_bc_dlq  mths_since_recent_inq  \\\n",
       "0                   NaN                       NaN                    NaN   \n",
       "1                   NaN                       NaN                    NaN   \n",
       "2                   NaN                       NaN                    NaN   \n",
       "\n",
       "   mths_since_recent_revol_delinq  num_accts_ever_120_pd  num_actv_bc_tl  \\\n",
       "0                             NaN                    NaN             NaN   \n",
       "1                             NaN                    NaN             NaN   \n",
       "2                             NaN                    NaN             NaN   \n",
       "\n",
       "   num_actv_rev_tl  num_bc_sats  num_bc_tl  num_il_tl  num_op_rev_tl  \\\n",
       "0              NaN          NaN        NaN        NaN            NaN   \n",
       "1              NaN          NaN        NaN        NaN            NaN   \n",
       "2              NaN          NaN        NaN        NaN            NaN   \n",
       "\n",
       "   num_rev_accts  num_rev_tl_bal_gt_0  num_sats  num_tl_120dpd_2m  \\\n",
       "0            NaN                  NaN       NaN               NaN   \n",
       "1            NaN                  NaN       NaN               NaN   \n",
       "2            NaN                  NaN       NaN               NaN   \n",
       "\n",
       "   num_tl_30dpd  num_tl_90g_dpd_24m  num_tl_op_past_12m  pct_tl_nvr_dlq  \\\n",
       "0           NaN                 NaN                 NaN             NaN   \n",
       "1           NaN                 NaN                 NaN             NaN   \n",
       "2           NaN                 NaN                 NaN             NaN   \n",
       "\n",
       "   percent_bc_gt_75  pub_rec_bankruptcies tax_liens  tot_hi_cred_lim  \\\n",
       "0               NaN                   0.0     False              NaN   \n",
       "1               NaN                   0.0     False              NaN   \n",
       "2               NaN                   0.0     False              NaN   \n",
       "\n",
       "   total_bal_ex_mort  total_bc_limit  total_il_high_credit_limit  \n",
       "0                NaN             NaN                         NaN  \n",
       "1                NaN             NaN                         NaN  \n",
       "2                NaN             NaN                         NaN  "
      ]
     },
     "execution_count": 4,
     "metadata": {},
     "output_type": "execute_result"
    }
   ],
   "source": [
    "data=pd.read_csv(\"lending-club-loan-data-2007-11-QueryResult.csv\")\n",
    "data.head(3)"
   ]
  },
  {
   "cell_type": "code",
   "execution_count": 5,
   "id": "b8c178a7",
   "metadata": {},
   "outputs": [
    {
     "data": {
      "text/plain": [
       "(42538, 115)"
      ]
     },
     "execution_count": 5,
     "metadata": {},
     "output_type": "execute_result"
    }
   ],
   "source": [
    "data.shape"
   ]
  },
  {
   "cell_type": "code",
   "execution_count": 6,
   "id": "ea2e9234",
   "metadata": {},
   "outputs": [
    {
     "data": {
      "image/png": "[encoded data removed]",
      "text/plain": [
       "<Figure size 1008x432 with 1 Axes>"
      ]
     },
     "metadata": {
      "needs_background": "light"
     },
     "output_type": "display_data"
    }
   ],
   "source": [
    "total = len(data)\n",
    "\n",
    "plt.figure(figsize = (14,6))\n",
    "\n",
    "g = sns.countplot(x=\"loan_status\", data=data, \n",
    "                  color='blue')\n",
    "g.set_xticklabels(g.get_xticklabels(),rotation=45)\n",
    "g.set_xlabel(\"Loan Status Categories\", fontsize=12)\n",
    "g.set_ylabel(\"Count\", fontsize=15)\n",
    "g.set_title(\"Loan Status Types Distribution\", fontsize=20)\n",
    "sizes=[]\n",
    "for p in g.patches:\n",
    "    height = p.get_height()\n",
    "    sizes.append(height)\n",
    "    g.text(p.get_x()+p.get_width()/2.,\n",
    "            height + 3,\n",
    "            '{:1.2f}%'.format(height/total*100),\n",
    "            ha=\"center\", fontsize=12) "
   ]
  },
  {
   "cell_type": "markdown",
   "id": "89c19760",
   "metadata": {},
   "source": [
    "#### Pour notre variable Target , Notre interêt portera surtout sur les valeurs : Fully Paid , Charged-off"
   ]
  },
  {
   "cell_type": "markdown",
   "id": "aaaec221",
   "metadata": {},
   "source": [
    "Notre étude est un sujet de classification pour prédir si un crédit sera payé(fully paid) or perdu( charged off)\n",
    "on procéde à la suppression des données qui concerne des crédit en cours (current)&(In grace periode)(on est pas certain s'il sera payé dans le futur)"
   ]
  },
  {
   "cell_type": "markdown",
   "id": "bd1d2c25",
   "metadata": {},
   "source": [
    "ce qui sont en retard du crédit a partir de 15 jours sont succeptibles de ne pas payer le crédit , car la période de grace(ne pas payer le montant mensuel pour une durée ne doit pas dépasser 15 jours)\n",
    "source :https://www.crowdfundinsider.com/2017/02/96585-lending-club-alters-grace-period-borrowers/"
   ]
  },
  {
   "cell_type": "code",
   "execution_count": 7,
   "id": "25baf8ad",
   "metadata": {},
   "outputs": [],
   "source": [
    "data[\"loan_status\"].replace(\"Does not meet the credit policy. Status:Charged Off\",\"Charged Off\",inplace=True)\n",
    "data[\"loan_status\"].replace(\"Does not meet the credit policy. Status:Fully Paid\",\"Fully Paid\",inplace=True)\n",
    "data[\"loan_status\"].replace(\"Late (31-120 days)\",\"Charged Off\",inplace=True)\n",
    "data[\"loan_status\"].replace(\"Late (16-30 days)\",\"Charged Off\",inplace=True)\n",
    "data[\"loan_status\"].replace(\"Default\",inplace=True)\n",
    "data=data[(data[\"loan_status\"]!=\"Current\")&(data[\"loan_status\"]!=\"In Grace Period\")]"
   ]
  },
  {
   "cell_type": "code",
   "execution_count": 8,
   "id": "2eb7e9be",
   "metadata": {},
   "outputs": [
    {
     "data": {
      "text/plain": [
       "<AxesSubplot:xlabel='loan_status', ylabel='count'>"
      ]
     },
     "execution_count": 8,
     "metadata": {},
     "output_type": "execute_result"
    },
    {
     "data": {
      "image/png": "[encoded data removed]",
      "text/plain": [
       "<Figure size 432x288 with 1 Axes>"
      ]
     },
     "metadata": {
      "needs_background": "light"
     },
     "output_type": "display_data"
    }
   ],
   "source": [
    "sns.countplot(data.loan_status)"
   ]
  },
  {
   "cell_type": "code",
   "execution_count": 9,
   "id": "e566fd02",
   "metadata": {},
   "outputs": [
    {
     "data": {
      "text/plain": [
       "[Text(0, 0, 'credit_card'),\n",
       " Text(1, 0, 'car'),\n",
       " Text(2, 0, 'debt_consolidation'),\n",
       " Text(3, 0, 'vacation'),\n",
       " Text(4, 0, 'moving'),\n",
       " Text(5, 0, 'medical'),\n",
       " Text(6, 0, 'other'),\n",
       " Text(7, 0, 'home_improvement'),\n",
       " Text(8, 0, 'major_purchase'),\n",
       " Text(9, 0, 'small_business'),\n",
       " Text(10, 0, 'wedding'),\n",
       " Text(11, 0, 'renewable_energy'),\n",
       " Text(12, 0, 'house'),\n",
       " Text(13, 0, 'educational')]"
      ]
     },
     "execution_count": 9,
     "metadata": {},
     "output_type": "execute_result"
    },
    {
     "data": {
      "image/png": "[encoded data removed]",
      "text/plain": [
       "<Figure size 1008x432 with 1 Axes>"
      ]
     },
     "metadata": {
      "needs_background": "light"
     },
     "output_type": "display_data"
    }
   ],
   "source": [
    "plt.figure(figsize=(14,6))\n",
    "\n",
    "g = sns.countplot(x='purpose', data=data ,\n",
    "                  color='blue')\n",
    "g.set_title(\"Client Purposes for Loan Credit\", fontsize=22)\n",
    "g.set_xlabel(\"Purpose Titles\", fontsize=18)\n",
    "g.set_ylabel('Count', fontsize=18)\n",
    "\n",
    "sizes=[]\n",
    "\n",
    "for p in g.patches:\n",
    "    height = p.get_height()\n",
    "    sizes.append(height)\n",
    "    g.text(p.get_x()+p.get_width()/2.,\n",
    "            height + 3,\n",
    "            '{:1.2f}%'.format(height/total*100),\n",
    "            ha=\"center\", fontsize=14) \n",
    "    \n",
    "g.set_ylim(0, max(sizes) * 1.10)\n",
    "g.set_xticklabels(g.get_xticklabels(),\n",
    "                  rotation=45)"
   ]
  },
  {
   "cell_type": "markdown",
   "id": "c8356819",
   "metadata": {},
   "source": [
    "Les Top 3 purposes are:\n",
    "\n",
    "- 45.5% sont dédiés au :Debt Consolidation\n",
    "\n",
    "- 12.74% pour payer les  Credit Card\n",
    "\n",
    "- 7.44% pour  Home Improvement\n",
    "\n",
    "- and les autres sont  34.32%"
   ]
  },
  {
   "cell_type": "code",
   "execution_count": 10,
   "id": "b8ed0942",
   "metadata": {},
   "outputs": [
    {
     "data": {
      "text/plain": [
       "<AxesSubplot:xlabel='loan_amnt', ylabel='Count'>"
      ]
     },
     "execution_count": 10,
     "metadata": {},
     "output_type": "execute_result"
    },
    {
     "data": {
      "image/png": "[encoded data removed]",
      "text/plain": [
       "<Figure size 864x288 with 1 Axes>"
      ]
     },
     "metadata": {
      "needs_background": "light"
     },
     "output_type": "display_data"
    }
   ],
   "source": [
    "plt.figure(figsize=(12,4))\n",
    "sns.histplot(data['loan_amnt'],bins=40,kde=True)"
   ]
  },
  {
   "cell_type": "code",
   "execution_count": 11,
   "id": "6c44bd0f",
   "metadata": {},
   "outputs": [
    {
     "data": {
      "text/plain": [
       "Text(0.5, 0, 'interest rate (%)')"
      ]
     },
     "execution_count": 11,
     "metadata": {},
     "output_type": "execute_result"
    },
    {
     "data": {
      "image/png": "[encoded data removed]",
      "text/plain": [
       "<Figure size 864x288 with 1 Axes>"
      ]
     },
     "metadata": {
      "needs_background": "light"
     },
     "output_type": "display_data"
    }
   ],
   "source": [
    "plt.figure(figsize=(12,4))\n",
    "sns.histplot(data['int_rate']*100,bins=40,kde=True)\n",
    "plt.xlabel('interest rate (%)')"
   ]
  },
  {
   "cell_type": "markdown",
   "id": "8cfffdac",
   "metadata": {},
   "source": [
    "- une grande partie des prêts sont des valeurs jusqu a 10.000 USD\n",
    "- une grande partie des taux d'intéret prêts et entre 7% et 15 %"
   ]
  },
  {
   "cell_type": "code",
   "execution_count": 12,
   "id": "37e9da61",
   "metadata": {},
   "outputs": [
    {
     "data": {
      "text/plain": [
       "<AxesSubplot:xlabel='loan_status', ylabel='loan_amnt'>"
      ]
     },
     "execution_count": 12,
     "metadata": {},
     "output_type": "execute_result"
    },
    {
     "data": {
      "image/png": "[encoded data removed]",
      "text/plain": [
       "<Figure size 432x288 with 1 Axes>"
      ]
     },
     "metadata": {
      "needs_background": "light"
     },
     "output_type": "display_data"
    }
   ],
   "source": [
    "# CODE HERE\n",
    "sns.boxplot(x='loan_status',y='loan_amnt',data=data)"
   ]
  },
  {
   "cell_type": "code",
   "execution_count": 13,
   "id": "d6b3043e",
   "metadata": {},
   "outputs": [
    {
     "data": {
      "text/plain": [
       "<AxesSubplot:xlabel='grade'>"
      ]
     },
     "execution_count": 13,
     "metadata": {},
     "output_type": "execute_result"
    },
    {
     "data": {
      "image/png": "[encoded data removed]",
      "text/plain": [
       "<Figure size 432x288 with 1 Axes>"
      ]
     },
     "metadata": {
      "needs_background": "light"
     },
     "output_type": "display_data"
    }
   ],
   "source": [
    "df_plot = data.groupby(['grade', 'loan_status']).size().reset_index().pivot(columns='loan_status', index='grade', values=0)\n",
    "df_plot['sum']=df_plot['Charged Off']+df_plot['Fully Paid']\n",
    "df_plot['Charged Off']=df_plot['Charged Off']/df_plot['sum']*100\n",
    "df_plot['Fully Paid']=df_plot['Fully Paid']/df_plot['sum']*100\n",
    "df_plot.drop('sum',axis=1,inplace=True)\n",
    "df_plot.plot(kind=\"bar\",stacked=True)"
   ]
  },
  {
   "cell_type": "markdown",
   "id": "844c635c",
   "metadata": {},
   "source": [
    "On remarque plus on diminue dans le grade , plus le risque de non solvabilité augmente "
   ]
  },
  {
   "cell_type": "markdown",
   "id": "000f637d",
   "metadata": {},
   "source": [
    "# III-Data Preprocessing : Prétraitement des données pour préparation au modèle Machine Leanrning"
   ]
  },
  {
   "cell_type": "markdown",
   "id": "c152031e",
   "metadata": {},
   "source": [
    "### 1-DATA Cleaning"
   ]
  },
  {
   "cell_type": "code",
   "execution_count": 14,
   "id": "3794c5d8",
   "metadata": {
    "scrolled": false
   },
   "outputs": [
    {
     "data": {
      "text/plain": [
       "<AxesSubplot:>"
      ]
     },
     "execution_count": 14,
     "metadata": {},
     "output_type": "execute_result"
    },
    {
     "data": {
      "image/png": "[encoded data removed]",
      "text/plain": [
       "<Figure size 432x288 with 2 Axes>"
      ]
     },
     "metadata": {
      "needs_background": "light"
     },
     "output_type": "display_data"
    }
   ],
   "source": [
    "sns.heatmap(data.isna(),cmap=\"viridis_r\")"
   ]
  },
  {
   "cell_type": "code",
   "execution_count": 15,
   "id": "d518b6e0",
   "metadata": {},
   "outputs": [
    {
     "data": {
      "text/html": [
       "<div>\n",
       "<style scoped>\n",
       "    .dataframe tbody tr th:only-of-type {\n",
       "        vertical-align: middle;\n",
       "    }\n",
       "\n",
       "    .dataframe tbody tr th {\n",
       "        vertical-align: top;\n",
       "    }\n",
       "\n",
       "    .dataframe thead th {\n",
       "        text-align: right;\n",
       "    }\n",
       "</style>\n",
       "<table border=\"1\" class=\"dataframe\">\n",
       "  <thead>\n",
       "    <tr style=\"text-align: right;\">\n",
       "      <th></th>\n",
       "      <th>index</th>\n",
       "      <th>0</th>\n",
       "    </tr>\n",
       "  </thead>\n",
       "  <tbody>\n",
       "    <tr>\n",
       "      <th>0</th>\n",
       "      <td>annual_inc_joint</td>\n",
       "      <td>42009</td>\n",
       "    </tr>\n",
       "    <tr>\n",
       "      <th>1</th>\n",
       "      <td>mo_sin_rcnt_rev_tl_op</td>\n",
       "      <td>42009</td>\n",
       "    </tr>\n",
       "    <tr>\n",
       "      <th>2</th>\n",
       "      <td>mo_sin_old_il_acct</td>\n",
       "      <td>42009</td>\n",
       "    </tr>\n",
       "    <tr>\n",
       "      <th>3</th>\n",
       "      <td>bc_util</td>\n",
       "      <td>42009</td>\n",
       "    </tr>\n",
       "    <tr>\n",
       "      <th>4</th>\n",
       "      <td>bc_open_to_buy</td>\n",
       "      <td>42009</td>\n",
       "    </tr>\n",
       "    <tr>\n",
       "      <th>...</th>\n",
       "      <td>...</td>\n",
       "      <td>...</td>\n",
       "    </tr>\n",
       "    <tr>\n",
       "      <th>110</th>\n",
       "      <td>last_pymnt_amnt</td>\n",
       "      <td>3</td>\n",
       "    </tr>\n",
       "    <tr>\n",
       "      <th>111</th>\n",
       "      <td>dti</td>\n",
       "      <td>3</td>\n",
       "    </tr>\n",
       "    <tr>\n",
       "      <th>112</th>\n",
       "      <td>addr_state</td>\n",
       "      <td>3</td>\n",
       "    </tr>\n",
       "    <tr>\n",
       "      <th>113</th>\n",
       "      <td>zip_code</td>\n",
       "      <td>3</td>\n",
       "    </tr>\n",
       "    <tr>\n",
       "      <th>114</th>\n",
       "      <td>id</td>\n",
       "      <td>0</td>\n",
       "    </tr>\n",
       "  </tbody>\n",
       "</table>\n",
       "<p>115 rows × 2 columns</p>\n",
       "</div>"
      ],
      "text/plain": [
       "                     index      0\n",
       "0         annual_inc_joint  42009\n",
       "1    mo_sin_rcnt_rev_tl_op  42009\n",
       "2       mo_sin_old_il_acct  42009\n",
       "3                  bc_util  42009\n",
       "4           bc_open_to_buy  42009\n",
       "..                     ...    ...\n",
       "110        last_pymnt_amnt      3\n",
       "111                    dti      3\n",
       "112             addr_state      3\n",
       "113               zip_code      3\n",
       "114                     id      0\n",
       "\n",
       "[115 rows x 2 columns]"
      ]
     },
     "execution_count": 15,
     "metadata": {},
     "output_type": "execute_result"
    }
   ],
   "source": [
    "data.isna().sum().sort_values(ascending=False).reset_index()"
   ]
  },
  {
   "cell_type": "code",
   "execution_count": 16,
   "id": "bb752722",
   "metadata": {},
   "outputs": [
    {
     "data": {
      "text/html": [
       "<div>\n",
       "<style scoped>\n",
       "    .dataframe tbody tr th:only-of-type {\n",
       "        vertical-align: middle;\n",
       "    }\n",
       "\n",
       "    .dataframe tbody tr th {\n",
       "        vertical-align: top;\n",
       "    }\n",
       "\n",
       "    .dataframe thead th {\n",
       "        text-align: right;\n",
       "    }\n",
       "</style>\n",
       "<table border=\"1\" class=\"dataframe\">\n",
       "  <thead>\n",
       "    <tr style=\"text-align: right;\">\n",
       "      <th></th>\n",
       "      <th>cols</th>\n",
       "      <th>nb nul values</th>\n",
       "    </tr>\n",
       "  </thead>\n",
       "  <tbody>\n",
       "    <tr>\n",
       "      <th>0</th>\n",
       "      <td>annual_inc_joint</td>\n",
       "      <td>42009</td>\n",
       "    </tr>\n",
       "    <tr>\n",
       "      <th>1</th>\n",
       "      <td>mo_sin_rcnt_rev_tl_op</td>\n",
       "      <td>42009</td>\n",
       "    </tr>\n",
       "    <tr>\n",
       "      <th>2</th>\n",
       "      <td>mo_sin_old_il_acct</td>\n",
       "      <td>42009</td>\n",
       "    </tr>\n",
       "    <tr>\n",
       "      <th>3</th>\n",
       "      <td>bc_util</td>\n",
       "      <td>42009</td>\n",
       "    </tr>\n",
       "    <tr>\n",
       "      <th>4</th>\n",
       "      <td>bc_open_to_buy</td>\n",
       "      <td>42009</td>\n",
       "    </tr>\n",
       "    <tr>\n",
       "      <th>5</th>\n",
       "      <td>avg_cur_bal</td>\n",
       "      <td>42009</td>\n",
       "    </tr>\n",
       "    <tr>\n",
       "      <th>6</th>\n",
       "      <td>acc_open_past_24mths</td>\n",
       "      <td>42009</td>\n",
       "    </tr>\n",
       "    <tr>\n",
       "      <th>7</th>\n",
       "      <td>inq_last_12m</td>\n",
       "      <td>42009</td>\n",
       "    </tr>\n",
       "    <tr>\n",
       "      <th>8</th>\n",
       "      <td>total_cu_tl</td>\n",
       "      <td>42009</td>\n",
       "    </tr>\n",
       "    <tr>\n",
       "      <th>9</th>\n",
       "      <td>inq_fi</td>\n",
       "      <td>42009</td>\n",
       "    </tr>\n",
       "    <tr>\n",
       "      <th>10</th>\n",
       "      <td>total_rev_hi_lim</td>\n",
       "      <td>42009</td>\n",
       "    </tr>\n",
       "    <tr>\n",
       "      <th>11</th>\n",
       "      <td>all_util</td>\n",
       "      <td>42009</td>\n",
       "    </tr>\n",
       "    <tr>\n",
       "      <th>12</th>\n",
       "      <td>max_bal_bc</td>\n",
       "      <td>42009</td>\n",
       "    </tr>\n",
       "    <tr>\n",
       "      <th>13</th>\n",
       "      <td>open_rv_24m</td>\n",
       "      <td>42009</td>\n",
       "    </tr>\n",
       "    <tr>\n",
       "      <th>14</th>\n",
       "      <td>open_rv_12m</td>\n",
       "      <td>42009</td>\n",
       "    </tr>\n",
       "    <tr>\n",
       "      <th>15</th>\n",
       "      <td>il_util</td>\n",
       "      <td>42009</td>\n",
       "    </tr>\n",
       "    <tr>\n",
       "      <th>16</th>\n",
       "      <td>total_bal_il</td>\n",
       "      <td>42009</td>\n",
       "    </tr>\n",
       "    <tr>\n",
       "      <th>17</th>\n",
       "      <td>mths_since_rcnt_il</td>\n",
       "      <td>42009</td>\n",
       "    </tr>\n",
       "    <tr>\n",
       "      <th>18</th>\n",
       "      <td>open_il_24m</td>\n",
       "      <td>42009</td>\n",
       "    </tr>\n",
       "    <tr>\n",
       "      <th>19</th>\n",
       "      <td>open_il_12m</td>\n",
       "      <td>42009</td>\n",
       "    </tr>\n",
       "    <tr>\n",
       "      <th>20</th>\n",
       "      <td>open_il_6m</td>\n",
       "      <td>42009</td>\n",
       "    </tr>\n",
       "    <tr>\n",
       "      <th>21</th>\n",
       "      <td>open_acc_6m</td>\n",
       "      <td>42009</td>\n",
       "    </tr>\n",
       "    <tr>\n",
       "      <th>22</th>\n",
       "      <td>tot_cur_bal</td>\n",
       "      <td>42009</td>\n",
       "    </tr>\n",
       "    <tr>\n",
       "      <th>23</th>\n",
       "      <td>tot_coll_amt</td>\n",
       "      <td>42009</td>\n",
       "    </tr>\n",
       "    <tr>\n",
       "      <th>24</th>\n",
       "      <td>verification_status_joint</td>\n",
       "      <td>42009</td>\n",
       "    </tr>\n",
       "    <tr>\n",
       "      <th>25</th>\n",
       "      <td>mo_sin_old_rev_tl_op</td>\n",
       "      <td>42009</td>\n",
       "    </tr>\n",
       "    <tr>\n",
       "      <th>26</th>\n",
       "      <td>mo_sin_rcnt_tl</td>\n",
       "      <td>42009</td>\n",
       "    </tr>\n",
       "    <tr>\n",
       "      <th>27</th>\n",
       "      <td>mths_since_last_major_derog</td>\n",
       "      <td>42009</td>\n",
       "    </tr>\n",
       "    <tr>\n",
       "      <th>28</th>\n",
       "      <td>mort_acc</td>\n",
       "      <td>42009</td>\n",
       "    </tr>\n",
       "    <tr>\n",
       "      <th>29</th>\n",
       "      <td>total_bc_limit</td>\n",
       "      <td>42009</td>\n",
       "    </tr>\n",
       "    <tr>\n",
       "      <th>30</th>\n",
       "      <td>total_bal_ex_mort</td>\n",
       "      <td>42009</td>\n",
       "    </tr>\n",
       "    <tr>\n",
       "      <th>31</th>\n",
       "      <td>tot_hi_cred_lim</td>\n",
       "      <td>42009</td>\n",
       "    </tr>\n",
       "    <tr>\n",
       "      <th>32</th>\n",
       "      <td>percent_bc_gt_75</td>\n",
       "      <td>42009</td>\n",
       "    </tr>\n",
       "    <tr>\n",
       "      <th>33</th>\n",
       "      <td>pct_tl_nvr_dlq</td>\n",
       "      <td>42009</td>\n",
       "    </tr>\n",
       "    <tr>\n",
       "      <th>34</th>\n",
       "      <td>num_tl_op_past_12m</td>\n",
       "      <td>42009</td>\n",
       "    </tr>\n",
       "    <tr>\n",
       "      <th>35</th>\n",
       "      <td>num_tl_90g_dpd_24m</td>\n",
       "      <td>42009</td>\n",
       "    </tr>\n",
       "    <tr>\n",
       "      <th>36</th>\n",
       "      <td>num_tl_30dpd</td>\n",
       "      <td>42009</td>\n",
       "    </tr>\n",
       "    <tr>\n",
       "      <th>37</th>\n",
       "      <td>num_tl_120dpd_2m</td>\n",
       "      <td>42009</td>\n",
       "    </tr>\n",
       "    <tr>\n",
       "      <th>38</th>\n",
       "      <td>num_sats</td>\n",
       "      <td>42009</td>\n",
       "    </tr>\n",
       "    <tr>\n",
       "      <th>39</th>\n",
       "      <td>num_rev_tl_bal_gt_0</td>\n",
       "      <td>42009</td>\n",
       "    </tr>\n",
       "    <tr>\n",
       "      <th>40</th>\n",
       "      <td>num_rev_accts</td>\n",
       "      <td>42009</td>\n",
       "    </tr>\n",
       "    <tr>\n",
       "      <th>41</th>\n",
       "      <td>num_op_rev_tl</td>\n",
       "      <td>42009</td>\n",
       "    </tr>\n",
       "    <tr>\n",
       "      <th>42</th>\n",
       "      <td>num_il_tl</td>\n",
       "      <td>42009</td>\n",
       "    </tr>\n",
       "    <tr>\n",
       "      <th>43</th>\n",
       "      <td>num_bc_tl</td>\n",
       "      <td>42009</td>\n",
       "    </tr>\n",
       "    <tr>\n",
       "      <th>44</th>\n",
       "      <td>num_bc_sats</td>\n",
       "      <td>42009</td>\n",
       "    </tr>\n",
       "    <tr>\n",
       "      <th>45</th>\n",
       "      <td>num_actv_rev_tl</td>\n",
       "      <td>42009</td>\n",
       "    </tr>\n",
       "    <tr>\n",
       "      <th>46</th>\n",
       "      <td>num_actv_bc_tl</td>\n",
       "      <td>42009</td>\n",
       "    </tr>\n",
       "    <tr>\n",
       "      <th>47</th>\n",
       "      <td>num_accts_ever_120_pd</td>\n",
       "      <td>42009</td>\n",
       "    </tr>\n",
       "    <tr>\n",
       "      <th>48</th>\n",
       "      <td>mths_since_recent_revol_delinq</td>\n",
       "      <td>42009</td>\n",
       "    </tr>\n",
       "    <tr>\n",
       "      <th>49</th>\n",
       "      <td>mths_since_recent_inq</td>\n",
       "      <td>42009</td>\n",
       "    </tr>\n",
       "    <tr>\n",
       "      <th>50</th>\n",
       "      <td>mths_since_recent_bc_dlq</td>\n",
       "      <td>42009</td>\n",
       "    </tr>\n",
       "    <tr>\n",
       "      <th>51</th>\n",
       "      <td>mths_since_recent_bc</td>\n",
       "      <td>42009</td>\n",
       "    </tr>\n",
       "    <tr>\n",
       "      <th>52</th>\n",
       "      <td>dti_joint</td>\n",
       "      <td>42009</td>\n",
       "    </tr>\n",
       "    <tr>\n",
       "      <th>53</th>\n",
       "      <td>total_il_high_credit_limit</td>\n",
       "      <td>42009</td>\n",
       "    </tr>\n",
       "  </tbody>\n",
       "</table>\n",
       "</div>"
      ],
      "text/plain": [
       "                              cols  nb nul values\n",
       "0                 annual_inc_joint          42009\n",
       "1            mo_sin_rcnt_rev_tl_op          42009\n",
       "2               mo_sin_old_il_acct          42009\n",
       "3                          bc_util          42009\n",
       "4                   bc_open_to_buy          42009\n",
       "5                      avg_cur_bal          42009\n",
       "6             acc_open_past_24mths          42009\n",
       "7                     inq_last_12m          42009\n",
       "8                      total_cu_tl          42009\n",
       "9                           inq_fi          42009\n",
       "10                total_rev_hi_lim          42009\n",
       "11                        all_util          42009\n",
       "12                      max_bal_bc          42009\n",
       "13                     open_rv_24m          42009\n",
       "14                     open_rv_12m          42009\n",
       "15                         il_util          42009\n",
       "16                    total_bal_il          42009\n",
       "17              mths_since_rcnt_il          42009\n",
       "18                     open_il_24m          42009\n",
       "19                     open_il_12m          42009\n",
       "20                      open_il_6m          42009\n",
       "21                     open_acc_6m          42009\n",
       "22                     tot_cur_bal          42009\n",
       "23                    tot_coll_amt          42009\n",
       "24       verification_status_joint          42009\n",
       "25            mo_sin_old_rev_tl_op          42009\n",
       "26                  mo_sin_rcnt_tl          42009\n",
       "27     mths_since_last_major_derog          42009\n",
       "28                        mort_acc          42009\n",
       "29                  total_bc_limit          42009\n",
       "30               total_bal_ex_mort          42009\n",
       "31                 tot_hi_cred_lim          42009\n",
       "32                percent_bc_gt_75          42009\n",
       "33                  pct_tl_nvr_dlq          42009\n",
       "34              num_tl_op_past_12m          42009\n",
       "35              num_tl_90g_dpd_24m          42009\n",
       "36                    num_tl_30dpd          42009\n",
       "37                num_tl_120dpd_2m          42009\n",
       "38                        num_sats          42009\n",
       "39             num_rev_tl_bal_gt_0          42009\n",
       "40                   num_rev_accts          42009\n",
       "41                   num_op_rev_tl          42009\n",
       "42                       num_il_tl          42009\n",
       "43                       num_bc_tl          42009\n",
       "44                     num_bc_sats          42009\n",
       "45                 num_actv_rev_tl          42009\n",
       "46                  num_actv_bc_tl          42009\n",
       "47           num_accts_ever_120_pd          42009\n",
       "48  mths_since_recent_revol_delinq          42009\n",
       "49           mths_since_recent_inq          42009\n",
       "50        mths_since_recent_bc_dlq          42009\n",
       "51            mths_since_recent_bc          42009\n",
       "52                       dti_joint          42009\n",
       "53      total_il_high_credit_limit          42009"
      ]
     },
     "execution_count": 16,
     "metadata": {},
     "output_type": "execute_result"
    }
   ],
   "source": [
    "# 54 colonnes toutes les valeurs sont NULL:\n",
    "nb_null=data.isna().sum().sort_values(ascending=False).reset_index()\n",
    "nb_null.columns=[\"cols\",\"nb nul values\"]\n",
    "nb_null[nb_null[\"nb nul values\"]==len(data)]"
   ]
  },
  {
   "cell_type": "code",
   "execution_count": 17,
   "id": "44cca223",
   "metadata": {},
   "outputs": [],
   "source": [
    "to_drop=nb_null[nb_null[\"nb nul values\"]==len(data)][\"cols\"]"
   ]
  },
  {
   "cell_type": "code",
   "execution_count": 18,
   "id": "fbbf6696",
   "metadata": {},
   "outputs": [
    {
     "data": {
      "text/plain": [
       "(42009, 61)"
      ]
     },
     "execution_count": 18,
     "metadata": {},
     "output_type": "execute_result"
    }
   ],
   "source": [
    "#Suppresion des colonnes ayant 100 %  de valeurs NULL :\n",
    "data1=data.drop(to_drop,axis=1)\n",
    "data1.shape"
   ]
  },
  {
   "cell_type": "code",
   "execution_count": 19,
   "id": "6a3c79bb",
   "metadata": {},
   "outputs": [
    {
     "data": {
      "text/plain": [
       "<AxesSubplot:>"
      ]
     },
     "execution_count": 19,
     "metadata": {},
     "output_type": "execute_result"
    },
    {
     "data": {
      "image/png": "[encoded data removed]",
      "text/plain": [
       "<Figure size 432x288 with 2 Axes>"
      ]
     },
     "metadata": {
      "needs_background": "light"
     },
     "output_type": "display_data"
    }
   ],
   "source": [
    "sns.heatmap(data1.isna(),cmap=\"viridis_r\")"
   ]
  },
  {
   "cell_type": "code",
   "execution_count": 20,
   "id": "386bfdce",
   "metadata": {},
   "outputs": [
    {
     "data": {
      "text/html": [
       "<div>\n",
       "<style scoped>\n",
       "    .dataframe tbody tr th:only-of-type {\n",
       "        vertical-align: middle;\n",
       "    }\n",
       "\n",
       "    .dataframe tbody tr th {\n",
       "        vertical-align: top;\n",
       "    }\n",
       "\n",
       "    .dataframe thead th {\n",
       "        text-align: right;\n",
       "    }\n",
       "</style>\n",
       "<table border=\"1\" class=\"dataframe\">\n",
       "  <thead>\n",
       "    <tr style=\"text-align: right;\">\n",
       "      <th></th>\n",
       "      <th>cols</th>\n",
       "      <th>nb nul values</th>\n",
       "    </tr>\n",
       "  </thead>\n",
       "  <tbody>\n",
       "    <tr>\n",
       "      <th>0</th>\n",
       "      <td>next_pymnt_d</td>\n",
       "      <td>39242</td>\n",
       "    </tr>\n",
       "    <tr>\n",
       "      <th>1</th>\n",
       "      <td>mths_since_last_record</td>\n",
       "      <td>38375</td>\n",
       "    </tr>\n",
       "    <tr>\n",
       "      <th>2</th>\n",
       "      <td>mths_since_last_delinq</td>\n",
       "      <td>26563</td>\n",
       "    </tr>\n",
       "    <tr>\n",
       "      <th>3</th>\n",
       "      <td>desc</td>\n",
       "      <td>13101</td>\n",
       "    </tr>\n",
       "    <tr>\n",
       "      <th>4</th>\n",
       "      <td>emp_title</td>\n",
       "      <td>2590</td>\n",
       "    </tr>\n",
       "    <tr>\n",
       "      <th>5</th>\n",
       "      <td>pub_rec_bankruptcies</td>\n",
       "      <td>1368</td>\n",
       "    </tr>\n",
       "    <tr>\n",
       "      <th>6</th>\n",
       "      <td>emp_length</td>\n",
       "      <td>1095</td>\n",
       "    </tr>\n",
       "    <tr>\n",
       "      <th>7</th>\n",
       "      <td>chargeoff_within_12_mths</td>\n",
       "      <td>148</td>\n",
       "    </tr>\n",
       "    <tr>\n",
       "      <th>8</th>\n",
       "      <td>collections_12_mths_ex_med</td>\n",
       "      <td>148</td>\n",
       "    </tr>\n",
       "    <tr>\n",
       "      <th>9</th>\n",
       "      <td>tax_liens</td>\n",
       "      <td>108</td>\n",
       "    </tr>\n",
       "  </tbody>\n",
       "</table>\n",
       "</div>"
      ],
      "text/plain": [
       "                         cols  nb nul values\n",
       "0                next_pymnt_d          39242\n",
       "1      mths_since_last_record          38375\n",
       "2      mths_since_last_delinq          26563\n",
       "3                        desc          13101\n",
       "4                   emp_title           2590\n",
       "5        pub_rec_bankruptcies           1368\n",
       "6                  emp_length           1095\n",
       "7    chargeoff_within_12_mths            148\n",
       "8  collections_12_mths_ex_med            148\n",
       "9                   tax_liens            108"
      ]
     },
     "execution_count": 20,
     "metadata": {},
     "output_type": "execute_result"
    }
   ],
   "source": [
    "nb_null=data1.isna().sum().sort_values(ascending=False).reset_index()\n",
    "nb_null.columns=[\"cols\",\"nb nul values\"]\n",
    "nb_null.head(10)"
   ]
  },
  {
   "cell_type": "code",
   "execution_count": 21,
   "id": "ec64dfe8",
   "metadata": {
    "scrolled": true
   },
   "outputs": [
    {
     "data": {
      "text/plain": [
       "420.09000000000003"
      ]
     },
     "execution_count": 21,
     "metadata": {},
     "output_type": "execute_result"
    }
   ],
   "source": [
    "0.01*len(data)"
   ]
  },
  {
   "cell_type": "code",
   "execution_count": 22,
   "id": "f7c86f11",
   "metadata": {},
   "outputs": [
    {
     "data": {
      "text/plain": [
       "(42009, 54)"
      ]
     },
     "execution_count": 22,
     "metadata": {},
     "output_type": "execute_result"
    }
   ],
   "source": [
    "# On supprime les données ayant + que 1% de données Null par colonnes :\n",
    "to_drop=nb_null[nb_null[\"nb nul values\"]>=0.01*len(data1)][\"cols\"]\n",
    "data2=data1.drop(to_drop,axis=1)\n",
    "data2.shape"
   ]
  },
  {
   "cell_type": "code",
   "execution_count": 23,
   "id": "0a05ee0f",
   "metadata": {},
   "outputs": [
    {
     "data": {
      "text/plain": [
       "<AxesSubplot:>"
      ]
     },
     "execution_count": 23,
     "metadata": {},
     "output_type": "execute_result"
    },
    {
     "data": {
      "image/png": "[encoded data removed]",
      "text/plain": [
       "<Figure size 432x288 with 2 Axes>"
      ]
     },
     "metadata": {
      "needs_background": "light"
     },
     "output_type": "display_data"
    }
   ],
   "source": [
    "sns.heatmap(data2.isna(),cmap=\"viridis_r\")"
   ]
  },
  {
   "cell_type": "code",
   "execution_count": 24,
   "id": "04613b51",
   "metadata": {},
   "outputs": [
    {
     "data": {
      "text/html": [
       "<div>\n",
       "<style scoped>\n",
       "    .dataframe tbody tr th:only-of-type {\n",
       "        vertical-align: middle;\n",
       "    }\n",
       "\n",
       "    .dataframe tbody tr th {\n",
       "        vertical-align: top;\n",
       "    }\n",
       "\n",
       "    .dataframe thead th {\n",
       "        text-align: right;\n",
       "    }\n",
       "</style>\n",
       "<table border=\"1\" class=\"dataframe\">\n",
       "  <thead>\n",
       "    <tr style=\"text-align: right;\">\n",
       "      <th></th>\n",
       "      <th>cols</th>\n",
       "      <th>nb nul values</th>\n",
       "    </tr>\n",
       "  </thead>\n",
       "  <tbody>\n",
       "    <tr>\n",
       "      <th>0</th>\n",
       "      <td>chargeoff_within_12_mths</td>\n",
       "      <td>148</td>\n",
       "    </tr>\n",
       "    <tr>\n",
       "      <th>1</th>\n",
       "      <td>collections_12_mths_ex_med</td>\n",
       "      <td>148</td>\n",
       "    </tr>\n",
       "    <tr>\n",
       "      <th>2</th>\n",
       "      <td>tax_liens</td>\n",
       "      <td>108</td>\n",
       "    </tr>\n",
       "    <tr>\n",
       "      <th>3</th>\n",
       "      <td>revol_util</td>\n",
       "      <td>93</td>\n",
       "    </tr>\n",
       "    <tr>\n",
       "      <th>4</th>\n",
       "      <td>last_pymnt_d</td>\n",
       "      <td>86</td>\n",
       "    </tr>\n",
       "    <tr>\n",
       "      <th>5</th>\n",
       "      <td>delinq_2yrs</td>\n",
       "      <td>32</td>\n",
       "    </tr>\n",
       "    <tr>\n",
       "      <th>6</th>\n",
       "      <td>delinq_amnt</td>\n",
       "      <td>32</td>\n",
       "    </tr>\n",
       "    <tr>\n",
       "      <th>7</th>\n",
       "      <td>acc_now_delinq</td>\n",
       "      <td>32</td>\n",
       "    </tr>\n",
       "    <tr>\n",
       "      <th>8</th>\n",
       "      <td>total_acc</td>\n",
       "      <td>32</td>\n",
       "    </tr>\n",
       "    <tr>\n",
       "      <th>9</th>\n",
       "      <td>pub_rec</td>\n",
       "      <td>32</td>\n",
       "    </tr>\n",
       "  </tbody>\n",
       "</table>\n",
       "</div>"
      ],
      "text/plain": [
       "                         cols  nb nul values\n",
       "0    chargeoff_within_12_mths            148\n",
       "1  collections_12_mths_ex_med            148\n",
       "2                   tax_liens            108\n",
       "3                  revol_util             93\n",
       "4                last_pymnt_d             86\n",
       "5                 delinq_2yrs             32\n",
       "6                 delinq_amnt             32\n",
       "7              acc_now_delinq             32\n",
       "8                   total_acc             32\n",
       "9                     pub_rec             32"
      ]
     },
     "execution_count": 24,
     "metadata": {},
     "output_type": "execute_result"
    }
   ],
   "source": [
    "nb_null=data2.isna().sum().sort_values(ascending=False).reset_index()\n",
    "nb_null.columns=[\"cols\",\"nb nul values\"]\n",
    "nb_null.head(10)"
   ]
  },
  {
   "cell_type": "code",
   "execution_count": 25,
   "id": "fcead346",
   "metadata": {},
   "outputs": [
    {
     "data": {
      "text/html": [
       "<div>\n",
       "<style scoped>\n",
       "    .dataframe tbody tr th:only-of-type {\n",
       "        vertical-align: middle;\n",
       "    }\n",
       "\n",
       "    .dataframe tbody tr th {\n",
       "        vertical-align: top;\n",
       "    }\n",
       "\n",
       "    .dataframe thead th {\n",
       "        text-align: right;\n",
       "    }\n",
       "</style>\n",
       "<table border=\"1\" class=\"dataframe\">\n",
       "  <thead>\n",
       "    <tr style=\"text-align: right;\">\n",
       "      <th></th>\n",
       "      <th>LoanStatNew</th>\n",
       "      <th>Description</th>\n",
       "    </tr>\n",
       "  </thead>\n",
       "  <tbody>\n",
       "    <tr>\n",
       "      <th>10</th>\n",
       "      <td>chargeoff_within_12_mths</td>\n",
       "      <td>Number of charge-offs within 12 months</td>\n",
       "    </tr>\n",
       "  </tbody>\n",
       "</table>\n",
       "</div>"
      ],
      "text/plain": [
       "                 LoanStatNew                             Description\n",
       "10  chargeoff_within_12_mths  Number of charge-offs within 12 months"
      ]
     },
     "execution_count": 25,
     "metadata": {},
     "output_type": "execute_result"
    }
   ],
   "source": [
    "desc[desc[\"LoanStatNew\"]==\"chargeoff_within_12_mths\"]"
   ]
  },
  {
   "cell_type": "code",
   "execution_count": 26,
   "id": "2f9c09c7",
   "metadata": {},
   "outputs": [
    {
     "data": {
      "text/plain": [
       "42009"
      ]
     },
     "execution_count": 26,
     "metadata": {},
     "output_type": "execute_result"
    }
   ],
   "source": [
    "len(data2)"
   ]
  },
  {
   "cell_type": "code",
   "execution_count": 27,
   "id": "60c9cfcc",
   "metadata": {},
   "outputs": [
    {
     "name": "stdout",
     "output_type": "stream",
     "text": [
      "unique values\n",
      "[False nan]\n",
      "nb par valeurs\n",
      "False    41861\n",
      "Name: chargeoff_within_12_mths, dtype: int64\n"
     ]
    }
   ],
   "source": [
    "# Valeurs comprises dans la colonne chargeoff_within_12_mths\n",
    "print(\"unique values\")\n",
    "print(data2[\"chargeoff_within_12_mths\"].unique())\n",
    "print(\"nb par valeurs\")\n",
    "print(data2[\"chargeoff_within_12_mths\"].value_counts())"
   ]
  },
  {
   "cell_type": "code",
   "execution_count": 28,
   "id": "cf5ef841",
   "metadata": {},
   "outputs": [
    {
     "data": {
      "text/html": [
       "<div>\n",
       "<style scoped>\n",
       "    .dataframe tbody tr th:only-of-type {\n",
       "        vertical-align: middle;\n",
       "    }\n",
       "\n",
       "    .dataframe tbody tr th {\n",
       "        vertical-align: top;\n",
       "    }\n",
       "\n",
       "    .dataframe thead th {\n",
       "        text-align: right;\n",
       "    }\n",
       "</style>\n",
       "<table border=\"1\" class=\"dataframe\">\n",
       "  <thead>\n",
       "    <tr style=\"text-align: right;\">\n",
       "      <th></th>\n",
       "      <th>LoanStatNew</th>\n",
       "      <th>Description</th>\n",
       "    </tr>\n",
       "  </thead>\n",
       "  <tbody>\n",
       "    <tr>\n",
       "      <th>12</th>\n",
       "      <td>collections_12_mths_ex_med</td>\n",
       "      <td>Number of collections in 12 months excluding m...</td>\n",
       "    </tr>\n",
       "  </tbody>\n",
       "</table>\n",
       "</div>"
      ],
      "text/plain": [
       "                   LoanStatNew  \\\n",
       "12  collections_12_mths_ex_med   \n",
       "\n",
       "                                          Description  \n",
       "12  Number of collections in 12 months excluding m...  "
      ]
     },
     "execution_count": 28,
     "metadata": {},
     "output_type": "execute_result"
    }
   ],
   "source": [
    "desc[desc[\"LoanStatNew\"]==\"collections_12_mths_ex_med\"]"
   ]
  },
  {
   "cell_type": "code",
   "execution_count": 29,
   "id": "29476bb6",
   "metadata": {},
   "outputs": [
    {
     "name": "stdout",
     "output_type": "stream",
     "text": [
      "unique values\n",
      "[False nan]\n",
      "nb par valeurs\n",
      "False    41861\n",
      "Name: collections_12_mths_ex_med, dtype: int64\n"
     ]
    }
   ],
   "source": [
    "# Valeurs comprises dans la colonne chargeoff_within_12_med\n",
    "print(\"unique values\")\n",
    "print(data2[\"collections_12_mths_ex_med\"].unique())\n",
    "print(\"nb par valeurs\")\n",
    "print(data2[\"collections_12_mths_ex_med\"].value_counts())"
   ]
  },
  {
   "cell_type": "markdown",
   "id": "537e827e",
   "metadata": {},
   "source": [
    "#### On remarque que pour les 2 colonnes , la majorité des valeurs sont False  , si  on remplie les autres colonnes avec false , ca ne donnera aucune information pour notre projet de classification "
   ]
  },
  {
   "cell_type": "code",
   "execution_count": 30,
   "id": "87b93d4e",
   "metadata": {},
   "outputs": [],
   "source": [
    "data2=data2.drop(\"collections_12_mths_ex_med\",axis=1)\n",
    "data2=data2.drop(\"chargeoff_within_12_mths\",axis=1)"
   ]
  },
  {
   "cell_type": "code",
   "execution_count": 31,
   "id": "21ce5fc6",
   "metadata": {},
   "outputs": [
    {
     "data": {
      "text/html": [
       "<div>\n",
       "<style scoped>\n",
       "    .dataframe tbody tr th:only-of-type {\n",
       "        vertical-align: middle;\n",
       "    }\n",
       "\n",
       "    .dataframe tbody tr th {\n",
       "        vertical-align: top;\n",
       "    }\n",
       "\n",
       "    .dataframe thead th {\n",
       "        text-align: right;\n",
       "    }\n",
       "</style>\n",
       "<table border=\"1\" class=\"dataframe\">\n",
       "  <thead>\n",
       "    <tr style=\"text-align: right;\">\n",
       "      <th></th>\n",
       "      <th>cols</th>\n",
       "      <th>nb nul values</th>\n",
       "    </tr>\n",
       "  </thead>\n",
       "  <tbody>\n",
       "    <tr>\n",
       "      <th>0</th>\n",
       "      <td>tax_liens</td>\n",
       "      <td>108</td>\n",
       "    </tr>\n",
       "    <tr>\n",
       "      <th>1</th>\n",
       "      <td>revol_util</td>\n",
       "      <td>93</td>\n",
       "    </tr>\n",
       "    <tr>\n",
       "      <th>2</th>\n",
       "      <td>last_pymnt_d</td>\n",
       "      <td>86</td>\n",
       "    </tr>\n",
       "    <tr>\n",
       "      <th>3</th>\n",
       "      <td>delinq_2yrs</td>\n",
       "      <td>32</td>\n",
       "    </tr>\n",
       "    <tr>\n",
       "      <th>4</th>\n",
       "      <td>delinq_amnt</td>\n",
       "      <td>32</td>\n",
       "    </tr>\n",
       "    <tr>\n",
       "      <th>5</th>\n",
       "      <td>acc_now_delinq</td>\n",
       "      <td>32</td>\n",
       "    </tr>\n",
       "    <tr>\n",
       "      <th>6</th>\n",
       "      <td>total_acc</td>\n",
       "      <td>32</td>\n",
       "    </tr>\n",
       "    <tr>\n",
       "      <th>7</th>\n",
       "      <td>pub_rec</td>\n",
       "      <td>32</td>\n",
       "    </tr>\n",
       "    <tr>\n",
       "      <th>8</th>\n",
       "      <td>open_acc</td>\n",
       "      <td>32</td>\n",
       "    </tr>\n",
       "    <tr>\n",
       "      <th>9</th>\n",
       "      <td>earliest_cr_line</td>\n",
       "      <td>32</td>\n",
       "    </tr>\n",
       "  </tbody>\n",
       "</table>\n",
       "</div>"
      ],
      "text/plain": [
       "               cols  nb nul values\n",
       "0         tax_liens            108\n",
       "1        revol_util             93\n",
       "2      last_pymnt_d             86\n",
       "3       delinq_2yrs             32\n",
       "4       delinq_amnt             32\n",
       "5    acc_now_delinq             32\n",
       "6         total_acc             32\n",
       "7           pub_rec             32\n",
       "8          open_acc             32\n",
       "9  earliest_cr_line             32"
      ]
     },
     "execution_count": 31,
     "metadata": {},
     "output_type": "execute_result"
    }
   ],
   "source": [
    "nb_null=data2.isna().sum().sort_values(ascending=False).reset_index()\n",
    "nb_null.columns=[\"cols\",\"nb nul values\"]\n",
    "nb_null.head(10)"
   ]
  },
  {
   "cell_type": "code",
   "execution_count": 32,
   "id": "ddb903e4",
   "metadata": {},
   "outputs": [
    {
     "data": {
      "text/html": [
       "<div>\n",
       "<style scoped>\n",
       "    .dataframe tbody tr th:only-of-type {\n",
       "        vertical-align: middle;\n",
       "    }\n",
       "\n",
       "    .dataframe tbody tr th {\n",
       "        vertical-align: top;\n",
       "    }\n",
       "\n",
       "    .dataframe thead th {\n",
       "        text-align: right;\n",
       "    }\n",
       "</style>\n",
       "<table border=\"1\" class=\"dataframe\">\n",
       "  <thead>\n",
       "    <tr style=\"text-align: right;\">\n",
       "      <th></th>\n",
       "      <th>LoanStatNew</th>\n",
       "      <th>Description</th>\n",
       "    </tr>\n",
       "  </thead>\n",
       "  <tbody>\n",
       "    <tr>\n",
       "      <th>93</th>\n",
       "      <td>tax_liens</td>\n",
       "      <td>Number of tax liens</td>\n",
       "    </tr>\n",
       "  </tbody>\n",
       "</table>\n",
       "</div>"
      ],
      "text/plain": [
       "   LoanStatNew          Description\n",
       "93   tax_liens  Number of tax liens"
      ]
     },
     "execution_count": 32,
     "metadata": {},
     "output_type": "execute_result"
    }
   ],
   "source": [
    "desc[desc[\"LoanStatNew\"]==\"tax_liens\"]"
   ]
  },
  {
   "cell_type": "code",
   "execution_count": 33,
   "id": "774b1b77",
   "metadata": {
    "scrolled": true
   },
   "outputs": [
    {
     "data": {
      "text/plain": [
       "False    41900\n",
       "True         1\n",
       "Name: tax_liens, dtype: int64"
      ]
     },
     "execution_count": 33,
     "metadata": {},
     "output_type": "execute_result"
    }
   ],
   "source": [
    "data2[\"tax_liens\"].value_counts()"
   ]
  },
  {
   "cell_type": "code",
   "execution_count": 34,
   "id": "3f1c5772",
   "metadata": {},
   "outputs": [],
   "source": [
    "data2=data2.drop(\"tax_liens\",axis=1)"
   ]
  },
  {
   "cell_type": "code",
   "execution_count": 35,
   "id": "2ffbc58e",
   "metadata": {},
   "outputs": [
    {
     "data": {
      "text/html": [
       "<div>\n",
       "<style scoped>\n",
       "    .dataframe tbody tr th:only-of-type {\n",
       "        vertical-align: middle;\n",
       "    }\n",
       "\n",
       "    .dataframe tbody tr th {\n",
       "        vertical-align: top;\n",
       "    }\n",
       "\n",
       "    .dataframe thead th {\n",
       "        text-align: right;\n",
       "    }\n",
       "</style>\n",
       "<table border=\"1\" class=\"dataframe\">\n",
       "  <thead>\n",
       "    <tr style=\"text-align: right;\">\n",
       "      <th></th>\n",
       "      <th>LoanStatNew</th>\n",
       "      <th>Description</th>\n",
       "    </tr>\n",
       "  </thead>\n",
       "  <tbody>\n",
       "    <tr>\n",
       "      <th>91</th>\n",
       "      <td>revol_util</td>\n",
       "      <td>Revolving line utilization rate, or the amount...</td>\n",
       "    </tr>\n",
       "  </tbody>\n",
       "</table>\n",
       "</div>"
      ],
      "text/plain": [
       "   LoanStatNew                                        Description\n",
       "91  revol_util  Revolving line utilization rate, or the amount..."
      ]
     },
     "execution_count": 35,
     "metadata": {},
     "output_type": "execute_result"
    }
   ],
   "source": [
    "desc[desc[\"LoanStatNew\"]==\"revol_util\"]"
   ]
  },
  {
   "cell_type": "code",
   "execution_count": 36,
   "id": "da8e407b",
   "metadata": {},
   "outputs": [
    {
     "data": {
      "text/plain": [
       "0.0000    1062\n",
       "0.4070      65\n",
       "0.0020      64\n",
       "0.6300      63\n",
       "0.0010      61\n",
       "          ... \n",
       "0.5422       1\n",
       "0.3877       1\n",
       "0.0485       1\n",
       "0.3688       1\n",
       "0.0083       1\n",
       "Name: revol_util, Length: 1119, dtype: int64"
      ]
     },
     "execution_count": 36,
     "metadata": {},
     "output_type": "execute_result"
    }
   ],
   "source": [
    "data2[\"revol_util\"].value_counts()"
   ]
  },
  {
   "cell_type": "code",
   "execution_count": 37,
   "id": "afec0e87",
   "metadata": {},
   "outputs": [],
   "source": [
    "revol_mean=data2[\"revol_util\"].mean()\n",
    "data2[\"revol_util\"]=data2[\"revol_util\"].fillna(revol_mean)"
   ]
  },
  {
   "cell_type": "code",
   "execution_count": 38,
   "id": "dea2090c",
   "metadata": {},
   "outputs": [
    {
     "data": {
      "text/html": [
       "<div>\n",
       "<style scoped>\n",
       "    .dataframe tbody tr th:only-of-type {\n",
       "        vertical-align: middle;\n",
       "    }\n",
       "\n",
       "    .dataframe tbody tr th {\n",
       "        vertical-align: top;\n",
       "    }\n",
       "\n",
       "    .dataframe thead th {\n",
       "        text-align: right;\n",
       "    }\n",
       "</style>\n",
       "<table border=\"1\" class=\"dataframe\">\n",
       "  <thead>\n",
       "    <tr style=\"text-align: right;\">\n",
       "      <th></th>\n",
       "      <th>cols</th>\n",
       "      <th>nb nul values</th>\n",
       "    </tr>\n",
       "  </thead>\n",
       "  <tbody>\n",
       "    <tr>\n",
       "      <th>0</th>\n",
       "      <td>last_pymnt_d</td>\n",
       "      <td>86</td>\n",
       "    </tr>\n",
       "    <tr>\n",
       "      <th>1</th>\n",
       "      <td>delinq_amnt</td>\n",
       "      <td>32</td>\n",
       "    </tr>\n",
       "    <tr>\n",
       "      <th>2</th>\n",
       "      <td>inq_last_6mths</td>\n",
       "      <td>32</td>\n",
       "    </tr>\n",
       "    <tr>\n",
       "      <th>3</th>\n",
       "      <td>total_acc</td>\n",
       "      <td>32</td>\n",
       "    </tr>\n",
       "    <tr>\n",
       "      <th>4</th>\n",
       "      <td>earliest_cr_line</td>\n",
       "      <td>32</td>\n",
       "    </tr>\n",
       "    <tr>\n",
       "      <th>5</th>\n",
       "      <td>delinq_2yrs</td>\n",
       "      <td>32</td>\n",
       "    </tr>\n",
       "    <tr>\n",
       "      <th>6</th>\n",
       "      <td>pub_rec</td>\n",
       "      <td>32</td>\n",
       "    </tr>\n",
       "    <tr>\n",
       "      <th>7</th>\n",
       "      <td>open_acc</td>\n",
       "      <td>32</td>\n",
       "    </tr>\n",
       "    <tr>\n",
       "      <th>8</th>\n",
       "      <td>acc_now_delinq</td>\n",
       "      <td>32</td>\n",
       "    </tr>\n",
       "    <tr>\n",
       "      <th>9</th>\n",
       "      <td>title</td>\n",
       "      <td>16</td>\n",
       "    </tr>\n",
       "  </tbody>\n",
       "</table>\n",
       "</div>"
      ],
      "text/plain": [
       "               cols  nb nul values\n",
       "0      last_pymnt_d             86\n",
       "1       delinq_amnt             32\n",
       "2    inq_last_6mths             32\n",
       "3         total_acc             32\n",
       "4  earliest_cr_line             32\n",
       "5       delinq_2yrs             32\n",
       "6           pub_rec             32\n",
       "7          open_acc             32\n",
       "8    acc_now_delinq             32\n",
       "9             title             16"
      ]
     },
     "execution_count": 38,
     "metadata": {},
     "output_type": "execute_result"
    }
   ],
   "source": [
    "nb_null=data2.isna().sum().sort_values(ascending=False).reset_index()\n",
    "nb_null.columns=[\"cols\",\"nb nul values\"]\n",
    "nb_null.head(10)"
   ]
  },
  {
   "cell_type": "code",
   "execution_count": 39,
   "id": "0fa95833",
   "metadata": {},
   "outputs": [
    {
     "data": {
      "text/html": [
       "<div>\n",
       "<style scoped>\n",
       "    .dataframe tbody tr th:only-of-type {\n",
       "        vertical-align: middle;\n",
       "    }\n",
       "\n",
       "    .dataframe tbody tr th {\n",
       "        vertical-align: top;\n",
       "    }\n",
       "\n",
       "    .dataframe thead th {\n",
       "        text-align: right;\n",
       "    }\n",
       "</style>\n",
       "<table border=\"1\" class=\"dataframe\">\n",
       "  <thead>\n",
       "    <tr style=\"text-align: right;\">\n",
       "      <th></th>\n",
       "      <th>LoanStatNew</th>\n",
       "      <th>Description</th>\n",
       "    </tr>\n",
       "  </thead>\n",
       "  <tbody>\n",
       "    <tr>\n",
       "      <th>40</th>\n",
       "      <td>last_pymnt_d</td>\n",
       "      <td>Last month payment was received</td>\n",
       "    </tr>\n",
       "  </tbody>\n",
       "</table>\n",
       "</div>"
      ],
      "text/plain": [
       "     LoanStatNew                      Description\n",
       "40  last_pymnt_d  Last month payment was received"
      ]
     },
     "execution_count": 39,
     "metadata": {},
     "output_type": "execute_result"
    }
   ],
   "source": [
    "desc[desc[\"LoanStatNew\"]==\"last_pymnt_d\"]"
   ]
  },
  {
   "cell_type": "code",
   "execution_count": 40,
   "id": "1c93a832",
   "metadata": {},
   "outputs": [
    {
     "data": {
      "text/plain": [
       "2013-03    1070\n",
       "2014-12     949\n",
       "2013-05     943\n",
       "2013-02     906\n",
       "2012-03     893\n",
       "           ... \n",
       "2008-06      20\n",
       "2008-03      18\n",
       "2008-01      11\n",
       "2008-02       8\n",
       "2007-12       2\n",
       "Name: last_pymnt_d, Length: 106, dtype: int64"
      ]
     },
     "execution_count": 40,
     "metadata": {},
     "output_type": "execute_result"
    }
   ],
   "source": [
    "data2[\"last_pymnt_d\"].value_counts()"
   ]
  },
  {
   "cell_type": "code",
   "execution_count": 41,
   "id": "79346677",
   "metadata": {},
   "outputs": [
    {
     "data": {
      "text/plain": [
       "0"
      ]
     },
     "execution_count": 41,
     "metadata": {},
     "output_type": "execute_result"
    }
   ],
   "source": [
    "data2[data2[\"loan_status\"]=='Fully Paid'][\"last_pymnt_d\"].isnull().sum()"
   ]
  },
  {
   "cell_type": "markdown",
   "id": "eb7a4fe7",
   "metadata": {},
   "source": [
    "#### Aucun  crédit payé ne contient une valeur NULL dans la colonne la last_pymnt_d"
   ]
  },
  {
   "cell_type": "code",
   "execution_count": 42,
   "id": "dfd5a751",
   "metadata": {},
   "outputs": [
    {
     "data": {
      "text/plain": [
       "array(['Charged Off', nan], dtype=object)"
      ]
     },
     "execution_count": 42,
     "metadata": {},
     "output_type": "execute_result"
    }
   ],
   "source": [
    "data2[data2[\"last_pymnt_d\"].isnull()][\"loan_status\"].unique()"
   ]
  },
  {
   "cell_type": "markdown",
   "id": "9d93de1d",
   "metadata": {},
   "source": [
    "#### toutes  valeurs NULL de la colonne last_pymnt_d sont dans les crédit non payés , on remplace donc les valeurs NULL de last_pymnt_d par les dates les plus récurentes parmi les crédits non payés "
   ]
  },
  {
   "cell_type": "code",
   "execution_count": 43,
   "id": "2e9ac950",
   "metadata": {},
   "outputs": [
    {
     "data": {
      "text/html": [
       "<div>\n",
       "<style scoped>\n",
       "    .dataframe tbody tr th:only-of-type {\n",
       "        vertical-align: middle;\n",
       "    }\n",
       "\n",
       "    .dataframe tbody tr th {\n",
       "        vertical-align: top;\n",
       "    }\n",
       "\n",
       "    .dataframe thead th {\n",
       "        text-align: right;\n",
       "    }\n",
       "</style>\n",
       "<table border=\"1\" class=\"dataframe\">\n",
       "  <thead>\n",
       "    <tr style=\"text-align: right;\">\n",
       "      <th></th>\n",
       "      <th>index</th>\n",
       "      <th>last_pymnt_d</th>\n",
       "    </tr>\n",
       "  </thead>\n",
       "  <tbody>\n",
       "    <tr>\n",
       "      <th>0</th>\n",
       "      <td>2012-10</td>\n",
       "      <td>180</td>\n",
       "    </tr>\n",
       "    <tr>\n",
       "      <th>1</th>\n",
       "      <td>2012-07</td>\n",
       "      <td>171</td>\n",
       "    </tr>\n",
       "    <tr>\n",
       "      <th>2</th>\n",
       "      <td>2012-06</td>\n",
       "      <td>161</td>\n",
       "    </tr>\n",
       "    <tr>\n",
       "      <th>3</th>\n",
       "      <td>2012-02</td>\n",
       "      <td>160</td>\n",
       "    </tr>\n",
       "    <tr>\n",
       "      <th>4</th>\n",
       "      <td>2012-08</td>\n",
       "      <td>157</td>\n",
       "    </tr>\n",
       "    <tr>\n",
       "      <th>...</th>\n",
       "      <td>...</td>\n",
       "      <td>...</td>\n",
       "    </tr>\n",
       "    <tr>\n",
       "      <th>101</th>\n",
       "      <td>2016-07</td>\n",
       "      <td>4</td>\n",
       "    </tr>\n",
       "    <tr>\n",
       "      <th>102</th>\n",
       "      <td>2016-05</td>\n",
       "      <td>3</td>\n",
       "    </tr>\n",
       "    <tr>\n",
       "      <th>103</th>\n",
       "      <td>2008-01</td>\n",
       "      <td>3</td>\n",
       "    </tr>\n",
       "    <tr>\n",
       "      <th>104</th>\n",
       "      <td>2016-06</td>\n",
       "      <td>2</td>\n",
       "    </tr>\n",
       "    <tr>\n",
       "      <th>105</th>\n",
       "      <td>2007-12</td>\n",
       "      <td>1</td>\n",
       "    </tr>\n",
       "  </tbody>\n",
       "</table>\n",
       "<p>106 rows × 2 columns</p>\n",
       "</div>"
      ],
      "text/plain": [
       "       index  last_pymnt_d\n",
       "0    2012-10           180\n",
       "1    2012-07           171\n",
       "2    2012-06           161\n",
       "3    2012-02           160\n",
       "4    2012-08           157\n",
       "..       ...           ...\n",
       "101  2016-07             4\n",
       "102  2016-05             3\n",
       "103  2008-01             3\n",
       "104  2016-06             2\n",
       "105  2007-12             1\n",
       "\n",
       "[106 rows x 2 columns]"
      ]
     },
     "execution_count": 43,
     "metadata": {},
     "output_type": "execute_result"
    }
   ],
   "source": [
    "data2[(data2[\"loan_status\"]=='Charged Off')][\"last_pymnt_d\"].value_counts().reset_index()"
   ]
  },
  {
   "cell_type": "code",
   "execution_count": 44,
   "id": "286b3d69",
   "metadata": {},
   "outputs": [
    {
     "name": "stdout",
     "output_type": "stream",
     "text": [
      "2012-10\n"
     ]
    }
   ],
   "source": [
    "df=data2[(data2[\"loan_status\"]=='Charged Off')]\n",
    "value=df[\"last_pymnt_d\"].value_counts().index[0]\n",
    "print(value)"
   ]
  },
  {
   "cell_type": "code",
   "execution_count": 45,
   "id": "dae231ab",
   "metadata": {},
   "outputs": [],
   "source": [
    "data2[\"last_pymnt_d\"]=data2[\"last_pymnt_d\"].fillna(value)"
   ]
  },
  {
   "cell_type": "code",
   "execution_count": 46,
   "id": "9cadda71",
   "metadata": {},
   "outputs": [
    {
     "data": {
      "text/html": [
       "<div>\n",
       "<style scoped>\n",
       "    .dataframe tbody tr th:only-of-type {\n",
       "        vertical-align: middle;\n",
       "    }\n",
       "\n",
       "    .dataframe tbody tr th {\n",
       "        vertical-align: top;\n",
       "    }\n",
       "\n",
       "    .dataframe thead th {\n",
       "        text-align: right;\n",
       "    }\n",
       "</style>\n",
       "<table border=\"1\" class=\"dataframe\">\n",
       "  <thead>\n",
       "    <tr style=\"text-align: right;\">\n",
       "      <th></th>\n",
       "      <th>cols</th>\n",
       "      <th>nb nul values</th>\n",
       "    </tr>\n",
       "  </thead>\n",
       "  <tbody>\n",
       "    <tr>\n",
       "      <th>0</th>\n",
       "      <td>delinq_amnt</td>\n",
       "      <td>32</td>\n",
       "    </tr>\n",
       "    <tr>\n",
       "      <th>1</th>\n",
       "      <td>open_acc</td>\n",
       "      <td>32</td>\n",
       "    </tr>\n",
       "    <tr>\n",
       "      <th>2</th>\n",
       "      <td>pub_rec</td>\n",
       "      <td>32</td>\n",
       "    </tr>\n",
       "    <tr>\n",
       "      <th>3</th>\n",
       "      <td>earliest_cr_line</td>\n",
       "      <td>32</td>\n",
       "    </tr>\n",
       "    <tr>\n",
       "      <th>4</th>\n",
       "      <td>delinq_2yrs</td>\n",
       "      <td>32</td>\n",
       "    </tr>\n",
       "    <tr>\n",
       "      <th>5</th>\n",
       "      <td>total_acc</td>\n",
       "      <td>32</td>\n",
       "    </tr>\n",
       "    <tr>\n",
       "      <th>6</th>\n",
       "      <td>inq_last_6mths</td>\n",
       "      <td>32</td>\n",
       "    </tr>\n",
       "    <tr>\n",
       "      <th>7</th>\n",
       "      <td>acc_now_delinq</td>\n",
       "      <td>32</td>\n",
       "    </tr>\n",
       "    <tr>\n",
       "      <th>8</th>\n",
       "      <td>title</td>\n",
       "      <td>16</td>\n",
       "    </tr>\n",
       "    <tr>\n",
       "      <th>9</th>\n",
       "      <td>last_credit_pull_d</td>\n",
       "      <td>7</td>\n",
       "    </tr>\n",
       "  </tbody>\n",
       "</table>\n",
       "</div>"
      ],
      "text/plain": [
       "                 cols  nb nul values\n",
       "0         delinq_amnt             32\n",
       "1            open_acc             32\n",
       "2             pub_rec             32\n",
       "3    earliest_cr_line             32\n",
       "4         delinq_2yrs             32\n",
       "5           total_acc             32\n",
       "6      inq_last_6mths             32\n",
       "7      acc_now_delinq             32\n",
       "8               title             16\n",
       "9  last_credit_pull_d              7"
      ]
     },
     "execution_count": 46,
     "metadata": {},
     "output_type": "execute_result"
    }
   ],
   "source": [
    "nb_null=data2.isna().sum().sort_values(ascending=False).reset_index()\n",
    "nb_null.columns=[\"cols\",\"nb nul values\"]\n",
    "nb_null.head(10)"
   ]
  },
  {
   "cell_type": "markdown",
   "id": "cc2a5af8",
   "metadata": {},
   "source": [
    "### 32 lignes sur 42538 donne 75 /1 million de crédits , on peut donc procéder a la suppression de ces lignes "
   ]
  },
  {
   "cell_type": "code",
   "execution_count": 47,
   "id": "a495b951",
   "metadata": {},
   "outputs": [],
   "source": [
    "data2=data2.dropna()"
   ]
  },
  {
   "cell_type": "code",
   "execution_count": 48,
   "id": "24e75fab",
   "metadata": {},
   "outputs": [
    {
     "data": {
      "text/plain": [
       "<AxesSubplot:>"
      ]
     },
     "execution_count": 48,
     "metadata": {},
     "output_type": "execute_result"
    },
    {
     "data": {
      "image/png": "[encoded data removed]",
      "text/plain": [
       "<Figure size 432x288 with 2 Axes>"
      ]
     },
     "metadata": {
      "needs_background": "light"
     },
     "output_type": "display_data"
    }
   ],
   "source": [
    "sns.heatmap(data2.isna(),cmap=\"viridis_r\")"
   ]
  },
  {
   "cell_type": "markdown",
   "id": "a52b7eeb",
   "metadata": {},
   "source": [
    "### 2-Data Preprocessing"
   ]
  },
  {
   "cell_type": "code",
   "execution_count": 49,
   "id": "b4b6d81a",
   "metadata": {},
   "outputs": [
    {
     "data": {
      "text/plain": [
       "<AxesSubplot:xlabel='loan_status', ylabel='count'>"
      ]
     },
     "execution_count": 49,
     "metadata": {},
     "output_type": "execute_result"
    },
    {
     "data": {
      "image/png": "[encoded data removed]",
      "text/plain": [
       "<Figure size 432x288 with 1 Axes>"
      ]
     },
     "metadata": {
      "needs_background": "light"
     },
     "output_type": "display_data"
    }
   ],
   "source": [
    "sns.countplot(data2[\"loan_status\"])"
   ]
  },
  {
   "cell_type": "code",
   "execution_count": 50,
   "id": "9ff9f08a",
   "metadata": {},
   "outputs": [
    {
     "data": {
      "text/plain": [
       "<AxesSubplot:>"
      ]
     },
     "execution_count": 50,
     "metadata": {},
     "output_type": "execute_result"
    },
    {
     "data": {
      "image/png": "[encoded data removed]",
      "text/plain": [
       "<Figure size 864x576 with 2 Axes>"
      ]
     },
     "metadata": {
      "needs_background": "light"
     },
     "output_type": "display_data"
    }
   ],
   "source": [
    "plt.figure(figsize=(12,8))\n",
    "sns.heatmap(data2.corr(),cmap=\"viridis_r\")"
   ]
  },
  {
   "cell_type": "code",
   "execution_count": 51,
   "id": "9d2b818a",
   "metadata": {},
   "outputs": [
    {
     "data": {
      "text/plain": [
       "1077501"
      ]
     },
     "execution_count": 51,
     "metadata": {},
     "output_type": "execute_result"
    }
   ],
   "source": [
    "data2.iloc[0][\"id\"]"
   ]
  },
  {
   "cell_type": "code",
   "execution_count": 52,
   "id": "b86a3721",
   "metadata": {},
   "outputs": [
    {
     "data": {
      "text/plain": [
       "'https://lendingclub.com/browse/loanDetail.action?loan_id=1077501'"
      ]
     },
     "execution_count": 52,
     "metadata": {},
     "output_type": "execute_result"
    }
   ],
   "source": [
    "data2.iloc[0][\"url\"]"
   ]
  },
  {
   "cell_type": "markdown",
   "id": "62ceb586",
   "metadata": {},
   "source": [
    "#### Les 2 colonnes id et url fournissent la meme information et de , L id est la fin de de L'URL \n",
    "#### De mem la colonne id ne fournira aucune info pour nos futures modeles "
   ]
  },
  {
   "cell_type": "code",
   "execution_count": 53,
   "id": "2e09bc61",
   "metadata": {
    "scrolled": true
   },
   "outputs": [],
   "source": [
    "data2=data2.drop([\"id\",\"url\"] ,axis=1)"
   ]
  },
  {
   "cell_type": "code",
   "execution_count": 54,
   "id": "2e63b435",
   "metadata": {},
   "outputs": [],
   "source": [
    "# Title  n'est pas important , on va utiliser la variable purpose\n",
    "data2.drop([\"title\"], axis=1, inplace=True)"
   ]
  },
  {
   "cell_type": "code",
   "execution_count": 55,
   "id": "ffb34475",
   "metadata": {},
   "outputs": [],
   "source": [
    "# la colonne terms contient soit 36 months ou bien 60 months\n",
    "data2[\"term\"]= data2['term'].map(lambda x: x.rstrip('months'))\n",
    "data2[\"term\"]= data2[\"term\"].astype(\"int\")"
   ]
  },
  {
   "cell_type": "code",
   "execution_count": 56,
   "id": "1f8749b8",
   "metadata": {},
   "outputs": [
    {
     "data": {
      "text/plain": [
       "0        36\n",
       "1        60\n",
       "2        60\n",
       "3        36\n",
       "4        36\n",
       "         ..\n",
       "42533    36\n",
       "42534    60\n",
       "42535    36\n",
       "42536    36\n",
       "42537    60\n",
       "Name: term, Length: 41961, dtype: int32"
      ]
     },
     "execution_count": 56,
     "metadata": {},
     "output_type": "execute_result"
    }
   ],
   "source": [
    "data2[\"term\"]"
   ]
  },
  {
   "cell_type": "code",
   "execution_count": 57,
   "id": "f1bf1a5e",
   "metadata": {},
   "outputs": [],
   "source": [
    "# on a pas besoin de l'id du membre'\n",
    "data2.drop([\"member_id\"], axis=1, inplace=True)"
   ]
  },
  {
   "cell_type": "markdown",
   "id": "f5d9763e",
   "metadata": {},
   "source": [
    "#### on analyse depuis le graph de corrélation  , s'il y as des doublons d'informations "
   ]
  },
  {
   "cell_type": "code",
   "execution_count": 58,
   "id": "4a8153b6",
   "metadata": {},
   "outputs": [
    {
     "data": {
      "text/html": [
       "<div>\n",
       "<style scoped>\n",
       "    .dataframe tbody tr th:only-of-type {\n",
       "        vertical-align: middle;\n",
       "    }\n",
       "\n",
       "    .dataframe tbody tr th {\n",
       "        vertical-align: top;\n",
       "    }\n",
       "\n",
       "    .dataframe thead th {\n",
       "        text-align: right;\n",
       "    }\n",
       "</style>\n",
       "<table border=\"1\" class=\"dataframe\">\n",
       "  <thead>\n",
       "    <tr style=\"text-align: right;\">\n",
       "      <th></th>\n",
       "      <th>fico_range_high</th>\n",
       "      <th>fico_range_low</th>\n",
       "    </tr>\n",
       "  </thead>\n",
       "  <tbody>\n",
       "    <tr>\n",
       "      <th>fico_range_high</th>\n",
       "      <td>1.0</td>\n",
       "      <td>1.0</td>\n",
       "    </tr>\n",
       "    <tr>\n",
       "      <th>fico_range_low</th>\n",
       "      <td>1.0</td>\n",
       "      <td>1.0</td>\n",
       "    </tr>\n",
       "  </tbody>\n",
       "</table>\n",
       "</div>"
      ],
      "text/plain": [
       "                 fico_range_high  fico_range_low\n",
       "fico_range_high              1.0             1.0\n",
       "fico_range_low               1.0             1.0"
      ]
     },
     "execution_count": 58,
     "metadata": {},
     "output_type": "execute_result"
    }
   ],
   "source": [
    "# 100% corrélés fico_range_high et 'fico_range_low'\n",
    "data2[['fico_range_high','fico_range_low']].corr()"
   ]
  },
  {
   "cell_type": "code",
   "execution_count": 59,
   "id": "d4fcbcdc",
   "metadata": {},
   "outputs": [
    {
     "data": {
      "text/plain": [
       "0.0"
      ]
     },
     "execution_count": 59,
     "metadata": {},
     "output_type": "execute_result"
    }
   ],
   "source": [
    "sum(data2['fico_range_high']-data2['fico_range_low']-4)"
   ]
  },
  {
   "cell_type": "code",
   "execution_count": 60,
   "id": "7861ce8d",
   "metadata": {},
   "outputs": [],
   "source": [
    "data2.drop(['fico_range_low'], axis=1, inplace=True)"
   ]
  },
  {
   "cell_type": "code",
   "execution_count": 61,
   "id": "09405229",
   "metadata": {},
   "outputs": [
    {
     "data": {
      "text/plain": [
       "Index(['loan_amnt', 'funded_amnt', 'funded_amnt_inv', 'term', 'int_rate',\n",
       "       'installment', 'grade', 'sub_grade', 'home_ownership', 'annual_inc',\n",
       "       'verification_status', 'issue_d', 'loan_status', 'pymnt_plan',\n",
       "       'purpose', 'zip_code', 'addr_state', 'dti', 'delinq_2yrs',\n",
       "       'earliest_cr_line', 'fico_range_high', 'inq_last_6mths', 'open_acc',\n",
       "       'pub_rec', 'revol_bal', 'revol_util', 'total_acc',\n",
       "       'initial_list_status', 'out_prncp', 'out_prncp_inv', 'total_pymnt',\n",
       "       'total_pymnt_inv', 'total_rec_prncp', 'total_rec_int',\n",
       "       'total_rec_late_fee', 'recoveries', 'collection_recovery_fee',\n",
       "       'last_pymnt_d', 'last_pymnt_amnt', 'last_credit_pull_d',\n",
       "       'last_fico_range_high', 'last_fico_range_low', 'policy_code',\n",
       "       'application_type', 'acc_now_delinq', 'delinq_amnt'],\n",
       "      dtype='object')"
      ]
     },
     "execution_count": 61,
     "metadata": {},
     "output_type": "execute_result"
    }
   ],
   "source": [
    "data2.columns"
   ]
  },
  {
   "cell_type": "code",
   "execution_count": 62,
   "id": "3922fe63",
   "metadata": {},
   "outputs": [
    {
     "data": {
      "text/html": [
       "<div>\n",
       "<style scoped>\n",
       "    .dataframe tbody tr th:only-of-type {\n",
       "        vertical-align: middle;\n",
       "    }\n",
       "\n",
       "    .dataframe tbody tr th {\n",
       "        vertical-align: top;\n",
       "    }\n",
       "\n",
       "    .dataframe thead th {\n",
       "        text-align: right;\n",
       "    }\n",
       "</style>\n",
       "<table border=\"1\" class=\"dataframe\">\n",
       "  <thead>\n",
       "    <tr style=\"text-align: right;\">\n",
       "      <th></th>\n",
       "      <th>last_fico_range_high</th>\n",
       "      <th>last_fico_range_low</th>\n",
       "    </tr>\n",
       "  </thead>\n",
       "  <tbody>\n",
       "    <tr>\n",
       "      <th>last_fico_range_high</th>\n",
       "      <td>1.000000</td>\n",
       "      <td>0.850837</td>\n",
       "    </tr>\n",
       "    <tr>\n",
       "      <th>last_fico_range_low</th>\n",
       "      <td>0.850837</td>\n",
       "      <td>1.000000</td>\n",
       "    </tr>\n",
       "  </tbody>\n",
       "</table>\n",
       "</div>"
      ],
      "text/plain": [
       "                      last_fico_range_high  last_fico_range_low\n",
       "last_fico_range_high              1.000000             0.850837\n",
       "last_fico_range_low               0.850837             1.000000"
      ]
     },
     "execution_count": 62,
     "metadata": {},
     "output_type": "execute_result"
    }
   ],
   "source": [
    "data2[['last_fico_range_high','last_fico_range_low']].corr()"
   ]
  },
  {
   "cell_type": "code",
   "execution_count": 63,
   "id": "e2fc6b24",
   "metadata": {},
   "outputs": [
    {
     "name": "stdout",
     "output_type": "stream",
     "text": [
      "The lower boundary range the borrower’s last FICO pulled belongs to.\n"
     ]
    }
   ],
   "source": [
    "print(desc[desc['LoanStatNew']==\"last_fico_range_low\"][\"Description\"][38])"
   ]
  },
  {
   "cell_type": "code",
   "execution_count": 64,
   "id": "b494fc0b",
   "metadata": {},
   "outputs": [],
   "source": [
    "data2.drop(['last_fico_range_low'], axis=1, inplace=True)"
   ]
  },
  {
   "cell_type": "code",
   "execution_count": 65,
   "id": "1688ca47",
   "metadata": {},
   "outputs": [
    {
     "data": {
      "text/html": [
       "<div>\n",
       "<style scoped>\n",
       "    .dataframe tbody tr th:only-of-type {\n",
       "        vertical-align: middle;\n",
       "    }\n",
       "\n",
       "    .dataframe tbody tr th {\n",
       "        vertical-align: top;\n",
       "    }\n",
       "\n",
       "    .dataframe thead th {\n",
       "        text-align: right;\n",
       "    }\n",
       "</style>\n",
       "<table border=\"1\" class=\"dataframe\">\n",
       "  <thead>\n",
       "    <tr style=\"text-align: right;\">\n",
       "      <th></th>\n",
       "      <th>LoanStatNew</th>\n",
       "      <th>Description</th>\n",
       "    </tr>\n",
       "  </thead>\n",
       "  <tbody>\n",
       "    <tr>\n",
       "      <th>114</th>\n",
       "      <td>zip_code</td>\n",
       "      <td>The first 3 numbers of the zip code provided b...</td>\n",
       "    </tr>\n",
       "  </tbody>\n",
       "</table>\n",
       "</div>"
      ],
      "text/plain": [
       "    LoanStatNew                                        Description\n",
       "114    zip_code  The first 3 numbers of the zip code provided b..."
      ]
     },
     "execution_count": 65,
     "metadata": {},
     "output_type": "execute_result"
    }
   ],
   "source": [
    "desc[desc['LoanStatNew']=='zip_code']"
   ]
  },
  {
   "cell_type": "code",
   "execution_count": 66,
   "id": "cf6026b6",
   "metadata": {},
   "outputs": [
    {
     "data": {
      "text/html": [
       "<div>\n",
       "<style scoped>\n",
       "    .dataframe tbody tr th:only-of-type {\n",
       "        vertical-align: middle;\n",
       "    }\n",
       "\n",
       "    .dataframe tbody tr th {\n",
       "        vertical-align: top;\n",
       "    }\n",
       "\n",
       "    .dataframe thead th {\n",
       "        text-align: right;\n",
       "    }\n",
       "</style>\n",
       "<table border=\"1\" class=\"dataframe\">\n",
       "  <thead>\n",
       "    <tr style=\"text-align: right;\">\n",
       "      <th></th>\n",
       "      <th>LoanStatNew</th>\n",
       "      <th>Description</th>\n",
       "    </tr>\n",
       "  </thead>\n",
       "  <tbody>\n",
       "    <tr>\n",
       "      <th>2</th>\n",
       "      <td>addr_state</td>\n",
       "      <td>The state provided by the borrower in the loan...</td>\n",
       "    </tr>\n",
       "  </tbody>\n",
       "</table>\n",
       "</div>"
      ],
      "text/plain": [
       "  LoanStatNew                                        Description\n",
       "2  addr_state  The state provided by the borrower in the loan..."
      ]
     },
     "execution_count": 66,
     "metadata": {},
     "output_type": "execute_result"
    }
   ],
   "source": [
    "desc[desc['LoanStatNew']=='addr_state']"
   ]
  },
  {
   "cell_type": "markdown",
   "id": "808fb47f",
   "metadata": {},
   "source": [
    "#### on a les  données  address state and zip code on supprime  ces colonnes concernent la position géographique de la personne et n'influence pas la solvabilité du client\n"
   ]
  },
  {
   "cell_type": "code",
   "execution_count": 67,
   "id": "87b18415",
   "metadata": {},
   "outputs": [],
   "source": [
    "#on a les  données  address state and zip code on supprime  ces colonnes concernent la position géographique de la personne et n'influence pas la solvabilité du client\n",
    "data2.drop([\"addr_state\"], axis=1, inplace=True)\n",
    "data2.drop([\"zip_code\"], axis=1, inplace=True)"
   ]
  },
  {
   "cell_type": "code",
   "execution_count": 68,
   "id": "9890179f",
   "metadata": {},
   "outputs": [],
   "source": [
    "# la colonne subgrade contient la doonée de grade , on supprime grade .\n",
    "data2.drop([\"grade\"], axis=1, inplace=True)"
   ]
  },
  {
   "cell_type": "code",
   "execution_count": 69,
   "id": "616f7bf9",
   "metadata": {},
   "outputs": [
    {
     "data": {
      "text/plain": [
       "False    41960\n",
       "True         1\n",
       "Name: pymnt_plan, dtype: int64"
      ]
     },
     "execution_count": 69,
     "metadata": {},
     "output_type": "execute_result"
    }
   ],
   "source": [
    "data2[\"pymnt_plan\"].value_counts()"
   ]
  },
  {
   "cell_type": "code",
   "execution_count": 70,
   "id": "663a8670",
   "metadata": {},
   "outputs": [],
   "source": [
    "# On supprime la colonne  pymnt_plan , la majorité sont false \n",
    "data2.drop([\"pymnt_plan\"], axis=1, inplace=True)"
   ]
  },
  {
   "cell_type": "code",
   "execution_count": 71,
   "id": "6e49177b",
   "metadata": {},
   "outputs": [
    {
     "data": {
      "text/plain": [
       "INDIVIDUAL    41961\n",
       "Name: application_type, dtype: int64"
      ]
     },
     "execution_count": 71,
     "metadata": {},
     "output_type": "execute_result"
    }
   ],
   "source": [
    "data2[\"application_type\"].value_counts()"
   ]
  },
  {
   "cell_type": "code",
   "execution_count": 72,
   "id": "1ed42d65",
   "metadata": {},
   "outputs": [],
   "source": [
    "# On supprime la colonne  application_type , tous sont individual\n",
    "data2.drop([\"application_type\"], axis=1, inplace=True)"
   ]
  },
  {
   "cell_type": "code",
   "execution_count": 73,
   "id": "4d35516b",
   "metadata": {},
   "outputs": [
    {
     "data": {
      "text/plain": [
       "True    41961\n",
       "Name: policy_code, dtype: int64"
      ]
     },
     "execution_count": 73,
     "metadata": {},
     "output_type": "execute_result"
    }
   ],
   "source": [
    "data2[\"policy_code\"].value_counts()"
   ]
  },
  {
   "cell_type": "code",
   "execution_count": 74,
   "id": "94dd5d18",
   "metadata": {},
   "outputs": [],
   "source": [
    "# On supprime la colonne  policy_code , tous sont True\n",
    "data2.drop([\"policy_code\"], axis=1, inplace=True)"
   ]
  },
  {
   "cell_type": "code",
   "execution_count": 75,
   "id": "c3a38e3d",
   "metadata": {
    "scrolled": true
   },
   "outputs": [
    {
     "data": {
      "text/plain": [
       "False    41961\n",
       "Name: initial_list_status, dtype: int64"
      ]
     },
     "execution_count": 75,
     "metadata": {},
     "output_type": "execute_result"
    }
   ],
   "source": [
    "data2[\"initial_list_status\"].value_counts()"
   ]
  },
  {
   "cell_type": "code",
   "execution_count": 76,
   "id": "e62ff57a",
   "metadata": {},
   "outputs": [],
   "source": [
    "# On supprime la colonne  initial_list_status , tous sont  False\n",
    "data2.drop([\"initial_list_status\"], axis=1, inplace=True)"
   ]
  },
  {
   "cell_type": "code",
   "execution_count": 77,
   "id": "ca4ac1b7",
   "metadata": {},
   "outputs": [
    {
     "data": {
      "text/plain": [
       "(41961, 38)"
      ]
     },
     "execution_count": 77,
     "metadata": {},
     "output_type": "execute_result"
    }
   ],
   "source": [
    "data2.shape"
   ]
  },
  {
   "cell_type": "code",
   "execution_count": 78,
   "id": "1e2b5a65",
   "metadata": {},
   "outputs": [
    {
     "data": {
      "text/plain": [
       "array(['Verified', 'Source Verified', 'Not Verified'], dtype=object)"
      ]
     },
     "execution_count": 78,
     "metadata": {},
     "output_type": "execute_result"
    }
   ],
   "source": [
    "data2[\"verification_status\"].unique()"
   ]
  },
  {
   "cell_type": "markdown",
   "id": "5b300114",
   "metadata": {},
   "source": [
    "#### la colonne \"verification_status\" contient  'Source Verified' et 'Verified' qui signifient la meme chose "
   ]
  },
  {
   "cell_type": "code",
   "execution_count": 79,
   "id": "928d2712",
   "metadata": {},
   "outputs": [],
   "source": [
    "data2[\"verification_status\"].replace('Source Verified','Verified' , inplace=True)"
   ]
  },
  {
   "cell_type": "code",
   "execution_count": 80,
   "id": "5d937cb0",
   "metadata": {},
   "outputs": [
    {
     "data": {
      "text/plain": [
       "array(['Verified', 'Not Verified'], dtype=object)"
      ]
     },
     "execution_count": 80,
     "metadata": {},
     "output_type": "execute_result"
    }
   ],
   "source": [
    "data2[\"verification_status\"].unique()"
   ]
  },
  {
   "cell_type": "code",
   "execution_count": 81,
   "id": "4de342ef",
   "metadata": {},
   "outputs": [
    {
     "data": {
      "text/plain": [
       "0.0       41959\n",
       "27.0          1\n",
       "6053.0        1\n",
       "Name: delinq_amnt, dtype: int64"
      ]
     },
     "execution_count": 81,
     "metadata": {},
     "output_type": "execute_result"
    }
   ],
   "source": [
    "data2[\"delinq_amnt\"].value_counts()"
   ]
  },
  {
   "cell_type": "code",
   "execution_count": 82,
   "id": "b2d7b9ce",
   "metadata": {},
   "outputs": [],
   "source": [
    "# On supprime la colonne  delinq_amnt , tous sont  0 \n",
    "data2.drop([\"delinq_amnt\"], axis=1, inplace=True)"
   ]
  },
  {
   "cell_type": "code",
   "execution_count": 83,
   "id": "5baf0483",
   "metadata": {},
   "outputs": [
    {
     "data": {
      "text/plain": [
       "False    41957\n",
       "True         4\n",
       "Name: acc_now_delinq, dtype: int64"
      ]
     },
     "execution_count": 83,
     "metadata": {},
     "output_type": "execute_result"
    }
   ],
   "source": [
    "data2[\"acc_now_delinq\"].value_counts()"
   ]
  },
  {
   "cell_type": "code",
   "execution_count": 84,
   "id": "4d705ce2",
   "metadata": {},
   "outputs": [],
   "source": [
    "data2.drop([\"acc_now_delinq\"], axis=1, inplace=True)"
   ]
  },
  {
   "cell_type": "code",
   "execution_count": 85,
   "id": "f69f78eb",
   "metadata": {},
   "outputs": [
    {
     "data": {
      "text/html": [
       "<div>\n",
       "<style scoped>\n",
       "    .dataframe tbody tr th:only-of-type {\n",
       "        vertical-align: middle;\n",
       "    }\n",
       "\n",
       "    .dataframe tbody tr th {\n",
       "        vertical-align: top;\n",
       "    }\n",
       "\n",
       "    .dataframe thead th {\n",
       "        text-align: right;\n",
       "    }\n",
       "</style>\n",
       "<table border=\"1\" class=\"dataframe\">\n",
       "  <thead>\n",
       "    <tr style=\"text-align: right;\">\n",
       "      <th></th>\n",
       "      <th>out_prncp</th>\n",
       "      <th>out_prncp_inv</th>\n",
       "    </tr>\n",
       "  </thead>\n",
       "  <tbody>\n",
       "    <tr>\n",
       "      <th>out_prncp</th>\n",
       "      <td>1.000000</td>\n",
       "      <td>0.999989</td>\n",
       "    </tr>\n",
       "    <tr>\n",
       "      <th>out_prncp_inv</th>\n",
       "      <td>0.999989</td>\n",
       "      <td>1.000000</td>\n",
       "    </tr>\n",
       "  </tbody>\n",
       "</table>\n",
       "</div>"
      ],
      "text/plain": [
       "               out_prncp  out_prncp_inv\n",
       "out_prncp       1.000000       0.999989\n",
       "out_prncp_inv   0.999989       1.000000"
      ]
     },
     "execution_count": 85,
     "metadata": {},
     "output_type": "execute_result"
    }
   ],
   "source": [
    "# \"out_prncp\",'out_prncp_inv' sont  99.9999% \n",
    "data2[[\"out_prncp\",'out_prncp_inv']].corr()"
   ]
  },
  {
   "cell_type": "code",
   "execution_count": 86,
   "id": "718b01f6",
   "metadata": {},
   "outputs": [],
   "source": [
    "data2.drop(['out_prncp_inv'], axis=1, inplace=True)"
   ]
  },
  {
   "cell_type": "code",
   "execution_count": 87,
   "id": "230e439e",
   "metadata": {},
   "outputs": [
    {
     "data": {
      "text/plain": [
       "Index(['loan_amnt', 'funded_amnt', 'funded_amnt_inv', 'term', 'int_rate',\n",
       "       'installment', 'sub_grade', 'home_ownership', 'annual_inc',\n",
       "       'verification_status', 'issue_d', 'loan_status', 'purpose', 'dti',\n",
       "       'delinq_2yrs', 'earliest_cr_line', 'fico_range_high', 'inq_last_6mths',\n",
       "       'open_acc', 'pub_rec', 'revol_bal', 'revol_util', 'total_acc',\n",
       "       'out_prncp', 'total_pymnt', 'total_pymnt_inv', 'total_rec_prncp',\n",
       "       'total_rec_int', 'total_rec_late_fee', 'recoveries',\n",
       "       'collection_recovery_fee', 'last_pymnt_d', 'last_pymnt_amnt',\n",
       "       'last_credit_pull_d', 'last_fico_range_high'],\n",
       "      dtype='object')"
      ]
     },
     "execution_count": 87,
     "metadata": {},
     "output_type": "execute_result"
    }
   ],
   "source": [
    "data2.columns"
   ]
  },
  {
   "cell_type": "code",
   "execution_count": 88,
   "id": "8239db5f",
   "metadata": {},
   "outputs": [
    {
     "data": {
      "text/plain": [
       "0.00       41943\n",
       "2446.98        1\n",
       "104.13         1\n",
       "795.80         1\n",
       "1129.50        1\n",
       "3126.61        1\n",
       "1464.17        1\n",
       "2603.78        1\n",
       "653.20         1\n",
       "447.09         1\n",
       "122.44         1\n",
       "409.05         1\n",
       "1749.05        1\n",
       "30.54          1\n",
       "71.53          1\n",
       "1206.14        1\n",
       "564.35         1\n",
       "932.39         1\n",
       "72.14          1\n",
       "Name: out_prncp, dtype: int64"
      ]
     },
     "execution_count": 88,
     "metadata": {},
     "output_type": "execute_result"
    }
   ],
   "source": [
    "data2['out_prncp'].value_counts()"
   ]
  },
  {
   "cell_type": "code",
   "execution_count": 89,
   "id": "07555612",
   "metadata": {},
   "outputs": [],
   "source": [
    "data2.drop(['out_prncp'], axis=1, inplace=True)"
   ]
  },
  {
   "cell_type": "code",
   "execution_count": 90,
   "id": "4d3f6427",
   "metadata": {},
   "outputs": [
    {
     "data": {
      "text/plain": [
       "<AxesSubplot:>"
      ]
     },
     "execution_count": 90,
     "metadata": {},
     "output_type": "execute_result"
    },
    {
     "data": {
      "image/png": "[encoded data removed]",
      "text/plain": [
       "<Figure size 432x288 with 2 Axes>"
      ]
     },
     "metadata": {
      "needs_background": "light"
     },
     "output_type": "display_data"
    }
   ],
   "source": [
    "sns.heatmap(data2.corr(),cmap=\"viridis_r\")"
   ]
  },
  {
   "cell_type": "code",
   "execution_count": 91,
   "id": "4427f450",
   "metadata": {},
   "outputs": [
    {
     "name": "stdout",
     "output_type": "stream",
     "text": [
      "The listed amount of the loan applied for by the borrower. If at some point in time, the credit department reduces the loan amount, then it will be reflected in this value.\n"
     ]
    }
   ],
   "source": [
    "print(desc[desc['LoanStatNew']=='loan_amnt'][\"Description\"][41])"
   ]
  },
  {
   "cell_type": "code",
   "execution_count": 92,
   "id": "76b46399",
   "metadata": {},
   "outputs": [
    {
     "name": "stdout",
     "output_type": "stream",
     "text": [
      "The total amount committed to that loan at that point in time.\n"
     ]
    }
   ],
   "source": [
    "print(desc[desc['LoanStatNew']=='funded_amnt'][\"Description\"][23])"
   ]
  },
  {
   "cell_type": "code",
   "execution_count": 93,
   "id": "73e26d27",
   "metadata": {},
   "outputs": [
    {
     "data": {
      "text/html": [
       "<div>\n",
       "<style scoped>\n",
       "    .dataframe tbody tr th:only-of-type {\n",
       "        vertical-align: middle;\n",
       "    }\n",
       "\n",
       "    .dataframe tbody tr th {\n",
       "        vertical-align: top;\n",
       "    }\n",
       "\n",
       "    .dataframe thead th {\n",
       "        text-align: right;\n",
       "    }\n",
       "</style>\n",
       "<table border=\"1\" class=\"dataframe\">\n",
       "  <thead>\n",
       "    <tr style=\"text-align: right;\">\n",
       "      <th></th>\n",
       "      <th>loan_amnt</th>\n",
       "      <th>funded_amnt</th>\n",
       "    </tr>\n",
       "  </thead>\n",
       "  <tbody>\n",
       "    <tr>\n",
       "      <th>loan_amnt</th>\n",
       "      <td>1.000000</td>\n",
       "      <td>0.981529</td>\n",
       "    </tr>\n",
       "    <tr>\n",
       "      <th>funded_amnt</th>\n",
       "      <td>0.981529</td>\n",
       "      <td>1.000000</td>\n",
       "    </tr>\n",
       "  </tbody>\n",
       "</table>\n",
       "</div>"
      ],
      "text/plain": [
       "             loan_amnt  funded_amnt\n",
       "loan_amnt     1.000000     0.981529\n",
       "funded_amnt   0.981529     1.000000"
      ]
     },
     "execution_count": 93,
     "metadata": {},
     "output_type": "execute_result"
    }
   ],
   "source": [
    "data2[['loan_amnt', 'funded_amnt']].corr()"
   ]
  },
  {
   "cell_type": "markdown",
   "id": "1eeb340e",
   "metadata": {},
   "source": [
    "#### On Procéde a la suppression  de la colonne 'funded_amnt' vue sa forte corrélation avec la variable  'loan_amnt'"
   ]
  },
  {
   "cell_type": "code",
   "execution_count": 94,
   "id": "a5223882",
   "metadata": {},
   "outputs": [],
   "source": [
    "data2.drop(['funded_amnt'], axis=1, inplace=True)"
   ]
  },
  {
   "cell_type": "code",
   "execution_count": 95,
   "id": "3f3e46e3",
   "metadata": {},
   "outputs": [
    {
     "data": {
      "text/html": [
       "<div>\n",
       "<style scoped>\n",
       "    .dataframe tbody tr th:only-of-type {\n",
       "        vertical-align: middle;\n",
       "    }\n",
       "\n",
       "    .dataframe tbody tr th {\n",
       "        vertical-align: top;\n",
       "    }\n",
       "\n",
       "    .dataframe thead th {\n",
       "        text-align: right;\n",
       "    }\n",
       "</style>\n",
       "<table border=\"1\" class=\"dataframe\">\n",
       "  <thead>\n",
       "    <tr style=\"text-align: right;\">\n",
       "      <th></th>\n",
       "      <th>loan_amnt</th>\n",
       "      <th>funded_amnt_inv</th>\n",
       "    </tr>\n",
       "  </thead>\n",
       "  <tbody>\n",
       "    <tr>\n",
       "      <th>loan_amnt</th>\n",
       "      <td>1.000000</td>\n",
       "      <td>0.927831</td>\n",
       "    </tr>\n",
       "    <tr>\n",
       "      <th>funded_amnt_inv</th>\n",
       "      <td>0.927831</td>\n",
       "      <td>1.000000</td>\n",
       "    </tr>\n",
       "  </tbody>\n",
       "</table>\n",
       "</div>"
      ],
      "text/plain": [
       "                 loan_amnt  funded_amnt_inv\n",
       "loan_amnt         1.000000         0.927831\n",
       "funded_amnt_inv   0.927831         1.000000"
      ]
     },
     "execution_count": 95,
     "metadata": {},
     "output_type": "execute_result"
    }
   ],
   "source": [
    "data2[[\"loan_amnt\",\"funded_amnt_inv\"]].corr()"
   ]
  },
  {
   "cell_type": "markdown",
   "id": "7962d334",
   "metadata": {},
   "source": [
    "#### On Procéde a la suppression  de la colonne 'funded_amnt' vue sa forte corrélation avec la variable 'loan_amnt'"
   ]
  },
  {
   "cell_type": "code",
   "execution_count": 96,
   "id": "c844f0c8",
   "metadata": {},
   "outputs": [],
   "source": [
    "data2.drop(['funded_amnt_inv'], axis=1, inplace=True)"
   ]
  },
  {
   "cell_type": "code",
   "execution_count": 97,
   "id": "dab16020",
   "metadata": {},
   "outputs": [
    {
     "data": {
      "text/html": [
       "<div>\n",
       "<style scoped>\n",
       "    .dataframe tbody tr th:only-of-type {\n",
       "        vertical-align: middle;\n",
       "    }\n",
       "\n",
       "    .dataframe tbody tr th {\n",
       "        vertical-align: top;\n",
       "    }\n",
       "\n",
       "    .dataframe thead th {\n",
       "        text-align: right;\n",
       "    }\n",
       "</style>\n",
       "<table border=\"1\" class=\"dataframe\">\n",
       "  <thead>\n",
       "    <tr style=\"text-align: right;\">\n",
       "      <th></th>\n",
       "      <th>total_pymnt_inv</th>\n",
       "      <th>total_pymnt</th>\n",
       "    </tr>\n",
       "  </thead>\n",
       "  <tbody>\n",
       "    <tr>\n",
       "      <th>total_pymnt_inv</th>\n",
       "      <td>1.000000</td>\n",
       "      <td>0.963115</td>\n",
       "    </tr>\n",
       "    <tr>\n",
       "      <th>total_pymnt</th>\n",
       "      <td>0.963115</td>\n",
       "      <td>1.000000</td>\n",
       "    </tr>\n",
       "  </tbody>\n",
       "</table>\n",
       "</div>"
      ],
      "text/plain": [
       "                 total_pymnt_inv  total_pymnt\n",
       "total_pymnt_inv         1.000000     0.963115\n",
       "total_pymnt             0.963115     1.000000"
      ]
     },
     "execution_count": 97,
     "metadata": {},
     "output_type": "execute_result"
    }
   ],
   "source": [
    "data2[[\"total_pymnt_inv\",\"total_pymnt\"]].corr()"
   ]
  },
  {
   "cell_type": "code",
   "execution_count": 98,
   "id": "152af1fc",
   "metadata": {},
   "outputs": [],
   "source": [
    "data2.drop(['total_pymnt_inv'], axis=1, inplace=True)"
   ]
  },
  {
   "cell_type": "code",
   "execution_count": 99,
   "id": "2ae98a30",
   "metadata": {},
   "outputs": [
    {
     "data": {
      "text/html": [
       "<div>\n",
       "<style scoped>\n",
       "    .dataframe tbody tr th:only-of-type {\n",
       "        vertical-align: middle;\n",
       "    }\n",
       "\n",
       "    .dataframe tbody tr th {\n",
       "        vertical-align: top;\n",
       "    }\n",
       "\n",
       "    .dataframe thead th {\n",
       "        text-align: right;\n",
       "    }\n",
       "</style>\n",
       "<table border=\"1\" class=\"dataframe\">\n",
       "  <thead>\n",
       "    <tr style=\"text-align: right;\">\n",
       "      <th></th>\n",
       "      <th>loan_amnt</th>\n",
       "      <th>installment</th>\n",
       "    </tr>\n",
       "  </thead>\n",
       "  <tbody>\n",
       "    <tr>\n",
       "      <th>loan_amnt</th>\n",
       "      <td>1.000000</td>\n",
       "      <td>0.931189</td>\n",
       "    </tr>\n",
       "    <tr>\n",
       "      <th>installment</th>\n",
       "      <td>0.931189</td>\n",
       "      <td>1.000000</td>\n",
       "    </tr>\n",
       "  </tbody>\n",
       "</table>\n",
       "</div>"
      ],
      "text/plain": [
       "             loan_amnt  installment\n",
       "loan_amnt     1.000000     0.931189\n",
       "installment   0.931189     1.000000"
      ]
     },
     "execution_count": 99,
     "metadata": {},
     "output_type": "execute_result"
    }
   ],
   "source": [
    "data2[[\"loan_amnt\",\"installment\"]].corr()"
   ]
  },
  {
   "cell_type": "code",
   "execution_count": 100,
   "id": "4d700b69",
   "metadata": {},
   "outputs": [],
   "source": [
    "data2.drop(['installment'], axis=1, inplace=True)"
   ]
  },
  {
   "cell_type": "code",
   "execution_count": 101,
   "id": "2330827c",
   "metadata": {},
   "outputs": [],
   "source": [
    "data2[\"total_pymnt\"]=data2[\"total_pymnt\"].apply(lambda x : round(x,2))"
   ]
  },
  {
   "cell_type": "markdown",
   "id": "ea61e1a5",
   "metadata": {},
   "source": [
    "#### On Procède à la suppression des colonnes dates "
   ]
  },
  {
   "cell_type": "code",
   "execution_count": 102,
   "id": "3f564070",
   "metadata": {},
   "outputs": [],
   "source": [
    "dates_cols=[\"issue_d\",\"last_credit_pull_d\",\"last_pymnt_d\",\"earliest_cr_line\"]\n",
    "data2.drop(dates_cols,axis=1,inplace=True)"
   ]
  },
  {
   "cell_type": "code",
   "execution_count": 103,
   "id": "951207b6",
   "metadata": {},
   "outputs": [
    {
     "data": {
      "text/plain": [
       "<AxesSubplot:>"
      ]
     },
     "execution_count": 103,
     "metadata": {},
     "output_type": "execute_result"
    },
    {
     "data": {
      "image/png": "[encoded data removed]",
      "text/plain": [
       "<Figure size 432x288 with 2 Axes>"
      ]
     },
     "metadata": {
      "needs_background": "light"
     },
     "output_type": "display_data"
    }
   ],
   "source": [
    "sns.heatmap(data2.corr(),cmap=\"viridis_r\")"
   ]
  },
  {
   "cell_type": "markdown",
   "id": "651aedf5",
   "metadata": {},
   "source": [
    "### 3-  Encoding et Normalisation "
   ]
  },
  {
   "cell_type": "code",
   "execution_count": 104,
   "id": "052f31b0",
   "metadata": {
    "scrolled": true
   },
   "outputs": [
    {
     "data": {
      "text/plain": [
       "<AxesSubplot:ylabel='None'>"
      ]
     },
     "execution_count": 104,
     "metadata": {},
     "output_type": "execute_result"
    },
    {
     "data": {
      "image/png": "[encoded data removed]",
      "text/plain": [
       "<Figure size 432x288 with 1 Axes>"
      ]
     },
     "metadata": {},
     "output_type": "display_data"
    }
   ],
   "source": [
    "data2.dtypes.value_counts().plot.pie()"
   ]
  },
  {
   "cell_type": "code",
   "execution_count": 105,
   "id": "c9f5f734",
   "metadata": {},
   "outputs": [],
   "source": [
    "# subdiviser la data  en données Categoriques /numeriques  :\n",
    "cat_data=[]\n",
    "num_data=[]\n",
    "for i ,c in enumerate(data2.dtypes): \n",
    "    if c=='object': \n",
    "        cat_data.append(data2.iloc[:,i])\n",
    "    else:\n",
    "        num_data.append(data2.iloc[:,i])\n",
    "cat_data=pd.DataFrame(cat_data).transpose()\n",
    "num_data=pd.DataFrame(num_data).transpose()"
   ]
  },
  {
   "cell_type": "code",
   "execution_count": 106,
   "id": "9669a927",
   "metadata": {},
   "outputs": [
    {
     "data": {
      "text/html": [
       "<div>\n",
       "<style scoped>\n",
       "    .dataframe tbody tr th:only-of-type {\n",
       "        vertical-align: middle;\n",
       "    }\n",
       "\n",
       "    .dataframe tbody tr th {\n",
       "        vertical-align: top;\n",
       "    }\n",
       "\n",
       "    .dataframe thead th {\n",
       "        text-align: right;\n",
       "    }\n",
       "</style>\n",
       "<table border=\"1\" class=\"dataframe\">\n",
       "  <thead>\n",
       "    <tr style=\"text-align: right;\">\n",
       "      <th></th>\n",
       "      <th>sub_grade</th>\n",
       "      <th>home_ownership</th>\n",
       "      <th>verification_status</th>\n",
       "      <th>loan_status</th>\n",
       "      <th>purpose</th>\n",
       "    </tr>\n",
       "  </thead>\n",
       "  <tbody>\n",
       "    <tr>\n",
       "      <th>0</th>\n",
       "      <td>B2</td>\n",
       "      <td>RENT</td>\n",
       "      <td>Verified</td>\n",
       "      <td>Fully Paid</td>\n",
       "      <td>credit_card</td>\n",
       "    </tr>\n",
       "    <tr>\n",
       "      <th>1</th>\n",
       "      <td>C4</td>\n",
       "      <td>RENT</td>\n",
       "      <td>Verified</td>\n",
       "      <td>Charged Off</td>\n",
       "      <td>car</td>\n",
       "    </tr>\n",
       "    <tr>\n",
       "      <th>2</th>\n",
       "      <td>C3</td>\n",
       "      <td>OWN</td>\n",
       "      <td>Not Verified</td>\n",
       "      <td>Fully Paid</td>\n",
       "      <td>debt_consolidation</td>\n",
       "    </tr>\n",
       "    <tr>\n",
       "      <th>3</th>\n",
       "      <td>B1</td>\n",
       "      <td>RENT</td>\n",
       "      <td>Not Verified</td>\n",
       "      <td>Charged Off</td>\n",
       "      <td>debt_consolidation</td>\n",
       "    </tr>\n",
       "    <tr>\n",
       "      <th>4</th>\n",
       "      <td>C2</td>\n",
       "      <td>RENT</td>\n",
       "      <td>Verified</td>\n",
       "      <td>Fully Paid</td>\n",
       "      <td>debt_consolidation</td>\n",
       "    </tr>\n",
       "    <tr>\n",
       "      <th>...</th>\n",
       "      <td>...</td>\n",
       "      <td>...</td>\n",
       "      <td>...</td>\n",
       "      <td>...</td>\n",
       "      <td>...</td>\n",
       "    </tr>\n",
       "    <tr>\n",
       "      <th>42533</th>\n",
       "      <td>C2</td>\n",
       "      <td>MORTGAGE</td>\n",
       "      <td>Verified</td>\n",
       "      <td>Fully Paid</td>\n",
       "      <td>wedding</td>\n",
       "    </tr>\n",
       "    <tr>\n",
       "      <th>42534</th>\n",
       "      <td>C2</td>\n",
       "      <td>RENT</td>\n",
       "      <td>Verified</td>\n",
       "      <td>Fully Paid</td>\n",
       "      <td>debt_consolidation</td>\n",
       "    </tr>\n",
       "    <tr>\n",
       "      <th>42535</th>\n",
       "      <td>D1</td>\n",
       "      <td>RENT</td>\n",
       "      <td>Not Verified</td>\n",
       "      <td>Fully Paid</td>\n",
       "      <td>other</td>\n",
       "    </tr>\n",
       "    <tr>\n",
       "      <th>42536</th>\n",
       "      <td>E2</td>\n",
       "      <td>OWN</td>\n",
       "      <td>Verified</td>\n",
       "      <td>Fully Paid</td>\n",
       "      <td>other</td>\n",
       "    </tr>\n",
       "    <tr>\n",
       "      <th>42537</th>\n",
       "      <td>B4</td>\n",
       "      <td>RENT</td>\n",
       "      <td>Verified</td>\n",
       "      <td>Charged Off</td>\n",
       "      <td>debt_consolidation</td>\n",
       "    </tr>\n",
       "  </tbody>\n",
       "</table>\n",
       "<p>41961 rows × 5 columns</p>\n",
       "</div>"
      ],
      "text/plain": [
       "      sub_grade home_ownership verification_status  loan_status  \\\n",
       "0            B2           RENT            Verified   Fully Paid   \n",
       "1            C4           RENT            Verified  Charged Off   \n",
       "2            C3            OWN        Not Verified   Fully Paid   \n",
       "3            B1           RENT        Not Verified  Charged Off   \n",
       "4            C2           RENT            Verified   Fully Paid   \n",
       "...         ...            ...                 ...          ...   \n",
       "42533        C2       MORTGAGE            Verified   Fully Paid   \n",
       "42534        C2           RENT            Verified   Fully Paid   \n",
       "42535        D1           RENT        Not Verified   Fully Paid   \n",
       "42536        E2            OWN            Verified   Fully Paid   \n",
       "42537        B4           RENT            Verified  Charged Off   \n",
       "\n",
       "                  purpose  \n",
       "0             credit_card  \n",
       "1                     car  \n",
       "2      debt_consolidation  \n",
       "3      debt_consolidation  \n",
       "4      debt_consolidation  \n",
       "...                   ...  \n",
       "42533             wedding  \n",
       "42534  debt_consolidation  \n",
       "42535               other  \n",
       "42536               other  \n",
       "42537  debt_consolidation  \n",
       "\n",
       "[41961 rows x 5 columns]"
      ]
     },
     "execution_count": 106,
     "metadata": {},
     "output_type": "execute_result"
    }
   ],
   "source": [
    "cat_data"
   ]
  },
  {
   "cell_type": "code",
   "execution_count": 107,
   "id": "1ff9def8",
   "metadata": {},
   "outputs": [
    {
     "data": {
      "text/plain": [
       "sub_grade              35\n",
       "home_ownership          5\n",
       "verification_status     2\n",
       "loan_status             2\n",
       "purpose                14\n",
       "dtype: int64"
      ]
     },
     "execution_count": 107,
     "metadata": {},
     "output_type": "execute_result"
    }
   ],
   "source": [
    "cat_data.nunique()"
   ]
  },
  {
   "cell_type": "code",
   "execution_count": 108,
   "id": "fc25ec72",
   "metadata": {},
   "outputs": [
    {
     "data": {
      "text/plain": [
       "Index(['loan_amnt', 'term', 'int_rate', 'annual_inc', 'dti', 'delinq_2yrs',\n",
       "       'fico_range_high', 'inq_last_6mths', 'open_acc', 'pub_rec', 'revol_bal',\n",
       "       'revol_util', 'total_acc', 'total_pymnt', 'total_rec_prncp',\n",
       "       'total_rec_int', 'total_rec_late_fee', 'recoveries',\n",
       "       'collection_recovery_fee', 'last_pymnt_amnt', 'last_fico_range_high'],\n",
       "      dtype='object')"
      ]
     },
     "execution_count": 108,
     "metadata": {},
     "output_type": "execute_result"
    }
   ],
   "source": [
    "num_data.head(1).T.index"
   ]
  },
  {
   "cell_type": "code",
   "execution_count": 109,
   "id": "4966cef8",
   "metadata": {},
   "outputs": [
    {
     "data": {
      "text/html": [
       "<div>\n",
       "<style scoped>\n",
       "    .dataframe tbody tr th:only-of-type {\n",
       "        vertical-align: middle;\n",
       "    }\n",
       "\n",
       "    .dataframe tbody tr th {\n",
       "        vertical-align: top;\n",
       "    }\n",
       "\n",
       "    .dataframe thead th {\n",
       "        text-align: right;\n",
       "    }\n",
       "</style>\n",
       "<table border=\"1\" class=\"dataframe\">\n",
       "  <thead>\n",
       "    <tr style=\"text-align: right;\">\n",
       "      <th></th>\n",
       "      <th>sub_grade</th>\n",
       "      <th>home_ownership</th>\n",
       "      <th>verification_status</th>\n",
       "      <th>loan_status</th>\n",
       "      <th>purpose</th>\n",
       "    </tr>\n",
       "  </thead>\n",
       "  <tbody>\n",
       "    <tr>\n",
       "      <th>0</th>\n",
       "      <td>B2</td>\n",
       "      <td>RENT</td>\n",
       "      <td>Verified</td>\n",
       "      <td>Fully Paid</td>\n",
       "      <td>credit_card</td>\n",
       "    </tr>\n",
       "    <tr>\n",
       "      <th>1</th>\n",
       "      <td>C4</td>\n",
       "      <td>RENT</td>\n",
       "      <td>Verified</td>\n",
       "      <td>Charged Off</td>\n",
       "      <td>car</td>\n",
       "    </tr>\n",
       "    <tr>\n",
       "      <th>2</th>\n",
       "      <td>C3</td>\n",
       "      <td>OWN</td>\n",
       "      <td>Not Verified</td>\n",
       "      <td>Fully Paid</td>\n",
       "      <td>debt_consolidation</td>\n",
       "    </tr>\n",
       "    <tr>\n",
       "      <th>3</th>\n",
       "      <td>B1</td>\n",
       "      <td>RENT</td>\n",
       "      <td>Not Verified</td>\n",
       "      <td>Charged Off</td>\n",
       "      <td>debt_consolidation</td>\n",
       "    </tr>\n",
       "    <tr>\n",
       "      <th>4</th>\n",
       "      <td>C2</td>\n",
       "      <td>RENT</td>\n",
       "      <td>Verified</td>\n",
       "      <td>Fully Paid</td>\n",
       "      <td>debt_consolidation</td>\n",
       "    </tr>\n",
       "  </tbody>\n",
       "</table>\n",
       "</div>"
      ],
      "text/plain": [
       "  sub_grade home_ownership verification_status  loan_status  \\\n",
       "0        B2           RENT            Verified   Fully Paid   \n",
       "1        C4           RENT            Verified  Charged Off   \n",
       "2        C3            OWN        Not Verified   Fully Paid   \n",
       "3        B1           RENT        Not Verified  Charged Off   \n",
       "4        C2           RENT            Verified   Fully Paid   \n",
       "\n",
       "              purpose  \n",
       "0         credit_card  \n",
       "1                 car  \n",
       "2  debt_consolidation  \n",
       "3  debt_consolidation  \n",
       "4  debt_consolidation  "
      ]
     },
     "execution_count": 109,
     "metadata": {},
     "output_type": "execute_result"
    }
   ],
   "source": [
    "cat_data.head()"
   ]
  },
  {
   "cell_type": "code",
   "execution_count": 110,
   "id": "36b111d9",
   "metadata": {},
   "outputs": [],
   "source": [
    "#transform categorical variables into 0,1,2.....\n",
    "from sklearn.preprocessing import LabelEncoder\n",
    "le=LabelEncoder()\n",
    "for item in cat_data : \n",
    "    cat_data[item]=le.fit_transform(cat_data[item])\n",
    "    # Sauvegarde des modèles PKL encoder pour usage Streamlit\n",
    "    pickle.dump(le,open(f\"encoder_{item}.pkl\",\"wb\"))"
   ]
  },
  {
   "cell_type": "markdown",
   "id": "0d88995b",
   "metadata": {},
   "source": [
    " balancing data \n",
    "selection de variable \n",
    "encoding labelEncoder\n",
    "suppression des outliers "
   ]
  },
  {
   "cell_type": "code",
   "execution_count": 111,
   "id": "a290073d",
   "metadata": {},
   "outputs": [
    {
     "data": {
      "text/html": [
       "<div>\n",
       "<style scoped>\n",
       "    .dataframe tbody tr th:only-of-type {\n",
       "        vertical-align: middle;\n",
       "    }\n",
       "\n",
       "    .dataframe tbody tr th {\n",
       "        vertical-align: top;\n",
       "    }\n",
       "\n",
       "    .dataframe thead th {\n",
       "        text-align: right;\n",
       "    }\n",
       "</style>\n",
       "<table border=\"1\" class=\"dataframe\">\n",
       "  <thead>\n",
       "    <tr style=\"text-align: right;\">\n",
       "      <th></th>\n",
       "      <th>sub_grade</th>\n",
       "      <th>home_ownership</th>\n",
       "      <th>verification_status</th>\n",
       "      <th>loan_status</th>\n",
       "      <th>purpose</th>\n",
       "    </tr>\n",
       "  </thead>\n",
       "  <tbody>\n",
       "    <tr>\n",
       "      <th>0</th>\n",
       "      <td>6</td>\n",
       "      <td>4</td>\n",
       "      <td>1</td>\n",
       "      <td>1</td>\n",
       "      <td>1</td>\n",
       "    </tr>\n",
       "    <tr>\n",
       "      <th>1</th>\n",
       "      <td>13</td>\n",
       "      <td>4</td>\n",
       "      <td>1</td>\n",
       "      <td>0</td>\n",
       "      <td>0</td>\n",
       "    </tr>\n",
       "    <tr>\n",
       "      <th>2</th>\n",
       "      <td>12</td>\n",
       "      <td>3</td>\n",
       "      <td>0</td>\n",
       "      <td>1</td>\n",
       "      <td>2</td>\n",
       "    </tr>\n",
       "    <tr>\n",
       "      <th>3</th>\n",
       "      <td>5</td>\n",
       "      <td>4</td>\n",
       "      <td>0</td>\n",
       "      <td>0</td>\n",
       "      <td>2</td>\n",
       "    </tr>\n",
       "    <tr>\n",
       "      <th>4</th>\n",
       "      <td>11</td>\n",
       "      <td>4</td>\n",
       "      <td>1</td>\n",
       "      <td>1</td>\n",
       "      <td>2</td>\n",
       "    </tr>\n",
       "    <tr>\n",
       "      <th>...</th>\n",
       "      <td>...</td>\n",
       "      <td>...</td>\n",
       "      <td>...</td>\n",
       "      <td>...</td>\n",
       "      <td>...</td>\n",
       "    </tr>\n",
       "    <tr>\n",
       "      <th>42533</th>\n",
       "      <td>11</td>\n",
       "      <td>0</td>\n",
       "      <td>1</td>\n",
       "      <td>1</td>\n",
       "      <td>13</td>\n",
       "    </tr>\n",
       "    <tr>\n",
       "      <th>42534</th>\n",
       "      <td>11</td>\n",
       "      <td>4</td>\n",
       "      <td>1</td>\n",
       "      <td>1</td>\n",
       "      <td>2</td>\n",
       "    </tr>\n",
       "    <tr>\n",
       "      <th>42535</th>\n",
       "      <td>15</td>\n",
       "      <td>4</td>\n",
       "      <td>0</td>\n",
       "      <td>1</td>\n",
       "      <td>9</td>\n",
       "    </tr>\n",
       "    <tr>\n",
       "      <th>42536</th>\n",
       "      <td>21</td>\n",
       "      <td>3</td>\n",
       "      <td>1</td>\n",
       "      <td>1</td>\n",
       "      <td>9</td>\n",
       "    </tr>\n",
       "    <tr>\n",
       "      <th>42537</th>\n",
       "      <td>8</td>\n",
       "      <td>4</td>\n",
       "      <td>1</td>\n",
       "      <td>0</td>\n",
       "      <td>2</td>\n",
       "    </tr>\n",
       "  </tbody>\n",
       "</table>\n",
       "<p>41961 rows × 5 columns</p>\n",
       "</div>"
      ],
      "text/plain": [
       "       sub_grade  home_ownership  verification_status  loan_status  purpose\n",
       "0              6               4                    1            1        1\n",
       "1             13               4                    1            0        0\n",
       "2             12               3                    0            1        2\n",
       "3              5               4                    0            0        2\n",
       "4             11               4                    1            1        2\n",
       "...          ...             ...                  ...          ...      ...\n",
       "42533         11               0                    1            1       13\n",
       "42534         11               4                    1            1        2\n",
       "42535         15               4                    0            1        9\n",
       "42536         21               3                    1            1        9\n",
       "42537          8               4                    1            0        2\n",
       "\n",
       "[41961 rows x 5 columns]"
      ]
     },
     "execution_count": 111,
     "metadata": {},
     "output_type": "execute_result"
    }
   ],
   "source": [
    "cat_data"
   ]
  },
  {
   "cell_type": "code",
   "execution_count": 112,
   "id": "8b39ae83",
   "metadata": {},
   "outputs": [
    {
     "data": {
      "text/html": [
       "<div>\n",
       "<style scoped>\n",
       "    .dataframe tbody tr th:only-of-type {\n",
       "        vertical-align: middle;\n",
       "    }\n",
       "\n",
       "    .dataframe tbody tr th {\n",
       "        vertical-align: top;\n",
       "    }\n",
       "\n",
       "    .dataframe thead th {\n",
       "        text-align: right;\n",
       "    }\n",
       "</style>\n",
       "<table border=\"1\" class=\"dataframe\">\n",
       "  <thead>\n",
       "    <tr style=\"text-align: right;\">\n",
       "      <th></th>\n",
       "      <th>loan_amnt</th>\n",
       "      <th>term</th>\n",
       "      <th>int_rate</th>\n",
       "      <th>annual_inc</th>\n",
       "      <th>dti</th>\n",
       "      <th>delinq_2yrs</th>\n",
       "      <th>fico_range_high</th>\n",
       "      <th>inq_last_6mths</th>\n",
       "      <th>open_acc</th>\n",
       "      <th>pub_rec</th>\n",
       "      <th>revol_bal</th>\n",
       "      <th>revol_util</th>\n",
       "      <th>total_acc</th>\n",
       "      <th>total_pymnt</th>\n",
       "      <th>total_rec_prncp</th>\n",
       "      <th>total_rec_int</th>\n",
       "      <th>total_rec_late_fee</th>\n",
       "      <th>recoveries</th>\n",
       "      <th>collection_recovery_fee</th>\n",
       "      <th>last_pymnt_amnt</th>\n",
       "      <th>last_fico_range_high</th>\n",
       "    </tr>\n",
       "  </thead>\n",
       "  <tbody>\n",
       "    <tr>\n",
       "      <th>0</th>\n",
       "      <td>5000.0</td>\n",
       "      <td>36.0</td>\n",
       "      <td>0.1065</td>\n",
       "      <td>24000.0</td>\n",
       "      <td>27.65</td>\n",
       "      <td>0.0</td>\n",
       "      <td>739.0</td>\n",
       "      <td>1.0</td>\n",
       "      <td>3.0</td>\n",
       "      <td>0.0</td>\n",
       "      <td>13648.0</td>\n",
       "      <td>0.837</td>\n",
       "      <td>9.0</td>\n",
       "      <td>5863.16</td>\n",
       "      <td>5000.00</td>\n",
       "      <td>863.16</td>\n",
       "      <td>0.0</td>\n",
       "      <td>0.00</td>\n",
       "      <td>0.0000</td>\n",
       "      <td>171.62</td>\n",
       "      <td>744.0</td>\n",
       "    </tr>\n",
       "    <tr>\n",
       "      <th>1</th>\n",
       "      <td>2500.0</td>\n",
       "      <td>60.0</td>\n",
       "      <td>0.1527</td>\n",
       "      <td>30000.0</td>\n",
       "      <td>1.00</td>\n",
       "      <td>0.0</td>\n",
       "      <td>744.0</td>\n",
       "      <td>5.0</td>\n",
       "      <td>3.0</td>\n",
       "      <td>0.0</td>\n",
       "      <td>1687.0</td>\n",
       "      <td>0.094</td>\n",
       "      <td>4.0</td>\n",
       "      <td>1008.71</td>\n",
       "      <td>456.46</td>\n",
       "      <td>435.17</td>\n",
       "      <td>0.0</td>\n",
       "      <td>117.08</td>\n",
       "      <td>1.1100</td>\n",
       "      <td>119.66</td>\n",
       "      <td>499.0</td>\n",
       "    </tr>\n",
       "    <tr>\n",
       "      <th>2</th>\n",
       "      <td>6500.0</td>\n",
       "      <td>60.0</td>\n",
       "      <td>0.1465</td>\n",
       "      <td>72000.0</td>\n",
       "      <td>16.12</td>\n",
       "      <td>0.0</td>\n",
       "      <td>699.0</td>\n",
       "      <td>2.0</td>\n",
       "      <td>14.0</td>\n",
       "      <td>0.0</td>\n",
       "      <td>4032.0</td>\n",
       "      <td>0.206</td>\n",
       "      <td>23.0</td>\n",
       "      <td>7678.02</td>\n",
       "      <td>6500.00</td>\n",
       "      <td>1178.02</td>\n",
       "      <td>0.0</td>\n",
       "      <td>0.00</td>\n",
       "      <td>0.0000</td>\n",
       "      <td>1655.54</td>\n",
       "      <td>734.0</td>\n",
       "    </tr>\n",
       "    <tr>\n",
       "      <th>3</th>\n",
       "      <td>6200.0</td>\n",
       "      <td>36.0</td>\n",
       "      <td>0.0991</td>\n",
       "      <td>25000.0</td>\n",
       "      <td>20.64</td>\n",
       "      <td>0.0</td>\n",
       "      <td>714.0</td>\n",
       "      <td>2.0</td>\n",
       "      <td>7.0</td>\n",
       "      <td>0.0</td>\n",
       "      <td>6533.0</td>\n",
       "      <td>0.477</td>\n",
       "      <td>12.0</td>\n",
       "      <td>2452.22</td>\n",
       "      <td>1700.79</td>\n",
       "      <td>493.16</td>\n",
       "      <td>0.0</td>\n",
       "      <td>258.27</td>\n",
       "      <td>2.5400</td>\n",
       "      <td>199.80</td>\n",
       "      <td>574.0</td>\n",
       "    </tr>\n",
       "    <tr>\n",
       "      <th>4</th>\n",
       "      <td>14000.0</td>\n",
       "      <td>36.0</td>\n",
       "      <td>0.1427</td>\n",
       "      <td>35000.0</td>\n",
       "      <td>8.40</td>\n",
       "      <td>0.0</td>\n",
       "      <td>684.0</td>\n",
       "      <td>1.0</td>\n",
       "      <td>12.0</td>\n",
       "      <td>0.0</td>\n",
       "      <td>13018.0</td>\n",
       "      <td>0.657</td>\n",
       "      <td>30.0</td>\n",
       "      <td>16745.80</td>\n",
       "      <td>14000.00</td>\n",
       "      <td>2745.80</td>\n",
       "      <td>0.0</td>\n",
       "      <td>0.00</td>\n",
       "      <td>0.0000</td>\n",
       "      <td>4746.25</td>\n",
       "      <td>794.0</td>\n",
       "    </tr>\n",
       "    <tr>\n",
       "      <th>...</th>\n",
       "      <td>...</td>\n",
       "      <td>...</td>\n",
       "      <td>...</td>\n",
       "      <td>...</td>\n",
       "      <td>...</td>\n",
       "      <td>...</td>\n",
       "      <td>...</td>\n",
       "      <td>...</td>\n",
       "      <td>...</td>\n",
       "      <td>...</td>\n",
       "      <td>...</td>\n",
       "      <td>...</td>\n",
       "      <td>...</td>\n",
       "      <td>...</td>\n",
       "      <td>...</td>\n",
       "      <td>...</td>\n",
       "      <td>...</td>\n",
       "      <td>...</td>\n",
       "      <td>...</td>\n",
       "      <td>...</td>\n",
       "      <td>...</td>\n",
       "    </tr>\n",
       "    <tr>\n",
       "      <th>42533</th>\n",
       "      <td>5000.0</td>\n",
       "      <td>36.0</td>\n",
       "      <td>0.1349</td>\n",
       "      <td>113000.0</td>\n",
       "      <td>12.96</td>\n",
       "      <td>0.0</td>\n",
       "      <td>669.0</td>\n",
       "      <td>0.0</td>\n",
       "      <td>10.0</td>\n",
       "      <td>0.0</td>\n",
       "      <td>64186.0</td>\n",
       "      <td>0.802</td>\n",
       "      <td>24.0</td>\n",
       "      <td>6088.78</td>\n",
       "      <td>5000.00</td>\n",
       "      <td>1088.78</td>\n",
       "      <td>0.0</td>\n",
       "      <td>0.00</td>\n",
       "      <td>0.0000</td>\n",
       "      <td>851.36</td>\n",
       "      <td>719.0</td>\n",
       "    </tr>\n",
       "    <tr>\n",
       "      <th>42534</th>\n",
       "      <td>14975.0</td>\n",
       "      <td>60.0</td>\n",
       "      <td>0.1349</td>\n",
       "      <td>49100.0</td>\n",
       "      <td>15.71</td>\n",
       "      <td>0.0</td>\n",
       "      <td>729.0</td>\n",
       "      <td>1.0</td>\n",
       "      <td>8.0</td>\n",
       "      <td>0.0</td>\n",
       "      <td>11312.0</td>\n",
       "      <td>0.390</td>\n",
       "      <td>21.0</td>\n",
       "      <td>20468.31</td>\n",
       "      <td>14975.00</td>\n",
       "      <td>5493.31</td>\n",
       "      <td>0.0</td>\n",
       "      <td>0.00</td>\n",
       "      <td>0.0000</td>\n",
       "      <td>3606.66</td>\n",
       "      <td>599.0</td>\n",
       "    </tr>\n",
       "    <tr>\n",
       "      <th>42535</th>\n",
       "      <td>3600.0</td>\n",
       "      <td>36.0</td>\n",
       "      <td>0.1562</td>\n",
       "      <td>132000.0</td>\n",
       "      <td>21.62</td>\n",
       "      <td>2.0</td>\n",
       "      <td>664.0</td>\n",
       "      <td>0.0</td>\n",
       "      <td>8.0</td>\n",
       "      <td>0.0</td>\n",
       "      <td>16250.0</td>\n",
       "      <td>0.833</td>\n",
       "      <td>30.0</td>\n",
       "      <td>4531.99</td>\n",
       "      <td>3600.00</td>\n",
       "      <td>931.99</td>\n",
       "      <td>0.0</td>\n",
       "      <td>0.00</td>\n",
       "      <td>0.0000</td>\n",
       "      <td>137.15</td>\n",
       "      <td>719.0</td>\n",
       "    </tr>\n",
       "    <tr>\n",
       "      <th>42536</th>\n",
       "      <td>15000.0</td>\n",
       "      <td>36.0</td>\n",
       "      <td>0.1839</td>\n",
       "      <td>33600.0</td>\n",
       "      <td>14.25</td>\n",
       "      <td>0.0</td>\n",
       "      <td>684.0</td>\n",
       "      <td>0.0</td>\n",
       "      <td>3.0</td>\n",
       "      <td>0.0</td>\n",
       "      <td>2038.0</td>\n",
       "      <td>0.970</td>\n",
       "      <td>8.0</td>\n",
       "      <td>19628.05</td>\n",
       "      <td>15000.00</td>\n",
       "      <td>4628.05</td>\n",
       "      <td>0.0</td>\n",
       "      <td>0.00</td>\n",
       "      <td>0.0000</td>\n",
       "      <td>568.34</td>\n",
       "      <td>709.0</td>\n",
       "    </tr>\n",
       "    <tr>\n",
       "      <th>42537</th>\n",
       "      <td>14675.0</td>\n",
       "      <td>60.0</td>\n",
       "      <td>0.1149</td>\n",
       "      <td>28000.0</td>\n",
       "      <td>23.10</td>\n",
       "      <td>0.0</td>\n",
       "      <td>724.0</td>\n",
       "      <td>0.0</td>\n",
       "      <td>7.0</td>\n",
       "      <td>0.0</td>\n",
       "      <td>11091.0</td>\n",
       "      <td>0.668</td>\n",
       "      <td>10.0</td>\n",
       "      <td>2375.29</td>\n",
       "      <td>923.65</td>\n",
       "      <td>681.45</td>\n",
       "      <td>0.0</td>\n",
       "      <td>770.19</td>\n",
       "      <td>138.6342</td>\n",
       "      <td>322.67</td>\n",
       "      <td>519.0</td>\n",
       "    </tr>\n",
       "  </tbody>\n",
       "</table>\n",
       "<p>41961 rows × 21 columns</p>\n",
       "</div>"
      ],
      "text/plain": [
       "       loan_amnt  term  int_rate  annual_inc    dti  delinq_2yrs  \\\n",
       "0         5000.0  36.0    0.1065     24000.0  27.65          0.0   \n",
       "1         2500.0  60.0    0.1527     30000.0   1.00          0.0   \n",
       "2         6500.0  60.0    0.1465     72000.0  16.12          0.0   \n",
       "3         6200.0  36.0    0.0991     25000.0  20.64          0.0   \n",
       "4        14000.0  36.0    0.1427     35000.0   8.40          0.0   \n",
       "...          ...   ...       ...         ...    ...          ...   \n",
       "42533     5000.0  36.0    0.1349    113000.0  12.96          0.0   \n",
       "42534    14975.0  60.0    0.1349     49100.0  15.71          0.0   \n",
       "42535     3600.0  36.0    0.1562    132000.0  21.62          2.0   \n",
       "42536    15000.0  36.0    0.1839     33600.0  14.25          0.0   \n",
       "42537    14675.0  60.0    0.1149     28000.0  23.10          0.0   \n",
       "\n",
       "       fico_range_high  inq_last_6mths  open_acc  pub_rec  revol_bal  \\\n",
       "0                739.0             1.0       3.0      0.0    13648.0   \n",
       "1                744.0             5.0       3.0      0.0     1687.0   \n",
       "2                699.0             2.0      14.0      0.0     4032.0   \n",
       "3                714.0             2.0       7.0      0.0     6533.0   \n",
       "4                684.0             1.0      12.0      0.0    13018.0   \n",
       "...                ...             ...       ...      ...        ...   \n",
       "42533            669.0             0.0      10.0      0.0    64186.0   \n",
       "42534            729.0             1.0       8.0      0.0    11312.0   \n",
       "42535            664.0             0.0       8.0      0.0    16250.0   \n",
       "42536            684.0             0.0       3.0      0.0     2038.0   \n",
       "42537            724.0             0.0       7.0      0.0    11091.0   \n",
       "\n",
       "       revol_util  total_acc  total_pymnt  total_rec_prncp  total_rec_int  \\\n",
       "0           0.837        9.0      5863.16          5000.00         863.16   \n",
       "1           0.094        4.0      1008.71           456.46         435.17   \n",
       "2           0.206       23.0      7678.02          6500.00        1178.02   \n",
       "3           0.477       12.0      2452.22          1700.79         493.16   \n",
       "4           0.657       30.0     16745.80         14000.00        2745.80   \n",
       "...           ...        ...          ...              ...            ...   \n",
       "42533       0.802       24.0      6088.78          5000.00        1088.78   \n",
       "42534       0.390       21.0     20468.31         14975.00        5493.31   \n",
       "42535       0.833       30.0      4531.99          3600.00         931.99   \n",
       "42536       0.970        8.0     19628.05         15000.00        4628.05   \n",
       "42537       0.668       10.0      2375.29           923.65         681.45   \n",
       "\n",
       "       total_rec_late_fee  recoveries  collection_recovery_fee  \\\n",
       "0                     0.0        0.00                   0.0000   \n",
       "1                     0.0      117.08                   1.1100   \n",
       "2                     0.0        0.00                   0.0000   \n",
       "3                     0.0      258.27                   2.5400   \n",
       "4                     0.0        0.00                   0.0000   \n",
       "...                   ...         ...                      ...   \n",
       "42533                 0.0        0.00                   0.0000   \n",
       "42534                 0.0        0.00                   0.0000   \n",
       "42535                 0.0        0.00                   0.0000   \n",
       "42536                 0.0        0.00                   0.0000   \n",
       "42537                 0.0      770.19                 138.6342   \n",
       "\n",
       "       last_pymnt_amnt  last_fico_range_high  \n",
       "0               171.62                 744.0  \n",
       "1               119.66                 499.0  \n",
       "2              1655.54                 734.0  \n",
       "3               199.80                 574.0  \n",
       "4              4746.25                 794.0  \n",
       "...                ...                   ...  \n",
       "42533           851.36                 719.0  \n",
       "42534          3606.66                 599.0  \n",
       "42535           137.15                 719.0  \n",
       "42536           568.34                 709.0  \n",
       "42537           322.67                 519.0  \n",
       "\n",
       "[41961 rows x 21 columns]"
      ]
     },
     "execution_count": 112,
     "metadata": {},
     "output_type": "execute_result"
    }
   ],
   "source": [
    "num_data"
   ]
  },
  {
   "cell_type": "code",
   "execution_count": 113,
   "id": "e1b711d5",
   "metadata": {},
   "outputs": [],
   "source": [
    "data3=pd.concat([cat_data,num_data],axis=1)"
   ]
  },
  {
   "cell_type": "code",
   "execution_count": 114,
   "id": "af3689f9",
   "metadata": {},
   "outputs": [
    {
     "data": {
      "text/html": [
       "<div>\n",
       "<style scoped>\n",
       "    .dataframe tbody tr th:only-of-type {\n",
       "        vertical-align: middle;\n",
       "    }\n",
       "\n",
       "    .dataframe tbody tr th {\n",
       "        vertical-align: top;\n",
       "    }\n",
       "\n",
       "    .dataframe thead th {\n",
       "        text-align: right;\n",
       "    }\n",
       "</style>\n",
       "<table border=\"1\" class=\"dataframe\">\n",
       "  <thead>\n",
       "    <tr style=\"text-align: right;\">\n",
       "      <th></th>\n",
       "      <th>sub_grade</th>\n",
       "      <th>home_ownership</th>\n",
       "      <th>verification_status</th>\n",
       "      <th>loan_status</th>\n",
       "      <th>purpose</th>\n",
       "      <th>loan_amnt</th>\n",
       "      <th>term</th>\n",
       "      <th>int_rate</th>\n",
       "      <th>annual_inc</th>\n",
       "      <th>dti</th>\n",
       "      <th>delinq_2yrs</th>\n",
       "      <th>fico_range_high</th>\n",
       "      <th>inq_last_6mths</th>\n",
       "      <th>open_acc</th>\n",
       "      <th>pub_rec</th>\n",
       "      <th>revol_bal</th>\n",
       "      <th>revol_util</th>\n",
       "      <th>total_acc</th>\n",
       "      <th>total_pymnt</th>\n",
       "      <th>total_rec_prncp</th>\n",
       "      <th>total_rec_int</th>\n",
       "      <th>total_rec_late_fee</th>\n",
       "      <th>recoveries</th>\n",
       "      <th>collection_recovery_fee</th>\n",
       "      <th>last_pymnt_amnt</th>\n",
       "      <th>last_fico_range_high</th>\n",
       "    </tr>\n",
       "  </thead>\n",
       "  <tbody>\n",
       "    <tr>\n",
       "      <th>0</th>\n",
       "      <td>6</td>\n",
       "      <td>4</td>\n",
       "      <td>1</td>\n",
       "      <td>1</td>\n",
       "      <td>1</td>\n",
       "      <td>5000.0</td>\n",
       "      <td>36.0</td>\n",
       "      <td>0.1065</td>\n",
       "      <td>24000.0</td>\n",
       "      <td>27.65</td>\n",
       "      <td>0.0</td>\n",
       "      <td>739.0</td>\n",
       "      <td>1.0</td>\n",
       "      <td>3.0</td>\n",
       "      <td>0.0</td>\n",
       "      <td>13648.0</td>\n",
       "      <td>0.837</td>\n",
       "      <td>9.0</td>\n",
       "      <td>5863.16</td>\n",
       "      <td>5000.00</td>\n",
       "      <td>863.16</td>\n",
       "      <td>0.0</td>\n",
       "      <td>0.00</td>\n",
       "      <td>0.0000</td>\n",
       "      <td>171.62</td>\n",
       "      <td>744.0</td>\n",
       "    </tr>\n",
       "    <tr>\n",
       "      <th>1</th>\n",
       "      <td>13</td>\n",
       "      <td>4</td>\n",
       "      <td>1</td>\n",
       "      <td>0</td>\n",
       "      <td>0</td>\n",
       "      <td>2500.0</td>\n",
       "      <td>60.0</td>\n",
       "      <td>0.1527</td>\n",
       "      <td>30000.0</td>\n",
       "      <td>1.00</td>\n",
       "      <td>0.0</td>\n",
       "      <td>744.0</td>\n",
       "      <td>5.0</td>\n",
       "      <td>3.0</td>\n",
       "      <td>0.0</td>\n",
       "      <td>1687.0</td>\n",
       "      <td>0.094</td>\n",
       "      <td>4.0</td>\n",
       "      <td>1008.71</td>\n",
       "      <td>456.46</td>\n",
       "      <td>435.17</td>\n",
       "      <td>0.0</td>\n",
       "      <td>117.08</td>\n",
       "      <td>1.1100</td>\n",
       "      <td>119.66</td>\n",
       "      <td>499.0</td>\n",
       "    </tr>\n",
       "    <tr>\n",
       "      <th>2</th>\n",
       "      <td>12</td>\n",
       "      <td>3</td>\n",
       "      <td>0</td>\n",
       "      <td>1</td>\n",
       "      <td>2</td>\n",
       "      <td>6500.0</td>\n",
       "      <td>60.0</td>\n",
       "      <td>0.1465</td>\n",
       "      <td>72000.0</td>\n",
       "      <td>16.12</td>\n",
       "      <td>0.0</td>\n",
       "      <td>699.0</td>\n",
       "      <td>2.0</td>\n",
       "      <td>14.0</td>\n",
       "      <td>0.0</td>\n",
       "      <td>4032.0</td>\n",
       "      <td>0.206</td>\n",
       "      <td>23.0</td>\n",
       "      <td>7678.02</td>\n",
       "      <td>6500.00</td>\n",
       "      <td>1178.02</td>\n",
       "      <td>0.0</td>\n",
       "      <td>0.00</td>\n",
       "      <td>0.0000</td>\n",
       "      <td>1655.54</td>\n",
       "      <td>734.0</td>\n",
       "    </tr>\n",
       "    <tr>\n",
       "      <th>3</th>\n",
       "      <td>5</td>\n",
       "      <td>4</td>\n",
       "      <td>0</td>\n",
       "      <td>0</td>\n",
       "      <td>2</td>\n",
       "      <td>6200.0</td>\n",
       "      <td>36.0</td>\n",
       "      <td>0.0991</td>\n",
       "      <td>25000.0</td>\n",
       "      <td>20.64</td>\n",
       "      <td>0.0</td>\n",
       "      <td>714.0</td>\n",
       "      <td>2.0</td>\n",
       "      <td>7.0</td>\n",
       "      <td>0.0</td>\n",
       "      <td>6533.0</td>\n",
       "      <td>0.477</td>\n",
       "      <td>12.0</td>\n",
       "      <td>2452.22</td>\n",
       "      <td>1700.79</td>\n",
       "      <td>493.16</td>\n",
       "      <td>0.0</td>\n",
       "      <td>258.27</td>\n",
       "      <td>2.5400</td>\n",
       "      <td>199.80</td>\n",
       "      <td>574.0</td>\n",
       "    </tr>\n",
       "    <tr>\n",
       "      <th>4</th>\n",
       "      <td>11</td>\n",
       "      <td>4</td>\n",
       "      <td>1</td>\n",
       "      <td>1</td>\n",
       "      <td>2</td>\n",
       "      <td>14000.0</td>\n",
       "      <td>36.0</td>\n",
       "      <td>0.1427</td>\n",
       "      <td>35000.0</td>\n",
       "      <td>8.40</td>\n",
       "      <td>0.0</td>\n",
       "      <td>684.0</td>\n",
       "      <td>1.0</td>\n",
       "      <td>12.0</td>\n",
       "      <td>0.0</td>\n",
       "      <td>13018.0</td>\n",
       "      <td>0.657</td>\n",
       "      <td>30.0</td>\n",
       "      <td>16745.80</td>\n",
       "      <td>14000.00</td>\n",
       "      <td>2745.80</td>\n",
       "      <td>0.0</td>\n",
       "      <td>0.00</td>\n",
       "      <td>0.0000</td>\n",
       "      <td>4746.25</td>\n",
       "      <td>794.0</td>\n",
       "    </tr>\n",
       "    <tr>\n",
       "      <th>...</th>\n",
       "      <td>...</td>\n",
       "      <td>...</td>\n",
       "      <td>...</td>\n",
       "      <td>...</td>\n",
       "      <td>...</td>\n",
       "      <td>...</td>\n",
       "      <td>...</td>\n",
       "      <td>...</td>\n",
       "      <td>...</td>\n",
       "      <td>...</td>\n",
       "      <td>...</td>\n",
       "      <td>...</td>\n",
       "      <td>...</td>\n",
       "      <td>...</td>\n",
       "      <td>...</td>\n",
       "      <td>...</td>\n",
       "      <td>...</td>\n",
       "      <td>...</td>\n",
       "      <td>...</td>\n",
       "      <td>...</td>\n",
       "      <td>...</td>\n",
       "      <td>...</td>\n",
       "      <td>...</td>\n",
       "      <td>...</td>\n",
       "      <td>...</td>\n",
       "      <td>...</td>\n",
       "    </tr>\n",
       "    <tr>\n",
       "      <th>42533</th>\n",
       "      <td>11</td>\n",
       "      <td>0</td>\n",
       "      <td>1</td>\n",
       "      <td>1</td>\n",
       "      <td>13</td>\n",
       "      <td>5000.0</td>\n",
       "      <td>36.0</td>\n",
       "      <td>0.1349</td>\n",
       "      <td>113000.0</td>\n",
       "      <td>12.96</td>\n",
       "      <td>0.0</td>\n",
       "      <td>669.0</td>\n",
       "      <td>0.0</td>\n",
       "      <td>10.0</td>\n",
       "      <td>0.0</td>\n",
       "      <td>64186.0</td>\n",
       "      <td>0.802</td>\n",
       "      <td>24.0</td>\n",
       "      <td>6088.78</td>\n",
       "      <td>5000.00</td>\n",
       "      <td>1088.78</td>\n",
       "      <td>0.0</td>\n",
       "      <td>0.00</td>\n",
       "      <td>0.0000</td>\n",
       "      <td>851.36</td>\n",
       "      <td>719.0</td>\n",
       "    </tr>\n",
       "    <tr>\n",
       "      <th>42534</th>\n",
       "      <td>11</td>\n",
       "      <td>4</td>\n",
       "      <td>1</td>\n",
       "      <td>1</td>\n",
       "      <td>2</td>\n",
       "      <td>14975.0</td>\n",
       "      <td>60.0</td>\n",
       "      <td>0.1349</td>\n",
       "      <td>49100.0</td>\n",
       "      <td>15.71</td>\n",
       "      <td>0.0</td>\n",
       "      <td>729.0</td>\n",
       "      <td>1.0</td>\n",
       "      <td>8.0</td>\n",
       "      <td>0.0</td>\n",
       "      <td>11312.0</td>\n",
       "      <td>0.390</td>\n",
       "      <td>21.0</td>\n",
       "      <td>20468.31</td>\n",
       "      <td>14975.00</td>\n",
       "      <td>5493.31</td>\n",
       "      <td>0.0</td>\n",
       "      <td>0.00</td>\n",
       "      <td>0.0000</td>\n",
       "      <td>3606.66</td>\n",
       "      <td>599.0</td>\n",
       "    </tr>\n",
       "    <tr>\n",
       "      <th>42535</th>\n",
       "      <td>15</td>\n",
       "      <td>4</td>\n",
       "      <td>0</td>\n",
       "      <td>1</td>\n",
       "      <td>9</td>\n",
       "      <td>3600.0</td>\n",
       "      <td>36.0</td>\n",
       "      <td>0.1562</td>\n",
       "      <td>132000.0</td>\n",
       "      <td>21.62</td>\n",
       "      <td>2.0</td>\n",
       "      <td>664.0</td>\n",
       "      <td>0.0</td>\n",
       "      <td>8.0</td>\n",
       "      <td>0.0</td>\n",
       "      <td>16250.0</td>\n",
       "      <td>0.833</td>\n",
       "      <td>30.0</td>\n",
       "      <td>4531.99</td>\n",
       "      <td>3600.00</td>\n",
       "      <td>931.99</td>\n",
       "      <td>0.0</td>\n",
       "      <td>0.00</td>\n",
       "      <td>0.0000</td>\n",
       "      <td>137.15</td>\n",
       "      <td>719.0</td>\n",
       "    </tr>\n",
       "    <tr>\n",
       "      <th>42536</th>\n",
       "      <td>21</td>\n",
       "      <td>3</td>\n",
       "      <td>1</td>\n",
       "      <td>1</td>\n",
       "      <td>9</td>\n",
       "      <td>15000.0</td>\n",
       "      <td>36.0</td>\n",
       "      <td>0.1839</td>\n",
       "      <td>33600.0</td>\n",
       "      <td>14.25</td>\n",
       "      <td>0.0</td>\n",
       "      <td>684.0</td>\n",
       "      <td>0.0</td>\n",
       "      <td>3.0</td>\n",
       "      <td>0.0</td>\n",
       "      <td>2038.0</td>\n",
       "      <td>0.970</td>\n",
       "      <td>8.0</td>\n",
       "      <td>19628.05</td>\n",
       "      <td>15000.00</td>\n",
       "      <td>4628.05</td>\n",
       "      <td>0.0</td>\n",
       "      <td>0.00</td>\n",
       "      <td>0.0000</td>\n",
       "      <td>568.34</td>\n",
       "      <td>709.0</td>\n",
       "    </tr>\n",
       "    <tr>\n",
       "      <th>42537</th>\n",
       "      <td>8</td>\n",
       "      <td>4</td>\n",
       "      <td>1</td>\n",
       "      <td>0</td>\n",
       "      <td>2</td>\n",
       "      <td>14675.0</td>\n",
       "      <td>60.0</td>\n",
       "      <td>0.1149</td>\n",
       "      <td>28000.0</td>\n",
       "      <td>23.10</td>\n",
       "      <td>0.0</td>\n",
       "      <td>724.0</td>\n",
       "      <td>0.0</td>\n",
       "      <td>7.0</td>\n",
       "      <td>0.0</td>\n",
       "      <td>11091.0</td>\n",
       "      <td>0.668</td>\n",
       "      <td>10.0</td>\n",
       "      <td>2375.29</td>\n",
       "      <td>923.65</td>\n",
       "      <td>681.45</td>\n",
       "      <td>0.0</td>\n",
       "      <td>770.19</td>\n",
       "      <td>138.6342</td>\n",
       "      <td>322.67</td>\n",
       "      <td>519.0</td>\n",
       "    </tr>\n",
       "  </tbody>\n",
       "</table>\n",
       "<p>41961 rows × 26 columns</p>\n",
       "</div>"
      ],
      "text/plain": [
       "       sub_grade  home_ownership  verification_status  loan_status  purpose  \\\n",
       "0              6               4                    1            1        1   \n",
       "1             13               4                    1            0        0   \n",
       "2             12               3                    0            1        2   \n",
       "3              5               4                    0            0        2   \n",
       "4             11               4                    1            1        2   \n",
       "...          ...             ...                  ...          ...      ...   \n",
       "42533         11               0                    1            1       13   \n",
       "42534         11               4                    1            1        2   \n",
       "42535         15               4                    0            1        9   \n",
       "42536         21               3                    1            1        9   \n",
       "42537          8               4                    1            0        2   \n",
       "\n",
       "       loan_amnt  term  int_rate  annual_inc    dti  delinq_2yrs  \\\n",
       "0         5000.0  36.0    0.1065     24000.0  27.65          0.0   \n",
       "1         2500.0  60.0    0.1527     30000.0   1.00          0.0   \n",
       "2         6500.0  60.0    0.1465     72000.0  16.12          0.0   \n",
       "3         6200.0  36.0    0.0991     25000.0  20.64          0.0   \n",
       "4        14000.0  36.0    0.1427     35000.0   8.40          0.0   \n",
       "...          ...   ...       ...         ...    ...          ...   \n",
       "42533     5000.0  36.0    0.1349    113000.0  12.96          0.0   \n",
       "42534    14975.0  60.0    0.1349     49100.0  15.71          0.0   \n",
       "42535     3600.0  36.0    0.1562    132000.0  21.62          2.0   \n",
       "42536    15000.0  36.0    0.1839     33600.0  14.25          0.0   \n",
       "42537    14675.0  60.0    0.1149     28000.0  23.10          0.0   \n",
       "\n",
       "       fico_range_high  inq_last_6mths  open_acc  pub_rec  revol_bal  \\\n",
       "0                739.0             1.0       3.0      0.0    13648.0   \n",
       "1                744.0             5.0       3.0      0.0     1687.0   \n",
       "2                699.0             2.0      14.0      0.0     4032.0   \n",
       "3                714.0             2.0       7.0      0.0     6533.0   \n",
       "4                684.0             1.0      12.0      0.0    13018.0   \n",
       "...                ...             ...       ...      ...        ...   \n",
       "42533            669.0             0.0      10.0      0.0    64186.0   \n",
       "42534            729.0             1.0       8.0      0.0    11312.0   \n",
       "42535            664.0             0.0       8.0      0.0    16250.0   \n",
       "42536            684.0             0.0       3.0      0.0     2038.0   \n",
       "42537            724.0             0.0       7.0      0.0    11091.0   \n",
       "\n",
       "       revol_util  total_acc  total_pymnt  total_rec_prncp  total_rec_int  \\\n",
       "0           0.837        9.0      5863.16          5000.00         863.16   \n",
       "1           0.094        4.0      1008.71           456.46         435.17   \n",
       "2           0.206       23.0      7678.02          6500.00        1178.02   \n",
       "3           0.477       12.0      2452.22          1700.79         493.16   \n",
       "4           0.657       30.0     16745.80         14000.00        2745.80   \n",
       "...           ...        ...          ...              ...            ...   \n",
       "42533       0.802       24.0      6088.78          5000.00        1088.78   \n",
       "42534       0.390       21.0     20468.31         14975.00        5493.31   \n",
       "42535       0.833       30.0      4531.99          3600.00         931.99   \n",
       "42536       0.970        8.0     19628.05         15000.00        4628.05   \n",
       "42537       0.668       10.0      2375.29           923.65         681.45   \n",
       "\n",
       "       total_rec_late_fee  recoveries  collection_recovery_fee  \\\n",
       "0                     0.0        0.00                   0.0000   \n",
       "1                     0.0      117.08                   1.1100   \n",
       "2                     0.0        0.00                   0.0000   \n",
       "3                     0.0      258.27                   2.5400   \n",
       "4                     0.0        0.00                   0.0000   \n",
       "...                   ...         ...                      ...   \n",
       "42533                 0.0        0.00                   0.0000   \n",
       "42534                 0.0        0.00                   0.0000   \n",
       "42535                 0.0        0.00                   0.0000   \n",
       "42536                 0.0        0.00                   0.0000   \n",
       "42537                 0.0      770.19                 138.6342   \n",
       "\n",
       "       last_pymnt_amnt  last_fico_range_high  \n",
       "0               171.62                 744.0  \n",
       "1               119.66                 499.0  \n",
       "2              1655.54                 734.0  \n",
       "3               199.80                 574.0  \n",
       "4              4746.25                 794.0  \n",
       "...                ...                   ...  \n",
       "42533           851.36                 719.0  \n",
       "42534          3606.66                 599.0  \n",
       "42535           137.15                 719.0  \n",
       "42536           568.34                 709.0  \n",
       "42537           322.67                 519.0  \n",
       "\n",
       "[41961 rows x 26 columns]"
      ]
     },
     "execution_count": 114,
     "metadata": {},
     "output_type": "execute_result"
    }
   ],
   "source": [
    "data3"
   ]
  },
  {
   "cell_type": "code",
   "execution_count": 115,
   "id": "97123da7",
   "metadata": {},
   "outputs": [
    {
     "data": {
      "text/plain": [
       "Index(['sub_grade', 'home_ownership', 'verification_status', 'loan_status',\n",
       "       'purpose', 'loan_amnt', 'term', 'int_rate', 'annual_inc', 'dti',\n",
       "       'delinq_2yrs', 'fico_range_high', 'inq_last_6mths', 'open_acc',\n",
       "       'pub_rec', 'revol_bal', 'revol_util', 'total_acc', 'total_pymnt',\n",
       "       'total_rec_prncp', 'total_rec_int', 'total_rec_late_fee', 'recoveries',\n",
       "       'collection_recovery_fee', 'last_pymnt_amnt', 'last_fico_range_high'],\n",
       "      dtype='object')"
      ]
     },
     "execution_count": 115,
     "metadata": {},
     "output_type": "execute_result"
    }
   ],
   "source": [
    "data3.columns"
   ]
  },
  {
   "cell_type": "markdown",
   "id": "610ad8e9",
   "metadata": {},
   "source": [
    "# IV- Application de 10 Modèles de classification sur notre data"
   ]
  },
  {
   "cell_type": "code",
   "execution_count": 116,
   "id": "77a16ef6",
   "metadata": {},
   "outputs": [],
   "source": [
    "X=data3.drop(\"loan_status\",axis=1)\n",
    "y=data3[\"loan_status\"]"
   ]
  },
  {
   "cell_type": "code",
   "execution_count": 117,
   "id": "584dac3e",
   "metadata": {},
   "outputs": [],
   "source": [
    "data3.head(1).to_csv(\"test.csv\")"
   ]
  },
  {
   "cell_type": "code",
   "execution_count": 118,
   "id": "6d5ade8c",
   "metadata": {},
   "outputs": [],
   "source": [
    "# divide data into test,train data: Echantilon startifié comme dans le module statistique\n",
    "sss=StratifiedShuffleSplit(n_splits=1,test_size=0.25,random_state=42)\n",
    "for train , test in sss.split(X,y): \n",
    "    X_train,X_test=X.iloc[train],X.iloc[test]\n",
    "    y_train,y_test=y.iloc[train],y.iloc[test]"
   ]
  },
  {
   "cell_type": "markdown",
   "id": "b079fab5",
   "metadata": {},
   "source": [
    "#### Le scaling a été entrainé sur les données train et aprés a permis de transformé les 2 données : X_train et X_test pour objectif d'éviter le data leakage entre le train set et le test set "
   ]
  },
  {
   "cell_type": "code",
   "execution_count": 119,
   "id": "783a40af",
   "metadata": {},
   "outputs": [],
   "source": [
    "from sklearn.preprocessing import MinMaxScaler\n",
    "scaler=MinMaxScaler()\n",
    "scaler.fit(X_train)\n",
    "X_train=scaler.transform(X_train)\n",
    "X_test=scaler.transform(X_test)\n",
    "# Sauvegarde du modèle scaler pour Usage sur Streamlit \n",
    "pickle.dump(scaler,open(\"scaler.pkl\",\"wb\"))"
   ]
  },
  {
   "cell_type": "code",
   "execution_count": 120,
   "id": "5857fef4",
   "metadata": {},
   "outputs": [],
   "source": [
    "#Choix du Modèle :Regression Logistique / KNN/ Decision Tree : \n",
    "models={'1-LogisticRegression':LogisticRegression(random_state=42),\n",
    "        '2-KNeighborsClassifier':KNeighborsClassifier(),\n",
    "        '3-DecisionTreeClassifier':DecisionTreeClassifier(max_depth=1,random_state=42),\n",
    "        \"4-Support Vector Machine\" : SVC() ,\n",
    "        \"5-Naive Bayes (Gaussian)\" : GaussianNB() , \n",
    "        \"6-Naive Bayes (Multinomial)\" : MultinomialNB() ,\n",
    "          \"7-Stochastic Gradient Descent Classifier\" : SGDClassifier(), \n",
    "        \"8-Random Forest\": RandomForestClassifier() , \n",
    "        \"9-Gradient Boosting Classifier\" :  GradientBoostingClassifier() , \n",
    "        \"10-Adaptive Boosting Classifier \" : AdaBoostClassifier() \n",
    "       }\n",
    "# Accuracy Function : \n",
    "def f1_sc(y_true,y_pred):\n",
    "    sc=f1_score(y_test,y_pred) \n",
    "    print(f'La precision du Modèle est :{round(sc,4)}')\n",
    "    \n",
    "# Run the models (train , test , evaluate): \n",
    "def train_test_eval(models,X_train,y_train,X_test, y_test):\n",
    "    for name , model in models.items() :\n",
    "        print(name,':')\n",
    "        model.fit(X_train,y_train)\n",
    "        f1_sc(y_test,model.predict(X_test))\n",
    "        print('-'*30)"
   ]
  },
  {
   "cell_type": "code",
   "execution_count": 121,
   "id": "49886606",
   "metadata": {},
   "outputs": [
    {
     "name": "stdout",
     "output_type": "stream",
     "text": [
      "1-LogisticRegression :\n",
      "La precision du Modèle est :0.9806\n",
      "------------------------------\n",
      "2-KNeighborsClassifier :\n",
      "La precision du Modèle est :0.9518\n",
      "------------------------------\n",
      "3-DecisionTreeClassifier :\n",
      "La precision du Modèle est :0.9773\n",
      "------------------------------\n",
      "4-Support Vector Machine :\n",
      "La precision du Modèle est :0.9834\n",
      "------------------------------\n",
      "5-Naive Bayes (Gaussian) :\n",
      "La precision du Modèle est :0.975\n",
      "------------------------------\n",
      "6-Naive Bayes (Multinomial) :\n",
      "La precision du Modèle est :0.9203\n",
      "------------------------------\n",
      "7-Stochastic Gradient Descent Classifier :\n",
      "La precision du Modèle est :0.9788\n",
      "------------------------------\n",
      "8-Random Forest :\n",
      "La precision du Modèle est :0.9956\n",
      "------------------------------\n",
      "9-Gradient Boosting Classifier :\n",
      "La precision du Modèle est :0.9959\n",
      "------------------------------\n",
      "10-Adaptive Boosting Classifier  :\n",
      "La precision du Modèle est :0.9961\n",
      "------------------------------\n"
     ]
    }
   ],
   "source": [
    "train_test_eval(models,X_train,y_train,X_test, y_test)\n",
    "#the best model used here is the Logistic Regression"
   ]
  },
  {
   "cell_type": "markdown",
   "id": "940d0198",
   "metadata": {},
   "source": [
    "### D'aprés le choix du F1 Score  : les Top 3 modèles sont : \n",
    "#### - Random Forest  :  99,57 %\n",
    "#### - Gradient Boosting Classifier :  99,59 %\n",
    "#### -Adaptive Boosting Classifier :  98,61 %"
   ]
  },
  {
   "cell_type": "markdown",
   "id": "bbf97e8e",
   "metadata": {},
   "source": [
    "# V- choix de 3 Modèles les plus Performants"
   ]
  },
  {
   "cell_type": "markdown",
   "id": "9feae163",
   "metadata": {},
   "source": [
    "## 1- Gradient Boosting Classifier"
   ]
  },
  {
   "cell_type": "code",
   "execution_count": 122,
   "id": "8fdcf5e1",
   "metadata": {},
   "outputs": [],
   "source": [
    "model=GradientBoostingClassifier(random_state=42)"
   ]
  },
  {
   "cell_type": "markdown",
   "id": "5e4e77eb",
   "metadata": {},
   "source": [
    "### a- Unblanced Data"
   ]
  },
  {
   "cell_type": "code",
   "execution_count": 123,
   "id": "6f430a42",
   "metadata": {},
   "outputs": [],
   "source": [
    "def evaluation(model , X_train,y_train):\n",
    "    model.fit(X_train,y_train)\n",
    "    Ypred=model.predict(X_test)\n",
    "   \n",
    "    print(confusion_matrix(y_test,Ypred))\n",
    "    print(classification_report(y_test, Ypred))\n",
    "    \n",
    "    N, train_score, val_score = learning_curve(model, X_train, y_train, cv=5,scoring='f1', train_sizes=np.linspace(0.1,1,10))\n",
    "    plt.figure(figsize=(12,8))\n",
    "    plt.plot(N, train_score.mean(axis=1), label='train score',color=\"red\")\n",
    "    plt.plot(N, val_score.mean(axis=1), label='validation score',color=\"blue\")\n",
    "    plt.legend\n",
    "\n",
    "    "
   ]
  },
  {
   "cell_type": "code",
   "execution_count": 124,
   "id": "3e0d9d08",
   "metadata": {
    "scrolled": false
   },
   "outputs": [
    {
     "name": "stdout",
     "output_type": "stream",
     "text": [
      "[[1543   63]\n",
      " [  10 8875]]\n",
      "              precision    recall  f1-score   support\n",
      "\n",
      "           0       0.99      0.96      0.98      1606\n",
      "           1       0.99      1.00      1.00      8885\n",
      "\n",
      "    accuracy                           0.99     10491\n",
      "   macro avg       0.99      0.98      0.99     10491\n",
      "weighted avg       0.99      0.99      0.99     10491\n",
      "\n"
     ]
    },
    {
     "data": {
      "image/png": "[encoded data removed]",
      "text/plain": [
       "<Figure size 864x576 with 1 Axes>"
      ]
     },
     "metadata": {
      "needs_background": "light"
     },
     "output_type": "display_data"
    }
   ],
   "source": [
    "evaluation(model , X_train , y_train)"
   ]
  },
  {
   "cell_type": "markdown",
   "id": "2dfc7a53",
   "metadata": {},
   "source": [
    "### b- Model with data balanced "
   ]
  },
  {
   "cell_type": "code",
   "execution_count": 125,
   "id": "b2720b67",
   "metadata": {},
   "outputs": [],
   "source": [
    "#!pip install imblearn"
   ]
  },
  {
   "cell_type": "code",
   "execution_count": 126,
   "id": "916c113c",
   "metadata": {},
   "outputs": [
    {
     "name": "stdout",
     "output_type": "stream",
     "text": [
      "Before OverSampling, counts of label '1': 26652\n",
      "Before OverSampling, counts of label '0': 4818 \n",
      "\n",
      "After OverSampling, counts of label '1': 26652\n",
      "After OverSampling, counts of label '0': 26652\n"
     ]
    }
   ],
   "source": [
    "# from imblearn.over_sampling import SMOTE\n",
    "from imblearn.over_sampling import RandomOverSampler\n",
    "print(\"Before OverSampling, counts of label '1': {}\".format(sum(y_train==1)))\n",
    "print(\"Before OverSampling, counts of label '0': {} \\n\".format(sum(y_train==0)))\n",
    "\n",
    "# Over Sampling\n",
    "ros = RandomOverSampler(random_state=42)\n",
    "X_train_res, y_train_res = ros.fit_resample(X_train, y_train.ravel())\n",
    "\n",
    "print(\"After OverSampling, counts of label '1': {}\".format(sum(y_train_res==1)))\n",
    "print(\"After OverSampling, counts of label '0': {}\".format(sum(y_train_res==0)))"
   ]
  },
  {
   "cell_type": "code",
   "execution_count": 127,
   "id": "44ce079a",
   "metadata": {},
   "outputs": [
    {
     "name": "stdout",
     "output_type": "stream",
     "text": [
      "[[1579   27]\n",
      " [  27 8858]]\n",
      "              precision    recall  f1-score   support\n",
      "\n",
      "           0       0.98      0.98      0.98      1606\n",
      "           1       1.00      1.00      1.00      8885\n",
      "\n",
      "    accuracy                           0.99     10491\n",
      "   macro avg       0.99      0.99      0.99     10491\n",
      "weighted avg       0.99      0.99      0.99     10491\n",
      "\n"
     ]
    },
    {
     "data": {
      "image/png": "[encoded data removed]",
      "text/plain": [
       "<Figure size 864x576 with 1 Axes>"
      ]
     },
     "metadata": {
      "needs_background": "light"
     },
     "output_type": "display_data"
    }
   ],
   "source": [
    "model=GradientBoostingClassifier(random_state=42)\n",
    "evaluation(model , X_train_res , y_train_res)"
   ]
  },
  {
   "cell_type": "code",
   "execution_count": 128,
   "id": "f0faa6eb",
   "metadata": {},
   "outputs": [
    {
     "name": "stdout",
     "output_type": "stream",
     "text": [
      "Before UnderSampling, counts of label '1': 26652\n",
      "Before UnderSampling, counts of label '0': 4818 \n",
      "\n",
      "After UnderSampling, counts of label '1': 4818\n",
      "After UnderSampling, counts of label '0': 4818\n"
     ]
    }
   ],
   "source": [
    "# from imblearn.over_sampling import SMOTE\n",
    "from imblearn.under_sampling import RandomUnderSampler\n",
    "print(\"Before UnderSampling, counts of label '1': {}\".format(sum(y_train==1)))\n",
    "print(\"Before UnderSampling, counts of label '0': {} \\n\".format(sum(y_train==0)))\n",
    "\n",
    "# Over Sampling\n",
    "ros = RandomUnderSampler(random_state=42)\n",
    "X_train_res1, y_train_res1 = ros.fit_resample(X_train, y_train.ravel())\n",
    "\n",
    "print(\"After UnderSampling, counts of label '1': {}\".format(sum(y_train_res1==1)))\n",
    "print(\"After UnderSampling, counts of label '0': {}\".format(sum(y_train_res1==0)))"
   ]
  },
  {
   "cell_type": "code",
   "execution_count": 129,
   "id": "c0638c81",
   "metadata": {},
   "outputs": [
    {
     "name": "stdout",
     "output_type": "stream",
     "text": [
      "[[1578   28]\n",
      " [  28 8857]]\n",
      "              precision    recall  f1-score   support\n",
      "\n",
      "           0       0.98      0.98      0.98      1606\n",
      "           1       1.00      1.00      1.00      8885\n",
      "\n",
      "    accuracy                           0.99     10491\n",
      "   macro avg       0.99      0.99      0.99     10491\n",
      "weighted avg       0.99      0.99      0.99     10491\n",
      "\n"
     ]
    },
    {
     "data": {
      "image/png": "[encoded data removed]",
      "text/plain": [
       "<Figure size 864x576 with 1 Axes>"
      ]
     },
     "metadata": {
      "needs_background": "light"
     },
     "output_type": "display_data"
    }
   ],
   "source": [
    "model=GradientBoostingClassifier(random_state=42)\n",
    "evaluation(model , X_train_res1 , y_train_res1)"
   ]
  },
  {
   "cell_type": "markdown",
   "id": "f13fa095",
   "metadata": {},
   "source": [
    "### Pour le 1 ere modèle( Gradient Boosting Classifier) , le fait de balancer les données n 'influence pas bcp les résultats du modèle , mais l 'usage du OverSampling  donne au minimum d erreur de prédiction de 0 FN (15 vs 37 erreurs de prédiction "
   ]
  },
  {
   "cell_type": "code",
   "execution_count": 130,
   "id": "6bb46f1f",
   "metadata": {},
   "outputs": [
    {
     "data": {
      "text/html": [
       "<style>#sk-container-id-1 {color: black;background-color: white;}#sk-container-id-1 pre{padding: 0;}#sk-container-id-1 div.sk-toggleable {background-color: white;}#sk-container-id-1 label.sk-toggleable__label {cursor: pointer;display: block;width: 100%;margin-bottom: 0;padding: 0.3em;box-sizing: border-box;text-align: center;}#sk-container-id-1 label.sk-toggleable__label-arrow:before {content: \"▸\";float: left;margin-right: 0.25em;color: #696969;}#sk-container-id-1 label.sk-toggleable__label-arrow:hover:before {color: black;}#sk-container-id-1 div.sk-estimator:hover label.sk-toggleable__label-arrow:before {color: black;}#sk-container-id-1 div.sk-toggleable__content {max-height: 0;max-width: 0;overflow: hidden;text-align: left;background-color: #f0f8ff;}#sk-container-id-1 div.sk-toggleable__content pre {margin: 0.2em;color: black;border-radius: 0.25em;background-color: #f0f8ff;}#sk-container-id-1 input.sk-toggleable__control:checked~div.sk-toggleable__content {max-height: 200px;max-width: 100%;overflow: auto;}#sk-container-id-1 input.sk-toggleable__control:checked~label.sk-toggleable__label-arrow:before {content: \"▾\";}#sk-container-id-1 div.sk-estimator input.sk-toggleable__control:checked~label.sk-toggleable__label {background-color: #d4ebff;}#sk-container-id-1 div.sk-label input.sk-toggleable__control:checked~label.sk-toggleable__label {background-color: #d4ebff;}#sk-container-id-1 input.sk-hidden--visually {border: 0;clip: rect(1px 1px 1px 1px);clip: rect(1px, 1px, 1px, 1px);height: 1px;margin: -1px;overflow: hidden;padding: 0;position: absolute;width: 1px;}#sk-container-id-1 div.sk-estimator {font-family: monospace;background-color: #f0f8ff;border: 1px dotted black;border-radius: 0.25em;box-sizing: border-box;margin-bottom: 0.5em;}#sk-container-id-1 div.sk-estimator:hover {background-color: #d4ebff;}#sk-container-id-1 div.sk-parallel-item::after {content: \"\";width: 100%;border-bottom: 1px solid gray;flex-grow: 1;}#sk-container-id-1 div.sk-label:hover label.sk-toggleable__label {background-color: #d4ebff;}#sk-container-id-1 div.sk-serial::before {content: \"\";position: absolute;border-left: 1px solid gray;box-sizing: border-box;top: 0;bottom: 0;left: 50%;z-index: 0;}#sk-container-id-1 div.sk-serial {display: flex;flex-direction: column;align-items: center;background-color: white;padding-right: 0.2em;padding-left: 0.2em;position: relative;}#sk-container-id-1 div.sk-item {position: relative;z-index: 1;}#sk-container-id-1 div.sk-parallel {display: flex;align-items: stretch;justify-content: center;background-color: white;position: relative;}#sk-container-id-1 div.sk-item::before, #sk-container-id-1 div.sk-parallel-item::before {content: \"\";position: absolute;border-left: 1px solid gray;box-sizing: border-box;top: 0;bottom: 0;left: 50%;z-index: -1;}#sk-container-id-1 div.sk-parallel-item {display: flex;flex-direction: column;z-index: 1;position: relative;background-color: white;}#sk-container-id-1 div.sk-parallel-item:first-child::after {align-self: flex-end;width: 50%;}#sk-container-id-1 div.sk-parallel-item:last-child::after {align-self: flex-start;width: 50%;}#sk-container-id-1 div.sk-parallel-item:only-child::after {width: 0;}#sk-container-id-1 div.sk-dashed-wrapped {border: 1px dashed gray;margin: 0 0.4em 0.5em 0.4em;box-sizing: border-box;padding-bottom: 0.4em;background-color: white;}#sk-container-id-1 div.sk-label label {font-family: monospace;font-weight: bold;display: inline-block;line-height: 1.2em;}#sk-container-id-1 div.sk-label-container {text-align: center;}#sk-container-id-1 div.sk-container {/* jupyter's `normalize.less` sets `[hidden] { display: none; }` but bootstrap.min.css set `[hidden] { display: none !important; }` so we also need the `!important` here to be able to override the default hidden behavior on the sphinx rendered scikit-learn.org. See: https://github.com/scikit-learn/scikit-learn/issues/21755 */display: inline-block !important;position: relative;}#sk-container-id-1 div.sk-text-repr-fallback {display: none;}</style><div id=\"sk-container-id-1\" class=\"sk-top-container\"><div class=\"sk-text-repr-fallback\"><pre>GradientBoostingClassifier(random_state=42)</pre><b>In a Jupyter environment, please rerun this cell to show the HTML representation or trust the notebook. <br />On GitHub, the HTML representation is unable to render, please try loading this page with nbviewer.org.</b></div><div class=\"sk-container\" hidden><div class=\"sk-item\"><div class=\"sk-estimator sk-toggleable\"><input class=\"sk-toggleable__control sk-hidden--visually\" id=\"sk-estimator-id-1\" type=\"checkbox\" checked><label for=\"sk-estimator-id-1\" class=\"sk-toggleable__label sk-toggleable__label-arrow\">GradientBoostingClassifier</label><div class=\"sk-toggleable__content\"><pre>GradientBoostingClassifier(random_state=42)</pre></div></div></div></div></div>"
      ],
      "text/plain": [
       "GradientBoostingClassifier(random_state=42)"
      ]
     },
     "execution_count": 130,
     "metadata": {},
     "output_type": "execute_result"
    }
   ],
   "source": [
    "Model1=GradientBoostingClassifier(random_state=42)\n",
    "Model1.fit(X_train_res, y_train_res)"
   ]
  },
  {
   "cell_type": "markdown",
   "id": "159b89f3",
   "metadata": {},
   "source": [
    "## 2-  Random Forest "
   ]
  },
  {
   "cell_type": "markdown",
   "id": "a4b8ff46",
   "metadata": {},
   "source": [
    "### a- Unblanced Data"
   ]
  },
  {
   "cell_type": "code",
   "execution_count": 131,
   "id": "dcf6b588",
   "metadata": {},
   "outputs": [
    {
     "name": "stdout",
     "output_type": "stream",
     "text": [
      "[[1531   75]\n",
      " [   5 8880]]\n",
      "              precision    recall  f1-score   support\n",
      "\n",
      "           0       1.00      0.95      0.97      1606\n",
      "           1       0.99      1.00      1.00      8885\n",
      "\n",
      "    accuracy                           0.99     10491\n",
      "   macro avg       0.99      0.98      0.99     10491\n",
      "weighted avg       0.99      0.99      0.99     10491\n",
      "\n"
     ]
    },
    {
     "data": {
      "image/png": "[encoded data removed]",
      "text/plain": [
       "<Figure size 864x576 with 1 Axes>"
      ]
     },
     "metadata": {
      "needs_background": "light"
     },
     "output_type": "display_data"
    }
   ],
   "source": [
    "model=RandomForestClassifier(random_state=42)\n",
    "evaluation(model , X_train , y_train)"
   ]
  },
  {
   "cell_type": "markdown",
   "id": "9b50ffea",
   "metadata": {},
   "source": [
    "### b-  Model with data balanced"
   ]
  },
  {
   "cell_type": "code",
   "execution_count": 132,
   "id": "74d90256",
   "metadata": {},
   "outputs": [
    {
     "name": "stdout",
     "output_type": "stream",
     "text": [
      "[[1557   49]\n",
      " [   5 8880]]\n",
      "              precision    recall  f1-score   support\n",
      "\n",
      "           0       1.00      0.97      0.98      1606\n",
      "           1       0.99      1.00      1.00      8885\n",
      "\n",
      "    accuracy                           0.99     10491\n",
      "   macro avg       1.00      0.98      0.99     10491\n",
      "weighted avg       0.99      0.99      0.99     10491\n",
      "\n"
     ]
    },
    {
     "data": {
      "image/png": "[encoded data removed]",
      "text/plain": [
       "<Figure size 864x576 with 1 Axes>"
      ]
     },
     "metadata": {
      "needs_background": "light"
     },
     "output_type": "display_data"
    }
   ],
   "source": [
    "# OverSampling Data :\n",
    "model=RandomForestClassifier(random_state=42)\n",
    "evaluation(model , X_train_res , y_train_res)"
   ]
  },
  {
   "cell_type": "code",
   "execution_count": 133,
   "id": "5a06fbac",
   "metadata": {},
   "outputs": [
    {
     "name": "stdout",
     "output_type": "stream",
     "text": [
      "[[1564   42]\n",
      " [  18 8867]]\n",
      "              precision    recall  f1-score   support\n",
      "\n",
      "           0       0.99      0.97      0.98      1606\n",
      "           1       1.00      1.00      1.00      8885\n",
      "\n",
      "    accuracy                           0.99     10491\n",
      "   macro avg       0.99      0.99      0.99     10491\n",
      "weighted avg       0.99      0.99      0.99     10491\n",
      "\n"
     ]
    },
    {
     "data": {
      "image/png": "[encoded data removed]",
      "text/plain": [
       "<Figure size 864x576 with 1 Axes>"
      ]
     },
     "metadata": {
      "needs_background": "light"
     },
     "output_type": "display_data"
    }
   ],
   "source": [
    "# UnderSampling Data : \n",
    "model=RandomForestClassifier(random_state=42)\n",
    "evaluation(model , X_train_res1 , y_train_res1)"
   ]
  },
  {
   "cell_type": "markdown",
   "id": "cfd41ce1",
   "metadata": {},
   "source": [
    "### Pour le 2 ème modèle( RandomForestClassifier) , le fait de balancer les données n 'influence pas bcp les résultats du modèle , mais l 'usage du UnderSampling  donne au minimum d erreur de prédiction de 0 FN (22 vs 45 erreurs de prédiction \n",
    "#### on donne plus l'importance a l octroie d'un crédit a une personne non solvable "
   ]
  },
  {
   "cell_type": "code",
   "execution_count": 134,
   "id": "8cc55cec",
   "metadata": {},
   "outputs": [
    {
     "data": {
      "text/html": [
       "<style>#sk-container-id-2 {color: black;background-color: white;}#sk-container-id-2 pre{padding: 0;}#sk-container-id-2 div.sk-toggleable {background-color: white;}#sk-container-id-2 label.sk-toggleable__label {cursor: pointer;display: block;width: 100%;margin-bottom: 0;padding: 0.3em;box-sizing: border-box;text-align: center;}#sk-container-id-2 label.sk-toggleable__label-arrow:before {content: \"▸\";float: left;margin-right: 0.25em;color: #696969;}#sk-container-id-2 label.sk-toggleable__label-arrow:hover:before {color: black;}#sk-container-id-2 div.sk-estimator:hover label.sk-toggleable__label-arrow:before {color: black;}#sk-container-id-2 div.sk-toggleable__content {max-height: 0;max-width: 0;overflow: hidden;text-align: left;background-color: #f0f8ff;}#sk-container-id-2 div.sk-toggleable__content pre {margin: 0.2em;color: black;border-radius: 0.25em;background-color: #f0f8ff;}#sk-container-id-2 input.sk-toggleable__control:checked~div.sk-toggleable__content {max-height: 200px;max-width: 100%;overflow: auto;}#sk-container-id-2 input.sk-toggleable__control:checked~label.sk-toggleable__label-arrow:before {content: \"▾\";}#sk-container-id-2 div.sk-estimator input.sk-toggleable__control:checked~label.sk-toggleable__label {background-color: #d4ebff;}#sk-container-id-2 div.sk-label input.sk-toggleable__control:checked~label.sk-toggleable__label {background-color: #d4ebff;}#sk-container-id-2 input.sk-hidden--visually {border: 0;clip: rect(1px 1px 1px 1px);clip: rect(1px, 1px, 1px, 1px);height: 1px;margin: -1px;overflow: hidden;padding: 0;position: absolute;width: 1px;}#sk-container-id-2 div.sk-estimator {font-family: monospace;background-color: #f0f8ff;border: 1px dotted black;border-radius: 0.25em;box-sizing: border-box;margin-bottom: 0.5em;}#sk-container-id-2 div.sk-estimator:hover {background-color: #d4ebff;}#sk-container-id-2 div.sk-parallel-item::after {content: \"\";width: 100%;border-bottom: 1px solid gray;flex-grow: 1;}#sk-container-id-2 div.sk-label:hover label.sk-toggleable__label {background-color: #d4ebff;}#sk-container-id-2 div.sk-serial::before {content: \"\";position: absolute;border-left: 1px solid gray;box-sizing: border-box;top: 0;bottom: 0;left: 50%;z-index: 0;}#sk-container-id-2 div.sk-serial {display: flex;flex-direction: column;align-items: center;background-color: white;padding-right: 0.2em;padding-left: 0.2em;position: relative;}#sk-container-id-2 div.sk-item {position: relative;z-index: 1;}#sk-container-id-2 div.sk-parallel {display: flex;align-items: stretch;justify-content: center;background-color: white;position: relative;}#sk-container-id-2 div.sk-item::before, #sk-container-id-2 div.sk-parallel-item::before {content: \"\";position: absolute;border-left: 1px solid gray;box-sizing: border-box;top: 0;bottom: 0;left: 50%;z-index: -1;}#sk-container-id-2 div.sk-parallel-item {display: flex;flex-direction: column;z-index: 1;position: relative;background-color: white;}#sk-container-id-2 div.sk-parallel-item:first-child::after {align-self: flex-end;width: 50%;}#sk-container-id-2 div.sk-parallel-item:last-child::after {align-self: flex-start;width: 50%;}#sk-container-id-2 div.sk-parallel-item:only-child::after {width: 0;}#sk-container-id-2 div.sk-dashed-wrapped {border: 1px dashed gray;margin: 0 0.4em 0.5em 0.4em;box-sizing: border-box;padding-bottom: 0.4em;background-color: white;}#sk-container-id-2 div.sk-label label {font-family: monospace;font-weight: bold;display: inline-block;line-height: 1.2em;}#sk-container-id-2 div.sk-label-container {text-align: center;}#sk-container-id-2 div.sk-container {/* jupyter's `normalize.less` sets `[hidden] { display: none; }` but bootstrap.min.css set `[hidden] { display: none !important; }` so we also need the `!important` here to be able to override the default hidden behavior on the sphinx rendered scikit-learn.org. See: https://github.com/scikit-learn/scikit-learn/issues/21755 */display: inline-block !important;position: relative;}#sk-container-id-2 div.sk-text-repr-fallback {display: none;}</style><div id=\"sk-container-id-2\" class=\"sk-top-container\"><div class=\"sk-text-repr-fallback\"><pre>RandomForestClassifier(random_state=42)</pre><b>In a Jupyter environment, please rerun this cell to show the HTML representation or trust the notebook. <br />On GitHub, the HTML representation is unable to render, please try loading this page with nbviewer.org.</b></div><div class=\"sk-container\" hidden><div class=\"sk-item\"><div class=\"sk-estimator sk-toggleable\"><input class=\"sk-toggleable__control sk-hidden--visually\" id=\"sk-estimator-id-2\" type=\"checkbox\" checked><label for=\"sk-estimator-id-2\" class=\"sk-toggleable__label sk-toggleable__label-arrow\">RandomForestClassifier</label><div class=\"sk-toggleable__content\"><pre>RandomForestClassifier(random_state=42)</pre></div></div></div></div></div>"
      ],
      "text/plain": [
       "RandomForestClassifier(random_state=42)"
      ]
     },
     "execution_count": 134,
     "metadata": {},
     "output_type": "execute_result"
    }
   ],
   "source": [
    "Model2=RandomForestClassifier(random_state=42)\n",
    "Model2.fit(X_train_res1 , y_train_res1)"
   ]
  },
  {
   "cell_type": "markdown",
   "id": "f5d5ad72",
   "metadata": {},
   "source": [
    "## 3-  Adaptive Boosting Classifier "
   ]
  },
  {
   "cell_type": "markdown",
   "id": "1fc04655",
   "metadata": {},
   "source": [
    "### a- Unbalanced Data"
   ]
  },
  {
   "cell_type": "code",
   "execution_count": 135,
   "id": "24d96e0c",
   "metadata": {},
   "outputs": [
    {
     "name": "stdout",
     "output_type": "stream",
     "text": [
      "[[1543   63]\n",
      " [   6 8879]]\n",
      "              precision    recall  f1-score   support\n",
      "\n",
      "           0       1.00      0.96      0.98      1606\n",
      "           1       0.99      1.00      1.00      8885\n",
      "\n",
      "    accuracy                           0.99     10491\n",
      "   macro avg       0.99      0.98      0.99     10491\n",
      "weighted avg       0.99      0.99      0.99     10491\n",
      "\n"
     ]
    },
    {
     "data": {
      "image/png": "[encoded data removed]",
      "text/plain": [
       "<Figure size 864x576 with 1 Axes>"
      ]
     },
     "metadata": {
      "needs_background": "light"
     },
     "output_type": "display_data"
    }
   ],
   "source": [
    " # No balancing :\n",
    "model=AdaBoostClassifier(random_state=42)\n",
    "evaluation(model , X_train , y_train)"
   ]
  },
  {
   "cell_type": "code",
   "execution_count": 136,
   "id": "aae90bb5",
   "metadata": {},
   "outputs": [],
   "source": [
    "### b- Model with data balanced"
   ]
  },
  {
   "cell_type": "code",
   "execution_count": 137,
   "id": "f1245279",
   "metadata": {},
   "outputs": [
    {
     "name": "stdout",
     "output_type": "stream",
     "text": [
      "[[1561   45]\n",
      " [  35 8850]]\n",
      "              precision    recall  f1-score   support\n",
      "\n",
      "           0       0.98      0.97      0.98      1606\n",
      "           1       0.99      1.00      1.00      8885\n",
      "\n",
      "    accuracy                           0.99     10491\n",
      "   macro avg       0.99      0.98      0.99     10491\n",
      "weighted avg       0.99      0.99      0.99     10491\n",
      "\n"
     ]
    },
    {
     "data": {
      "image/png": "[encoded data removed]",
      "text/plain": [
       "<Figure size 864x576 with 1 Axes>"
      ]
     },
     "metadata": {
      "needs_background": "light"
     },
     "output_type": "display_data"
    }
   ],
   "source": [
    " # OverSampling :\n",
    "model=AdaBoostClassifier(random_state=42)\n",
    "evaluation(model , X_train_res , y_train_res)"
   ]
  },
  {
   "cell_type": "code",
   "execution_count": 138,
   "id": "4e6d45c3",
   "metadata": {},
   "outputs": [
    {
     "name": "stdout",
     "output_type": "stream",
     "text": [
      "[[1571   35]\n",
      " [  36 8849]]\n",
      "              precision    recall  f1-score   support\n",
      "\n",
      "           0       0.98      0.98      0.98      1606\n",
      "           1       1.00      1.00      1.00      8885\n",
      "\n",
      "    accuracy                           0.99     10491\n",
      "   macro avg       0.99      0.99      0.99     10491\n",
      "weighted avg       0.99      0.99      0.99     10491\n",
      "\n"
     ]
    },
    {
     "data": {
      "image/png": "[encoded data removed]",
      "text/plain": [
       "<Figure size 864x576 with 1 Axes>"
      ]
     },
     "metadata": {
      "needs_background": "light"
     },
     "output_type": "display_data"
    }
   ],
   "source": [
    " # UnderSampling :\n",
    "model=AdaBoostClassifier(random_state=42)\n",
    "evaluation(model , X_train_res1 , y_train_res1)"
   ]
  },
  {
   "cell_type": "markdown",
   "id": "29feb87c",
   "metadata": {},
   "source": [
    "### Pour le 3 ème modèle( AdaBoostClassifier) , le fait de balancer les données n 'influence pas bcp les résultats du modèle , mais l 'usage du overSampling  donne au minimum d erreur de prédiction de 0 FN (19 vs 46 erreurs de prédiction \n",
    "#### on donne plus l'importance a l octroie d'un crédit a une personne non solvable "
   ]
  },
  {
   "cell_type": "code",
   "execution_count": 139,
   "id": "c95da705",
   "metadata": {},
   "outputs": [
    {
     "data": {
      "text/html": [
       "<style>#sk-container-id-3 {color: black;background-color: white;}#sk-container-id-3 pre{padding: 0;}#sk-container-id-3 div.sk-toggleable {background-color: white;}#sk-container-id-3 label.sk-toggleable__label {cursor: pointer;display: block;width: 100%;margin-bottom: 0;padding: 0.3em;box-sizing: border-box;text-align: center;}#sk-container-id-3 label.sk-toggleable__label-arrow:before {content: \"▸\";float: left;margin-right: 0.25em;color: #696969;}#sk-container-id-3 label.sk-toggleable__label-arrow:hover:before {color: black;}#sk-container-id-3 div.sk-estimator:hover label.sk-toggleable__label-arrow:before {color: black;}#sk-container-id-3 div.sk-toggleable__content {max-height: 0;max-width: 0;overflow: hidden;text-align: left;background-color: #f0f8ff;}#sk-container-id-3 div.sk-toggleable__content pre {margin: 0.2em;color: black;border-radius: 0.25em;background-color: #f0f8ff;}#sk-container-id-3 input.sk-toggleable__control:checked~div.sk-toggleable__content {max-height: 200px;max-width: 100%;overflow: auto;}#sk-container-id-3 input.sk-toggleable__control:checked~label.sk-toggleable__label-arrow:before {content: \"▾\";}#sk-container-id-3 div.sk-estimator input.sk-toggleable__control:checked~label.sk-toggleable__label {background-color: #d4ebff;}#sk-container-id-3 div.sk-label input.sk-toggleable__control:checked~label.sk-toggleable__label {background-color: #d4ebff;}#sk-container-id-3 input.sk-hidden--visually {border: 0;clip: rect(1px 1px 1px 1px);clip: rect(1px, 1px, 1px, 1px);height: 1px;margin: -1px;overflow: hidden;padding: 0;position: absolute;width: 1px;}#sk-container-id-3 div.sk-estimator {font-family: monospace;background-color: #f0f8ff;border: 1px dotted black;border-radius: 0.25em;box-sizing: border-box;margin-bottom: 0.5em;}#sk-container-id-3 div.sk-estimator:hover {background-color: #d4ebff;}#sk-container-id-3 div.sk-parallel-item::after {content: \"\";width: 100%;border-bottom: 1px solid gray;flex-grow: 1;}#sk-container-id-3 div.sk-label:hover label.sk-toggleable__label {background-color: #d4ebff;}#sk-container-id-3 div.sk-serial::before {content: \"\";position: absolute;border-left: 1px solid gray;box-sizing: border-box;top: 0;bottom: 0;left: 50%;z-index: 0;}#sk-container-id-3 div.sk-serial {display: flex;flex-direction: column;align-items: center;background-color: white;padding-right: 0.2em;padding-left: 0.2em;position: relative;}#sk-container-id-3 div.sk-item {position: relative;z-index: 1;}#sk-container-id-3 div.sk-parallel {display: flex;align-items: stretch;justify-content: center;background-color: white;position: relative;}#sk-container-id-3 div.sk-item::before, #sk-container-id-3 div.sk-parallel-item::before {content: \"\";position: absolute;border-left: 1px solid gray;box-sizing: border-box;top: 0;bottom: 0;left: 50%;z-index: -1;}#sk-container-id-3 div.sk-parallel-item {display: flex;flex-direction: column;z-index: 1;position: relative;background-color: white;}#sk-container-id-3 div.sk-parallel-item:first-child::after {align-self: flex-end;width: 50%;}#sk-container-id-3 div.sk-parallel-item:last-child::after {align-self: flex-start;width: 50%;}#sk-container-id-3 div.sk-parallel-item:only-child::after {width: 0;}#sk-container-id-3 div.sk-dashed-wrapped {border: 1px dashed gray;margin: 0 0.4em 0.5em 0.4em;box-sizing: border-box;padding-bottom: 0.4em;background-color: white;}#sk-container-id-3 div.sk-label label {font-family: monospace;font-weight: bold;display: inline-block;line-height: 1.2em;}#sk-container-id-3 div.sk-label-container {text-align: center;}#sk-container-id-3 div.sk-container {/* jupyter's `normalize.less` sets `[hidden] { display: none; }` but bootstrap.min.css set `[hidden] { display: none !important; }` so we also need the `!important` here to be able to override the default hidden behavior on the sphinx rendered scikit-learn.org. See: https://github.com/scikit-learn/scikit-learn/issues/21755 */display: inline-block !important;position: relative;}#sk-container-id-3 div.sk-text-repr-fallback {display: none;}</style><div id=\"sk-container-id-3\" class=\"sk-top-container\"><div class=\"sk-text-repr-fallback\"><pre>AdaBoostClassifier(random_state=42)</pre><b>In a Jupyter environment, please rerun this cell to show the HTML representation or trust the notebook. <br />On GitHub, the HTML representation is unable to render, please try loading this page with nbviewer.org.</b></div><div class=\"sk-container\" hidden><div class=\"sk-item\"><div class=\"sk-estimator sk-toggleable\"><input class=\"sk-toggleable__control sk-hidden--visually\" id=\"sk-estimator-id-3\" type=\"checkbox\" checked><label for=\"sk-estimator-id-3\" class=\"sk-toggleable__label sk-toggleable__label-arrow\">AdaBoostClassifier</label><div class=\"sk-toggleable__content\"><pre>AdaBoostClassifier(random_state=42)</pre></div></div></div></div></div>"
      ],
      "text/plain": [
       "AdaBoostClassifier(random_state=42)"
      ]
     },
     "execution_count": 139,
     "metadata": {},
     "output_type": "execute_result"
    }
   ],
   "source": [
    "Model3=AdaBoostClassifier(random_state=42)\n",
    "Model3.fit(X_train_res1 , y_train_res1)"
   ]
  },
  {
   "cell_type": "markdown",
   "id": "7a653bd5",
   "metadata": {},
   "source": [
    "# V- choix du Modèle Finale et Tuning "
   ]
  },
  {
   "cell_type": "markdown",
   "id": "aaa45543",
   "metadata": {},
   "source": [
    "## 1- Choix du Modèle Finale"
   ]
  },
  {
   "cell_type": "code",
   "execution_count": 140,
   "id": "985a61b3",
   "metadata": {},
   "outputs": [],
   "source": [
    "models=[Model1,Model2,Model3]"
   ]
  },
  {
   "cell_type": "code",
   "execution_count": 141,
   "id": "9e962628",
   "metadata": {},
   "outputs": [],
   "source": [
    "list_acc=[]\n",
    "list_f1=[]\n",
    "list_auc=[]\n",
    "for model in models : \n",
    "    y_pred=model.predict(X_test)\n",
    "    list_acc.append(round(accuracy_score(y_test,y_pred),4)*100)\n",
    "    list_f1.append(round(f1_score(y_test,y_pred),4)*100)\n",
    "    list_auc.append(round(roc_auc_score(y_test,y_pred),4)*100)"
   ]
  },
  {
   "cell_type": "code",
   "execution_count": 142,
   "id": "bb89ab6a",
   "metadata": {},
   "outputs": [],
   "source": [
    "results=pd.DataFrame(columns=[\"Accuracy\",\"f1 Score\", \"ROC AUC\"])\n",
    "results[\"Accuracy\"]=list_acc\n",
    "results[\"f1 Score\"]=list_f1\n",
    "results[\"ROC AUC\"]=list_auc\n",
    "results.index=[ \"Gradient Boosting Classifier\" ,\"Random Forest\" ,\"Adaptive Boosting Classifier\"]"
   ]
  },
  {
   "cell_type": "code",
   "execution_count": 143,
   "id": "eef1d238",
   "metadata": {},
   "outputs": [
    {
     "data": {
      "text/html": [
       "<div>\n",
       "<style scoped>\n",
       "    .dataframe tbody tr th:only-of-type {\n",
       "        vertical-align: middle;\n",
       "    }\n",
       "\n",
       "    .dataframe tbody tr th {\n",
       "        vertical-align: top;\n",
       "    }\n",
       "\n",
       "    .dataframe thead th {\n",
       "        text-align: right;\n",
       "    }\n",
       "</style>\n",
       "<table border=\"1\" class=\"dataframe\">\n",
       "  <thead>\n",
       "    <tr style=\"text-align: right;\">\n",
       "      <th></th>\n",
       "      <th>Accuracy</th>\n",
       "      <th>f1 Score</th>\n",
       "      <th>ROC AUC</th>\n",
       "    </tr>\n",
       "  </thead>\n",
       "  <tbody>\n",
       "    <tr>\n",
       "      <th>Gradient Boosting Classifier</th>\n",
       "      <td>99.49</td>\n",
       "      <td>99.70</td>\n",
       "      <td>99.01</td>\n",
       "    </tr>\n",
       "    <tr>\n",
       "      <th>Random Forest</th>\n",
       "      <td>99.43</td>\n",
       "      <td>99.66</td>\n",
       "      <td>98.59</td>\n",
       "    </tr>\n",
       "    <tr>\n",
       "      <th>Adaptive Boosting Classifier</th>\n",
       "      <td>99.32</td>\n",
       "      <td>99.60</td>\n",
       "      <td>98.71</td>\n",
       "    </tr>\n",
       "  </tbody>\n",
       "</table>\n",
       "</div>"
      ],
      "text/plain": [
       "                              Accuracy  f1 Score  ROC AUC\n",
       "Gradient Boosting Classifier     99.49     99.70    99.01\n",
       "Random Forest                    99.43     99.66    98.59\n",
       "Adaptive Boosting Classifier     99.32     99.60    98.71"
      ]
     },
     "execution_count": 143,
     "metadata": {},
     "output_type": "execute_result"
    }
   ],
   "source": [
    "results"
   ]
  },
  {
   "cell_type": "markdown",
   "id": "2394f8a6",
   "metadata": {},
   "source": [
    "## Conclusion :\n",
    "#### Le Meilleure Modèle est le : Gradient Boosting Classifier"
   ]
  },
  {
   "cell_type": "markdown",
   "id": "7c5090d0",
   "metadata": {},
   "source": [
    "## 2- Tuning du Modèle Finale "
   ]
  },
  {
   "cell_type": "code",
   "execution_count": 144,
   "id": "e76fd3c6",
   "metadata": {},
   "outputs": [],
   "source": [
    "from sklearn.model_selection import GridSearchCV\n",
    "from sklearn.metrics import accuracy_score\n",
    "from sklearn.metrics import precision_score\n",
    "from sklearn.metrics import recall_score\n",
    "from sklearn.metrics import make_scorer"
   ]
  },
  {
   "cell_type": "code",
   "execution_count": 145,
   "id": "a59b432b",
   "metadata": {},
   "outputs": [
    {
     "data": {
      "text/html": [
       "<style>#sk-container-id-4 {color: black;background-color: white;}#sk-container-id-4 pre{padding: 0;}#sk-container-id-4 div.sk-toggleable {background-color: white;}#sk-container-id-4 label.sk-toggleable__label {cursor: pointer;display: block;width: 100%;margin-bottom: 0;padding: 0.3em;box-sizing: border-box;text-align: center;}#sk-container-id-4 label.sk-toggleable__label-arrow:before {content: \"▸\";float: left;margin-right: 0.25em;color: #696969;}#sk-container-id-4 label.sk-toggleable__label-arrow:hover:before {color: black;}#sk-container-id-4 div.sk-estimator:hover label.sk-toggleable__label-arrow:before {color: black;}#sk-container-id-4 div.sk-toggleable__content {max-height: 0;max-width: 0;overflow: hidden;text-align: left;background-color: #f0f8ff;}#sk-container-id-4 div.sk-toggleable__content pre {margin: 0.2em;color: black;border-radius: 0.25em;background-color: #f0f8ff;}#sk-container-id-4 input.sk-toggleable__control:checked~div.sk-toggleable__content {max-height: 200px;max-width: 100%;overflow: auto;}#sk-container-id-4 input.sk-toggleable__control:checked~label.sk-toggleable__label-arrow:before {content: \"▾\";}#sk-container-id-4 div.sk-estimator input.sk-toggleable__control:checked~label.sk-toggleable__label {background-color: #d4ebff;}#sk-container-id-4 div.sk-label input.sk-toggleable__control:checked~label.sk-toggleable__label {background-color: #d4ebff;}#sk-container-id-4 input.sk-hidden--visually {border: 0;clip: rect(1px 1px 1px 1px);clip: rect(1px, 1px, 1px, 1px);height: 1px;margin: -1px;overflow: hidden;padding: 0;position: absolute;width: 1px;}#sk-container-id-4 div.sk-estimator {font-family: monospace;background-color: #f0f8ff;border: 1px dotted black;border-radius: 0.25em;box-sizing: border-box;margin-bottom: 0.5em;}#sk-container-id-4 div.sk-estimator:hover {background-color: #d4ebff;}#sk-container-id-4 div.sk-parallel-item::after {content: \"\";width: 100%;border-bottom: 1px solid gray;flex-grow: 1;}#sk-container-id-4 div.sk-label:hover label.sk-toggleable__label {background-color: #d4ebff;}#sk-container-id-4 div.sk-serial::before {content: \"\";position: absolute;border-left: 1px solid gray;box-sizing: border-box;top: 0;bottom: 0;left: 50%;z-index: 0;}#sk-container-id-4 div.sk-serial {display: flex;flex-direction: column;align-items: center;background-color: white;padding-right: 0.2em;padding-left: 0.2em;position: relative;}#sk-container-id-4 div.sk-item {position: relative;z-index: 1;}#sk-container-id-4 div.sk-parallel {display: flex;align-items: stretch;justify-content: center;background-color: white;position: relative;}#sk-container-id-4 div.sk-item::before, #sk-container-id-4 div.sk-parallel-item::before {content: \"\";position: absolute;border-left: 1px solid gray;box-sizing: border-box;top: 0;bottom: 0;left: 50%;z-index: -1;}#sk-container-id-4 div.sk-parallel-item {display: flex;flex-direction: column;z-index: 1;position: relative;background-color: white;}#sk-container-id-4 div.sk-parallel-item:first-child::after {align-self: flex-end;width: 50%;}#sk-container-id-4 div.sk-parallel-item:last-child::after {align-self: flex-start;width: 50%;}#sk-container-id-4 div.sk-parallel-item:only-child::after {width: 0;}#sk-container-id-4 div.sk-dashed-wrapped {border: 1px dashed gray;margin: 0 0.4em 0.5em 0.4em;box-sizing: border-box;padding-bottom: 0.4em;background-color: white;}#sk-container-id-4 div.sk-label label {font-family: monospace;font-weight: bold;display: inline-block;line-height: 1.2em;}#sk-container-id-4 div.sk-label-container {text-align: center;}#sk-container-id-4 div.sk-container {/* jupyter's `normalize.less` sets `[hidden] { display: none; }` but bootstrap.min.css set `[hidden] { display: none !important; }` so we also need the `!important` here to be able to override the default hidden behavior on the sphinx rendered scikit-learn.org. See: https://github.com/scikit-learn/scikit-learn/issues/21755 */display: inline-block !important;position: relative;}#sk-container-id-4 div.sk-text-repr-fallback {display: none;}</style><div id=\"sk-container-id-4\" class=\"sk-top-container\"><div class=\"sk-text-repr-fallback\"><pre>GridSearchCV(cv=2, estimator=GradientBoostingClassifier(random_state=42),\n",
       "             n_jobs=-1,\n",
       "             param_grid={&#x27;criterion&#x27;: [&#x27;friedman_mse&#x27;, &#x27;mae&#x27;],\n",
       "                         &#x27;learning_rate&#x27;: [0.01, 0.025, 0.05, 0.075, 0.1, 0.15,\n",
       "                                           0.2],\n",
       "                         &#x27;loss&#x27;: [&#x27;log_loss&#x27;], &#x27;max_depth&#x27;: [3, 5, 8],\n",
       "                         &#x27;max_features&#x27;: [&#x27;log2&#x27;, &#x27;sqrt&#x27;],\n",
       "                         &#x27;min_samples_leaf&#x27;: array([0.1       , 0.13636364, 0.17272727, 0.20909091, 0.24545455,\n",
       "       0.28181818, 0.31818182, 0.35454545, 0.39090909, 0.42727273,\n",
       "       0.46363636, 0.5       ]),\n",
       "                         &#x27;min_samples_split&#x27;: array([0.1       , 0.13636364, 0.17272727, 0.20909091, 0.24545455,\n",
       "       0.28181818, 0.31818182, 0.35454545, 0.39090909, 0.42727273,\n",
       "       0.46363636, 0.5       ]),\n",
       "                         &#x27;n_estimators&#x27;: [10],\n",
       "                         &#x27;subsample&#x27;: [0.5, 0.618, 0.8, 0.85, 0.9, 0.95, 1.0]})</pre><b>In a Jupyter environment, please rerun this cell to show the HTML representation or trust the notebook. <br />On GitHub, the HTML representation is unable to render, please try loading this page with nbviewer.org.</b></div><div class=\"sk-container\" hidden><div class=\"sk-item sk-dashed-wrapped\"><div class=\"sk-label-container\"><div class=\"sk-label sk-toggleable\"><input class=\"sk-toggleable__control sk-hidden--visually\" id=\"sk-estimator-id-4\" type=\"checkbox\" ><label for=\"sk-estimator-id-4\" class=\"sk-toggleable__label sk-toggleable__label-arrow\">GridSearchCV</label><div class=\"sk-toggleable__content\"><pre>GridSearchCV(cv=2, estimator=GradientBoostingClassifier(random_state=42),\n",
       "             n_jobs=-1,\n",
       "             param_grid={&#x27;criterion&#x27;: [&#x27;friedman_mse&#x27;, &#x27;mae&#x27;],\n",
       "                         &#x27;learning_rate&#x27;: [0.01, 0.025, 0.05, 0.075, 0.1, 0.15,\n",
       "                                           0.2],\n",
       "                         &#x27;loss&#x27;: [&#x27;log_loss&#x27;], &#x27;max_depth&#x27;: [3, 5, 8],\n",
       "                         &#x27;max_features&#x27;: [&#x27;log2&#x27;, &#x27;sqrt&#x27;],\n",
       "                         &#x27;min_samples_leaf&#x27;: array([0.1       , 0.13636364, 0.17272727, 0.20909091, 0.24545455,\n",
       "       0.28181818, 0.31818182, 0.35454545, 0.39090909, 0.42727273,\n",
       "       0.46363636, 0.5       ]),\n",
       "                         &#x27;min_samples_split&#x27;: array([0.1       , 0.13636364, 0.17272727, 0.20909091, 0.24545455,\n",
       "       0.28181818, 0.31818182, 0.35454545, 0.39090909, 0.42727273,\n",
       "       0.46363636, 0.5       ]),\n",
       "                         &#x27;n_estimators&#x27;: [10],\n",
       "                         &#x27;subsample&#x27;: [0.5, 0.618, 0.8, 0.85, 0.9, 0.95, 1.0]})</pre></div></div></div><div class=\"sk-parallel\"><div class=\"sk-parallel-item\"><div class=\"sk-item\"><div class=\"sk-label-container\"><div class=\"sk-label sk-toggleable\"><input class=\"sk-toggleable__control sk-hidden--visually\" id=\"sk-estimator-id-5\" type=\"checkbox\" ><label for=\"sk-estimator-id-5\" class=\"sk-toggleable__label sk-toggleable__label-arrow\">estimator: GradientBoostingClassifier</label><div class=\"sk-toggleable__content\"><pre>GradientBoostingClassifier(random_state=42)</pre></div></div></div><div class=\"sk-serial\"><div class=\"sk-item\"><div class=\"sk-estimator sk-toggleable\"><input class=\"sk-toggleable__control sk-hidden--visually\" id=\"sk-estimator-id-6\" type=\"checkbox\" ><label for=\"sk-estimator-id-6\" class=\"sk-toggleable__label sk-toggleable__label-arrow\">GradientBoostingClassifier</label><div class=\"sk-toggleable__content\"><pre>GradientBoostingClassifier(random_state=42)</pre></div></div></div></div></div></div></div></div></div></div>"
      ],
      "text/plain": [
       "GridSearchCV(cv=2, estimator=GradientBoostingClassifier(random_state=42),\n",
       "             n_jobs=-1,\n",
       "             param_grid={'criterion': ['friedman_mse', 'mae'],\n",
       "                         'learning_rate': [0.01, 0.025, 0.05, 0.075, 0.1, 0.15,\n",
       "                                           0.2],\n",
       "                         'loss': ['log_loss'], 'max_depth': [3, 5, 8],\n",
       "                         'max_features': ['log2', 'sqrt'],\n",
       "                         'min_samples_leaf': array([0.1       , 0.13636364, 0.17272727, 0.20909091, 0.24545455,\n",
       "       0.28181818, 0.31818182, 0.35454545, 0.39090909, 0.42727273,\n",
       "       0.46363636, 0.5       ]),\n",
       "                         'min_samples_split': array([0.1       , 0.13636364, 0.17272727, 0.20909091, 0.24545455,\n",
       "       0.28181818, 0.31818182, 0.35454545, 0.39090909, 0.42727273,\n",
       "       0.46363636, 0.5       ]),\n",
       "                         'n_estimators': [10],\n",
       "                         'subsample': [0.5, 0.618, 0.8, 0.85, 0.9, 0.95, 1.0]})"
      ]
     },
     "execution_count": 145,
     "metadata": {},
     "output_type": "execute_result"
    }
   ],
   "source": [
    "parameters = {\n",
    "    \"loss\":[\"log_loss\"],\n",
    "    \"learning_rate\": [0.01, 0.025, 0.05, 0.075, 0.1, 0.15, 0.2],\n",
    "    \"min_samples_split\": np.linspace(0.1, 0.5, 12),\n",
    "    \"min_samples_leaf\": np.linspace(0.1, 0.5, 12),\n",
    "    \"max_depth\":[3,5,8],\n",
    "    \"max_features\":[\"log2\",\"sqrt\"],\n",
    "    \"criterion\": [\"friedman_mse\",  \"mae\"],\n",
    "    \"subsample\":[0.5, 0.618, 0.8, 0.85, 0.9, 0.95, 1.0],\n",
    "    \"n_estimators\":[10],\n",
    "    }\n",
    "#passing the scoring function in the GridSearchCV\n",
    "Model1_tuned = GridSearchCV(GradientBoostingClassifier(random_state=42), parameters,cv=2, n_jobs=-1)\n",
    "\n",
    "Model1_tuned.fit(X_train_res1 , y_train_res1)\n",
    "\n",
    "#converting the Model1_tuned results to dataframe\n",
    "#tuned_results=pd.DataFrame.from_dict(Model1_tuned.cv_results_)"
   ]
  },
  {
   "cell_type": "code",
   "execution_count": 146,
   "id": "9159c965",
   "metadata": {},
   "outputs": [
    {
     "name": "stdout",
     "output_type": "stream",
     "text": [
      "[[1463  143]\n",
      " [ 449 8436]]\n"
     ]
    }
   ],
   "source": [
    "y_pred=Model1_tuned.predict(X_test)\n",
    "print(confusion_matrix(y_test,y_pred))"
   ]
  },
  {
   "cell_type": "code",
   "execution_count": 147,
   "id": "36b69579",
   "metadata": {},
   "outputs": [
    {
     "name": "stdout",
     "output_type": "stream",
     "text": [
      "[[1579   27]\n",
      " [  27 8858]]\n"
     ]
    }
   ],
   "source": [
    "y_pred=Model1.predict(X_test)\n",
    "print(confusion_matrix(y_test,y_pred))"
   ]
  },
  {
   "cell_type": "code",
   "execution_count": 148,
   "id": "bdf6bbfc",
   "metadata": {},
   "outputs": [],
   "source": [
    "#On enregistre le modèle sans tuning \n",
    "pickle.dump(Model1,open(\"best_model.pkl\",\"wb\"))"
   ]
  },
  {
   "cell_type": "code",
   "execution_count": null,
   "id": "df4ce1e6",
   "metadata": {},
   "outputs": [],
   "source": []
  }
 ],
 "metadata": {
  "kernelspec": {
   "display_name": "Python 3 (ipykernel)",
   "language": "python",
   "name": "python3"
  },
  "language_info": {
   "codemirror_mode": {
    "name": "ipython",
    "version": 3
   },
   "file_extension": ".py",
   "mimetype": "text/x-python",
   "name": "python",
   "nbconvert_exporter": "python",
   "pygments_lexer": "ipython3",
   "version": "3.10.5"
  }
 },
 "nbformat": 4,
 "nbformat_minor": 5
}
